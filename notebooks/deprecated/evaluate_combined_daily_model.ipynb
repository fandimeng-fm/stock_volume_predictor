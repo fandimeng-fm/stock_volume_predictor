{
 "cells": [
  {
   "cell_type": "code",
   "execution_count": 4,
   "metadata": {},
   "outputs": [],
   "source": [
    "from new_daily_model import *"
   ]
  },
  {
   "cell_type": "code",
   "execution_count": 4,
   "metadata": {},
   "outputs": [],
   "source": [
    "import warnings\n",
    "warnings.filterwarnings('ignore')"
   ]
  },
  {
   "cell_type": "code",
   "execution_count": 23,
   "metadata": {},
   "outputs": [],
   "source": [
    "daily_file = 'data/russell/russell_daily.csv'\n",
    "vix_file = 'data/vix_prices.csv'\n",
    "ticker = 'MCD'"
   ]
  },
  {
   "cell_type": "code",
   "execution_count": 4,
   "metadata": {},
   "outputs": [],
   "source": [
    "df = evaluation(daily_file, vix_file, ticker)"
   ]
  },
  {
   "cell_type": "code",
   "execution_count": 5,
   "metadata": {},
   "outputs": [
    {
     "data": {
      "text/html": [
       "<div>\n",
       "<style scoped>\n",
       "    .dataframe tbody tr th:only-of-type {\n",
       "        vertical-align: middle;\n",
       "    }\n",
       "\n",
       "    .dataframe tbody tr th {\n",
       "        vertical-align: top;\n",
       "    }\n",
       "\n",
       "    .dataframe thead th {\n",
       "        text-align: right;\n",
       "    }\n",
       "</style>\n",
       "<table border=\"1\" class=\"dataframe\">\n",
       "  <thead>\n",
       "    <tr style=\"text-align: right;\">\n",
       "      <th></th>\n",
       "      <th>total_vol_m</th>\n",
       "      <th>baseline</th>\n",
       "      <th>overnight_model</th>\n",
       "      <th>robustARMA_model</th>\n",
       "      <th>combined_model</th>\n",
       "      <th>combinedVIX_model</th>\n",
       "    </tr>\n",
       "    <tr>\n",
       "      <th>DATE</th>\n",
       "      <th></th>\n",
       "      <th></th>\n",
       "      <th></th>\n",
       "      <th></th>\n",
       "      <th></th>\n",
       "      <th></th>\n",
       "    </tr>\n",
       "  </thead>\n",
       "  <tbody>\n",
       "    <tr>\n",
       "      <th>2021-01-04</th>\n",
       "      <td>3740161.0</td>\n",
       "      <td>2283696.0</td>\n",
       "      <td>2346851.0</td>\n",
       "      <td>2382086.0</td>\n",
       "      <td>2382086.0</td>\n",
       "      <td>2385670.0</td>\n",
       "    </tr>\n",
       "    <tr>\n",
       "      <th>2021-01-05</th>\n",
       "      <td>2326128.0</td>\n",
       "      <td>3030228.0</td>\n",
       "      <td>3049286.0</td>\n",
       "      <td>3220874.0</td>\n",
       "      <td>3220874.0</td>\n",
       "      <td>3269758.0</td>\n",
       "    </tr>\n",
       "    <tr>\n",
       "      <th>2021-01-06</th>\n",
       "      <td>2919898.0</td>\n",
       "      <td>2547653.0</td>\n",
       "      <td>2671597.0</td>\n",
       "      <td>2626065.0</td>\n",
       "      <td>2626065.0</td>\n",
       "      <td>2651822.0</td>\n",
       "    </tr>\n",
       "    <tr>\n",
       "      <th>2021-01-07</th>\n",
       "      <td>2857405.0</td>\n",
       "      <td>2714025.0</td>\n",
       "      <td>2834854.0</td>\n",
       "      <td>2842639.0</td>\n",
       "      <td>2842639.0</td>\n",
       "      <td>2868132.0</td>\n",
       "    </tr>\n",
       "    <tr>\n",
       "      <th>2021-01-08</th>\n",
       "      <td>2533158.0</td>\n",
       "      <td>2771367.0</td>\n",
       "      <td>2871015.0</td>\n",
       "      <td>2868458.0</td>\n",
       "      <td>2868458.0</td>\n",
       "      <td>2870263.0</td>\n",
       "    </tr>\n",
       "    <tr>\n",
       "      <th>...</th>\n",
       "      <td>...</td>\n",
       "      <td>...</td>\n",
       "      <td>...</td>\n",
       "      <td>...</td>\n",
       "      <td>...</td>\n",
       "      <td>...</td>\n",
       "    </tr>\n",
       "    <tr>\n",
       "      <th>2021-12-27</th>\n",
       "      <td>1456776.0</td>\n",
       "      <td>1890886.0</td>\n",
       "      <td>1898078.0</td>\n",
       "      <td>1736680.0</td>\n",
       "      <td>1736680.0</td>\n",
       "      <td>1696755.0</td>\n",
       "    </tr>\n",
       "    <tr>\n",
       "      <th>2021-12-28</th>\n",
       "      <td>1226092.0</td>\n",
       "      <td>1754779.0</td>\n",
       "      <td>1747755.0</td>\n",
       "      <td>1643168.0</td>\n",
       "      <td>1643168.0</td>\n",
       "      <td>1602844.0</td>\n",
       "    </tr>\n",
       "    <tr>\n",
       "      <th>2021-12-29</th>\n",
       "      <td>1256084.0</td>\n",
       "      <td>1593449.0</td>\n",
       "      <td>1554334.0</td>\n",
       "      <td>1461267.0</td>\n",
       "      <td>1461267.0</td>\n",
       "      <td>1424886.0</td>\n",
       "    </tr>\n",
       "    <tr>\n",
       "      <th>2021-12-30</th>\n",
       "      <td>1651587.0</td>\n",
       "      <td>1504881.0</td>\n",
       "      <td>1481746.0</td>\n",
       "      <td>1420748.0</td>\n",
       "      <td>1420748.0</td>\n",
       "      <td>1382627.0</td>\n",
       "    </tr>\n",
       "    <tr>\n",
       "      <th>2021-12-31</th>\n",
       "      <td>1465794.0</td>\n",
       "      <td>1629301.0</td>\n",
       "      <td>1631787.0</td>\n",
       "      <td>1638283.0</td>\n",
       "      <td>1638283.0</td>\n",
       "      <td>1595904.0</td>\n",
       "    </tr>\n",
       "  </tbody>\n",
       "</table>\n",
       "<p>252 rows × 6 columns</p>\n",
       "</div>"
      ],
      "text/plain": [
       "            total_vol_m   baseline  overnight_model  robustARMA_model  \\\n",
       "DATE                                                                    \n",
       "2021-01-04    3740161.0  2283696.0        2346851.0         2382086.0   \n",
       "2021-01-05    2326128.0  3030228.0        3049286.0         3220874.0   \n",
       "2021-01-06    2919898.0  2547653.0        2671597.0         2626065.0   \n",
       "2021-01-07    2857405.0  2714025.0        2834854.0         2842639.0   \n",
       "2021-01-08    2533158.0  2771367.0        2871015.0         2868458.0   \n",
       "...                 ...        ...              ...               ...   \n",
       "2021-12-27    1456776.0  1890886.0        1898078.0         1736680.0   \n",
       "2021-12-28    1226092.0  1754779.0        1747755.0         1643168.0   \n",
       "2021-12-29    1256084.0  1593449.0        1554334.0         1461267.0   \n",
       "2021-12-30    1651587.0  1504881.0        1481746.0         1420748.0   \n",
       "2021-12-31    1465794.0  1629301.0        1631787.0         1638283.0   \n",
       "\n",
       "            combined_model  combinedVIX_model  \n",
       "DATE                                           \n",
       "2021-01-04       2382086.0          2385670.0  \n",
       "2021-01-05       3220874.0          3269758.0  \n",
       "2021-01-06       2626065.0          2651822.0  \n",
       "2021-01-07       2842639.0          2868132.0  \n",
       "2021-01-08       2868458.0          2870263.0  \n",
       "...                    ...                ...  \n",
       "2021-12-27       1736680.0          1696755.0  \n",
       "2021-12-28       1643168.0          1602844.0  \n",
       "2021-12-29       1461267.0          1424886.0  \n",
       "2021-12-30       1420748.0          1382627.0  \n",
       "2021-12-31       1638283.0          1595904.0  \n",
       "\n",
       "[252 rows x 6 columns]"
      ]
     },
     "execution_count": 5,
     "metadata": {},
     "output_type": "execute_result"
    }
   ],
   "source": [
    "df"
   ]
  },
  {
   "cell_type": "code",
   "execution_count": 6,
   "metadata": {},
   "outputs": [
    {
     "data": {
      "text/html": [
       "<div>\n",
       "<style scoped>\n",
       "    .dataframe tbody tr th:only-of-type {\n",
       "        vertical-align: middle;\n",
       "    }\n",
       "\n",
       "    .dataframe tbody tr th {\n",
       "        vertical-align: top;\n",
       "    }\n",
       "\n",
       "    .dataframe thead th {\n",
       "        text-align: right;\n",
       "    }\n",
       "</style>\n",
       "<table border=\"1\" class=\"dataframe\">\n",
       "  <thead>\n",
       "    <tr style=\"text-align: right;\">\n",
       "      <th></th>\n",
       "      <th>total_vol_m</th>\n",
       "      <th>baseline</th>\n",
       "      <th>overnight_model</th>\n",
       "      <th>robustARMA_model</th>\n",
       "      <th>combined_model</th>\n",
       "      <th>combinedVIX_model</th>\n",
       "    </tr>\n",
       "    <tr>\n",
       "      <th>DATE</th>\n",
       "      <th></th>\n",
       "      <th></th>\n",
       "      <th></th>\n",
       "      <th></th>\n",
       "      <th></th>\n",
       "      <th></th>\n",
       "    </tr>\n",
       "  </thead>\n",
       "  <tbody>\n",
       "    <tr>\n",
       "      <th>2021-03-17</th>\n",
       "      <td>4705113.0</td>\n",
       "      <td>3586646.0</td>\n",
       "      <td>4443779.0</td>\n",
       "      <td>3260256.0</td>\n",
       "      <td>4113131.0</td>\n",
       "      <td>4642087.0</td>\n",
       "    </tr>\n",
       "    <tr>\n",
       "      <th>2021-07-28</th>\n",
       "      <td>4637739.0</td>\n",
       "      <td>2669435.0</td>\n",
       "      <td>3514077.0</td>\n",
       "      <td>2862416.0</td>\n",
       "      <td>3522803.0</td>\n",
       "      <td>3855394.0</td>\n",
       "    </tr>\n",
       "    <tr>\n",
       "      <th>2021-10-27</th>\n",
       "      <td>5012947.0</td>\n",
       "      <td>2744869.0</td>\n",
       "      <td>3574924.0</td>\n",
       "      <td>2976376.0</td>\n",
       "      <td>3644848.0</td>\n",
       "      <td>4139027.0</td>\n",
       "    </tr>\n",
       "    <tr>\n",
       "      <th>2021-11-26</th>\n",
       "      <td>2488519.0</td>\n",
       "      <td>2249988.0</td>\n",
       "      <td>2923555.0</td>\n",
       "      <td>2465941.0</td>\n",
       "      <td>3001485.0</td>\n",
       "      <td>3246606.0</td>\n",
       "    </tr>\n",
       "  </tbody>\n",
       "</table>\n",
       "</div>"
      ],
      "text/plain": [
       "            total_vol_m   baseline  overnight_model  robustARMA_model  \\\n",
       "DATE                                                                    \n",
       "2021-03-17    4705113.0  3586646.0        4443779.0         3260256.0   \n",
       "2021-07-28    4637739.0  2669435.0        3514077.0         2862416.0   \n",
       "2021-10-27    5012947.0  2744869.0        3574924.0         2976376.0   \n",
       "2021-11-26    2488519.0  2249988.0        2923555.0         2465941.0   \n",
       "\n",
       "            combined_model  combinedVIX_model  \n",
       "DATE                                           \n",
       "2021-03-17       4113131.0          4642087.0  \n",
       "2021-07-28       3522803.0          3855394.0  \n",
       "2021-10-27       3644848.0          4139027.0  \n",
       "2021-11-26       3001485.0          3246606.0  "
      ]
     },
     "execution_count": 6,
     "metadata": {},
     "output_type": "execute_result"
    }
   ],
   "source": [
    "df.loc[df['robustARMA_model'] != df['combined_model']]"
   ]
  },
  {
   "cell_type": "code",
   "execution_count": 7,
   "metadata": {},
   "outputs": [],
   "source": [
    "df['baseline_error'] = abs(df['total_vol_m'] - df['baseline'])/df['total_vol_m']\n",
    "df['overnight_error'] = abs(df['total_vol_m'] - df['overnight_model'])/df['total_vol_m']\n",
    "df['robustARMA_error'] = abs(df['total_vol_m'] - df['robustARMA_model'])/df['total_vol_m']\n",
    "df['combined_error'] = abs(df['total_vol_m'] - df['combined_model'])/df['total_vol_m']\n",
    "df['combinedVIX_error'] = abs(df['total_vol_m'] - df['combinedVIX_model'])/df['total_vol_m']"
   ]
  },
  {
   "cell_type": "code",
   "execution_count": 8,
   "metadata": {},
   "outputs": [
    {
     "name": "stdout",
     "output_type": "stream",
     "text": [
      "baseline: 0.20491459097689185\n",
      "overnight: 0.21166960608048954\n",
      "robustARMA: 0.20426867278628247\n",
      "combined: 0.20323713044593922\n",
      "combinedVIX: 0.1982420754457893\n"
     ]
    }
   ],
   "source": [
    "print(f\"baseline: {df['baseline_error'].mean()}\")\n",
    "print(f\"overnight: {df['overnight_error'].mean()}\")\n",
    "print(f\"robustARMA: {df['robustARMA_error'].mean()}\")\n",
    "print(f\"combined: {df['combined_error'].mean()}\")\n",
    "print(f\"combinedVIX: {df['combinedVIX_error'].mean()}\")"
   ]
  },
  {
   "cell_type": "code",
   "execution_count": 5,
   "metadata": {},
   "outputs": [
    {
     "data": {
      "text/html": [
       "<div>\n",
       "<style scoped>\n",
       "    .dataframe tbody tr th:only-of-type {\n",
       "        vertical-align: middle;\n",
       "    }\n",
       "\n",
       "    .dataframe tbody tr th {\n",
       "        vertical-align: top;\n",
       "    }\n",
       "\n",
       "    .dataframe thead th {\n",
       "        text-align: right;\n",
       "    }\n",
       "</style>\n",
       "<table border=\"1\" class=\"dataframe\">\n",
       "  <thead>\n",
       "    <tr style=\"text-align: right;\">\n",
       "      <th></th>\n",
       "      <th>Date</th>\n",
       "      <th>vix</th>\n",
       "    </tr>\n",
       "  </thead>\n",
       "  <tbody>\n",
       "    <tr>\n",
       "      <th>567</th>\n",
       "      <td>20210402</td>\n",
       "      <td>NaN</td>\n",
       "    </tr>\n",
       "    <tr>\n",
       "      <th>646</th>\n",
       "      <td>20210725</td>\n",
       "      <td>NaN</td>\n",
       "    </tr>\n",
       "    <tr>\n",
       "      <th>754</th>\n",
       "      <td>20211224</td>\n",
       "      <td>NaN</td>\n",
       "    </tr>\n",
       "  </tbody>\n",
       "</table>\n",
       "</div>"
      ],
      "text/plain": [
       "         Date  vix\n",
       "567  20210402  NaN\n",
       "646  20210725  NaN\n",
       "754  20211224  NaN"
      ]
     },
     "execution_count": 5,
     "metadata": {},
     "output_type": "execute_result"
    }
   ],
   "source": [
    "vix = pd.read_csv(vix_file)\n",
    "vix.loc[vix['vix'].isna()]"
   ]
  },
  {
   "cell_type": "code",
   "execution_count": 10,
   "metadata": {},
   "outputs": [],
   "source": [
    "    with open(\"data/russell/Russell_Sample.txt\", 'r') as f:\n",
    "        tickers = f.read().splitlines()"
   ]
  },
  {
   "cell_type": "code",
   "execution_count": 11,
   "metadata": {},
   "outputs": [
    {
     "data": {
      "text/plain": [
       "['ABC',\n",
       " 'PXD',\n",
       " 'ALLE',\n",
       " 'CRWD',\n",
       " 'LNT',\n",
       " 'SGEN',\n",
       " 'LUMN',\n",
       " 'DUK',\n",
       " 'CSX',\n",
       " 'NFLX',\n",
       " 'EVBG',\n",
       " 'CSGP',\n",
       " 'TOL',\n",
       " 'OPEN',\n",
       " 'VICI',\n",
       " 'LEA',\n",
       " 'WWD',\n",
       " 'BRK.B',\n",
       " 'PCG',\n",
       " 'EMN',\n",
       " 'MCHP',\n",
       " 'WTW',\n",
       " 'HCA',\n",
       " 'PEP',\n",
       " 'BLDR',\n",
       " 'EOG',\n",
       " 'GPK',\n",
       " 'AIRC',\n",
       " 'LEN',\n",
       " 'ANET',\n",
       " 'APH',\n",
       " 'MRO',\n",
       " 'RNR',\n",
       " 'PEG',\n",
       " 'G',\n",
       " 'FANG',\n",
       " 'ISRG',\n",
       " 'TRMB',\n",
       " 'INCY',\n",
       " 'BSY',\n",
       " 'TFX',\n",
       " 'EVRG',\n",
       " 'FLO',\n",
       " 'PII',\n",
       " 'ELS',\n",
       " 'APA',\n",
       " 'OLN',\n",
       " 'MCD',\n",
       " 'PCTY',\n",
       " 'CR',\n",
       " 'ENSG',\n",
       " 'STAR',\n",
       " 'GME',\n",
       " 'EXTN',\n",
       " 'SILK',\n",
       " 'ESE',\n",
       " 'GCO',\n",
       " 'CRC',\n",
       " 'RDUS',\n",
       " 'HSKA',\n",
       " 'VYGR',\n",
       " 'PWOD',\n",
       " 'SR',\n",
       " 'NATH',\n",
       " 'CPRX',\n",
       " 'LLNW',\n",
       " 'YCBD',\n",
       " 'NP',\n",
       " 'STOK',\n",
       " 'HEES',\n",
       " 'BHB',\n",
       " 'TTI',\n",
       " 'GCBC',\n",
       " 'STNG',\n",
       " 'TRWH',\n",
       " 'CHRA',\n",
       " 'FBM',\n",
       " 'CHCO',\n",
       " 'GEF',\n",
       " 'BSGM',\n",
       " 'PEBK',\n",
       " 'SNR',\n",
       " 'CSLT',\n",
       " 'FRBA',\n",
       " 'EBS',\n",
       " 'HMTV',\n",
       " 'TMDX',\n",
       " 'AIMT',\n",
       " 'SONA',\n",
       " 'ROAN',\n",
       " 'AXGN',\n",
       " 'BUSE',\n",
       " 'MIK',\n",
       " 'LBC',\n",
       " 'SGMO',\n",
       " 'SGRY',\n",
       " 'FDBC',\n",
       " 'STC',\n",
       " 'TH',\n",
       " 'UUUU',\n",
       " 'VC',\n",
       " 'RUBI',\n",
       " 'VGR',\n",
       " 'AYR',\n",
       " 'FISI',\n",
       " 'UMBF',\n",
       " 'JOE',\n",
       " 'SBCF',\n",
       " 'FLXS',\n",
       " 'YRCW',\n",
       " 'CARA',\n",
       " 'APPF',\n",
       " 'GPRO',\n",
       " 'KRA',\n",
       " 'PTCT',\n",
       " 'RECN',\n",
       " 'OSW',\n",
       " 'DHT',\n",
       " 'MOV',\n",
       " 'SFL',\n",
       " 'HSII',\n",
       " 'EROS',\n",
       " 'MUSA',\n",
       " 'MCRB',\n",
       " 'EVRI',\n",
       " 'KRUS',\n",
       " 'NXRT',\n",
       " 'NBHC',\n",
       " 'PRK',\n",
       " 'RGEN',\n",
       " 'CBMG',\n",
       " 'EZPW',\n",
       " 'AMSC',\n",
       " 'ARA',\n",
       " 'MC',\n",
       " 'QADA',\n",
       " 'ETM',\n",
       " 'AGM',\n",
       " 'ANH',\n",
       " 'BIG',\n",
       " 'CHMA',\n",
       " 'JOUT',\n",
       " 'BWFG',\n",
       " 'XBIT',\n",
       " 'STXB',\n",
       " 'DOC',\n",
       " 'NX',\n",
       " 'HUD',\n",
       " 'OPTN',\n",
       " 'AMAL']"
      ]
     },
     "execution_count": 11,
     "metadata": {},
     "output_type": "execute_result"
    }
   ],
   "source": [
    "tickers"
   ]
  },
  {
   "cell_type": "code",
   "execution_count": 5,
   "metadata": {},
   "outputs": [],
   "source": [
    "import plotly.express as px\n",
    "import plotly.graph_objects as go"
   ]
  },
  {
   "cell_type": "code",
   "execution_count": 12,
   "metadata": {},
   "outputs": [
    {
     "data": {
      "text/plain": [
       "'                      \\nfor col in models.columns[2:]:\\n    models[col] = (models[\\'baseline\\'] - models[col])\\n    \\nfig = px.bar(models, x=\"ticker\", y=models.columns[2:], \\n             labels={\\'variable\\':\\'Model\\', \\'value\\':\\'Error Improvement % Over Baseline in 2021\\'}, barmode=\"group\")\\nfig.update_xaxes(tickangle=-45)\\nfig.show()\\n'"
      ]
     },
     "execution_count": 12,
     "metadata": {},
     "output_type": "execute_result"
    }
   ],
   "source": [
    "models = pd.read_csv('data/daily_compare/model_comparison.csv')\n",
    "\n",
    "models.dropna(inplace=True)\n",
    "models = models.loc[~(models['ticker'].isin(['CHRA','ANET','CSX', 'GME']))]\n",
    "                   \n",
    "for col in models.columns[2:]:\n",
    "    models[col] = (models['baseline'] - models[col])\n",
    "    \n",
    "fig = px.bar(models, x=\"ticker\", y=models.columns[2:], \n",
    "             labels={'variable':'Model', 'value':'Error Improvement % Over Baseline in 2021'}, barmode=\"group\")\n",
    "fig.update_xaxes(tickangle=-45)\n",
    "fig.show()"
   ]
  },
  {
   "cell_type": "code",
   "execution_count": 13,
   "metadata": {},
   "outputs": [],
   "source": [
    "models.set_index('ticker', inplace=True)"
   ]
  },
  {
   "cell_type": "code",
   "execution_count": 14,
   "metadata": {},
   "outputs": [],
   "source": [
    "models['best'] = models.idxmin(axis=1)"
   ]
  },
  {
   "cell_type": "code",
   "execution_count": 15,
   "metadata": {},
   "outputs": [
    {
     "data": {
      "text/plain": [
       "robust_overnight_vix    68\n",
       "baseline                44\n",
       "robustARMA              14\n",
       "robust_overnight         7\n",
       "overnight                1\n",
       "Name: best, dtype: int64"
      ]
     },
     "execution_count": 15,
     "metadata": {},
     "output_type": "execute_result"
    }
   ],
   "source": [
    "models['best'].value_counts()"
   ]
  },
  {
   "cell_type": "code",
   "execution_count": 18,
   "metadata": {},
   "outputs": [
    {
     "data": {
      "text/plain": [
       "baseline                0.341951\n",
       "overnight               0.342940\n",
       "robustARMA              0.326731\n",
       "robust_overnight        0.328112\n",
       "robust_overnight_vix    0.327053\n",
       "dtype: float64"
      ]
     },
     "execution_count": 18,
     "metadata": {},
     "output_type": "execute_result"
    }
   ],
   "source": [
    "models[1:].mean()"
   ]
  },
  {
   "cell_type": "code",
   "execution_count": null,
   "metadata": {},
   "outputs": [],
   "source": [
    "#avg improvement when model is better\n",
    "models.loc[models['robust_overnight_vix'] > 0].mean()[1:]"
   ]
  },
  {
   "cell_type": "code",
   "execution_count": null,
   "metadata": {},
   "outputs": [],
   "source": [
    "#avg degrade when model is worse\n",
    "models.loc[models['robust_overnight_vix'] < 0].mean()[1:]"
   ]
  },
  {
   "cell_type": "code",
   "execution_count": null,
   "metadata": {},
   "outputs": [],
   "source": [
    "pct_improve = len(models.loc[models['robust_overnight_vix'] > 0])/len(models)\n",
    "pct_improve"
   ]
  },
  {
   "cell_type": "markdown",
   "metadata": {},
   "source": [
    "#### Conclusion: Need better filtering or dynamic model selection to decide if we should include overnight gap and/or VIX. robust ARMA performs consistency enough that it should be included. Need to try robust + VIX (exclude overnight gap)"
   ]
  },
  {
   "cell_type": "code",
   "execution_count": null,
   "metadata": {},
   "outputs": [],
   "source": [
    "fig = px.bar(models.loc[models['robust_overnight_vix'] > 0], x=\"ticker\", y=models.columns[2:], \n",
    "             labels={'variable':'Model', 'value':'Error Improvement % Over Baseline in 2021'}, barmode=\"group\")\n",
    "fig.update_xaxes(tickangle=-45)\n",
    "fig.show()"
   ]
  },
  {
   "cell_type": "code",
   "execution_count": null,
   "metadata": {},
   "outputs": [],
   "source": [
    "fig = px.bar(models.loc[models['robust_overnight_vix'] < 0], x=\"ticker\", y=models.columns[2:], \n",
    "             labels={'variable':'Model', 'value':'Error Improvement % Over Baseline in 2021'}, barmode=\"group\")\n",
    "fig.update_xaxes(tickangle=-45)\n",
    "fig.show()"
   ]
  },
  {
   "cell_type": "code",
   "execution_count": null,
   "metadata": {},
   "outputs": [],
   "source": []
  },
  {
   "cell_type": "code",
   "execution_count": null,
   "metadata": {},
   "outputs": [],
   "source": []
  },
  {
   "cell_type": "code",
   "execution_count": null,
   "metadata": {},
   "outputs": [],
   "source": []
  }
 ],
 "metadata": {
  "kernelspec": {
   "display_name": "Python 3",
   "language": "python",
   "name": "python3"
  },
  "language_info": {
   "codemirror_mode": {
    "name": "ipython",
    "version": 3
   },
   "file_extension": ".py",
   "mimetype": "text/x-python",
   "name": "python",
   "nbconvert_exporter": "python",
   "pygments_lexer": "ipython3",
   "version": "3.7.6"
  }
 },
 "nbformat": 4,
 "nbformat_minor": 4
}
