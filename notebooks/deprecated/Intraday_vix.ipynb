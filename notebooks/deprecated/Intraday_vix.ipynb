{
 "cells": [
  {
   "cell_type": "code",
   "execution_count": 359,
   "metadata": {},
   "outputs": [],
   "source": [
    "from baseline.main_model import *"
   ]
  },
  {
   "cell_type": "code",
   "execution_count": 360,
   "metadata": {},
   "outputs": [],
   "source": [
    "pd.options.display.float_format = '{:.4f}'.format"
   ]
  },
  {
   "cell_type": "code",
   "execution_count": 361,
   "metadata": {},
   "outputs": [],
   "source": [
    "vix = pd.read_csv('vix_prices.csv')"
   ]
  },
  {
   "cell_type": "code",
   "execution_count": 362,
   "metadata": {},
   "outputs": [],
   "source": [
    "import copy"
   ]
  },
  {
   "cell_type": "code",
   "execution_count": 363,
   "metadata": {},
   "outputs": [],
   "source": [
    "intraday_file = 'fandi_intraday_data.csv'\n",
    "daily_file = 'fandi_daily.csv'\n",
    "ticker = 'GOOGL'\n",
    "date = '2021-12-08'\n",
    "test_date  = copy.deepcopy(date)"
   ]
  },
  {
   "cell_type": "code",
   "execution_count": 364,
   "metadata": {},
   "outputs": [],
   "source": [
    "def add_vix_data(daily_data, vix):\n",
    "    vix['Date'] = pd.to_datetime(vix['Date'], format='%Y%m%d')\n",
    "    vix['vix'] = vix['vix'].shift() #since vix values are close of day price, shift so date associated with vix of day prior\n",
    "    daily_data = daily_data.merge(vix, left_on = 'DATE', right_on = 'Date', how='left')\n",
    "    daily_data.drop(columns=['Date'], inplace=True)\n",
    "    \n",
    "    return daily_data\n",
    "\n",
    "def agg_intraday_daily(intraday_data, daily_data):\n",
    "    '''Aggregate intraday and daily data for a specific symbol.'''\n",
    "\n",
    "    intraday_data, daily_data = eliminate_half_days(intraday_data, daily_data)\n",
    "    daily_data['daily_vol_pct'] = daily_data['total_vol_m'].rank(pct=True)\n",
    "\n",
    "    df = intraday_data.merge(daily_data[['DATE', 'symbol', 'total_vol_m', 'overnight_gap', 'daily_vol_pct', 'vix']], how='left', left_on=['date', 'symbol'],\n",
    "                     right_on=['DATE', 'symbol']) #changed\n",
    "    df.index = pd.DatetimeIndex(df['datetime'])\n",
    "    df['time'] = df.index.time\n",
    "\n",
    "    df.drop(columns=['DATE', 'datetime'], inplace=True)\n",
    "\n",
    "    df = df.between_time('09:31:00', '15:59:00')\n",
    "    df['%_vol'] = df['size'] / df['total_vol_m']\n",
    "\n",
    "    df.dropna(inplace=True)\n",
    "\n",
    "    return df\n",
    "\n",
    "def regress_volume(data):\n",
    "    '''Regress volume data for each minute.'''\n",
    "    x = data.groupby(data.index.date)[['overnight_gap', 'daily_vol_pct', 'vix']].first()\n",
    "    y_df = data.pivot(index = 'date', columns='time', values='%_vol')\n",
    "    y_df.fillna(0, inplace=True)\n",
    "\n",
    "    coef = []\n",
    "    intercept = []\n",
    "    for t in data['time'].unique():\n",
    "        y = y_df[t]\n",
    "\n",
    "        regression_model = LinearRegression()\n",
    "        regression_model.fit(x, y)\n",
    "\n",
    "        coef.append(regression_model.coef_)\n",
    "        intercept.append(regression_model.intercept_)\n",
    "\n",
    "    coef = pd.DataFrame(coef, columns = [ 'b1' , 'b2', 'b3']) #changed\n",
    "    coef['b0'] = intercept\n",
    "    coef.index = data['time'].unique()\n",
    "\n",
    "    return coef\n",
    "\n",
    "def predict_intraday(coef, historical, estimated_daily, overnight_gap):\n",
    "    '''Predicts intraday volume for given date'''\n",
    "    est_daily_vol = estimated_daily['Daily']\n",
    "    vol_pct = stats.percentileofscore(historical['total_vol_m'], est_daily_vol)/100\n",
    "    vix = historical['vix'][-1]\n",
    "\n",
    "    coef['est_%_vol'] = coef['b0'] + overnight_gap * coef['b1'] + vol_pct * coef['b2'] + vix * coef['b3'] #changed\n",
    "    coef['est_%_vol_smooth'] = coef['est_%_vol'].rolling(5).mean().shift(-2)\n",
    "\n",
    "    coef['est_vol'] = round(coef['est_%_vol_smooth'] * est_daily_vol)\n",
    "    coef.loc[coef['est_vol'].isnull(), 'est_vol'] = round(coef['est_%_vol'] * est_daily_vol) #est_vol for first 2 mins and last 2 mins are not smoothed\n",
    "\n",
    "    return coef #changed"
   ]
  },
  {
   "cell_type": "code",
   "execution_count": 365,
   "metadata": {},
   "outputs": [],
   "source": [
    "date = datetime.strptime(date, '%Y-%m-%d').date()\n",
    "daily_data, intraday_data, overnight_gap = clean_data(intraday_file, daily_file, ticker, date)\n",
    "daily_data = add_vix_data(daily_data, vix)\n",
    "historical = agg_intraday_daily(intraday_data, daily_data)"
   ]
  },
  {
   "cell_type": "code",
   "execution_count": 366,
   "metadata": {},
   "outputs": [],
   "source": [
    "estimated_daily = DailyModel(daily_data)\n",
    "coef = regress_volume(historical)\n",
    "estimated_intraday = predict_intraday(coef, historical, estimated_daily, overnight_gap)"
   ]
  },
  {
   "cell_type": "code",
   "execution_count": 367,
   "metadata": {},
   "outputs": [],
   "source": [
    "estimated_intraday.dropna(inplace=True)"
   ]
  },
  {
   "cell_type": "code",
   "execution_count": 368,
   "metadata": {},
   "outputs": [],
   "source": [
    "GOOG = pd.read_csv(intraday_file)"
   ]
  },
  {
   "cell_type": "code",
   "execution_count": 369,
   "metadata": {},
   "outputs": [],
   "source": [
    "google = GOOG[GOOG['sym_root']=='GOOG']\n",
    "google = google[google['sym_suffix'] == 'L']\n",
    "google = google[google['date'] == str(test_date)]"
   ]
  },
  {
   "cell_type": "code",
   "execution_count": 370,
   "metadata": {},
   "outputs": [],
   "source": [
    "google['TIME_M']  = pd.to_timedelta(google['time'])\n",
    "google['date'] = pd.to_datetime(google['date']) #format='%Y%m%d')\n",
    "google['datetime'] = google['date'] + google['TIME_M']\n",
    "google.set_index('datetime', inplace = True)\n",
    "google = google.between_time('9:33:00', '15:57:00')"
   ]
  },
  {
   "cell_type": "code",
   "execution_count": 371,
   "metadata": {},
   "outputs": [],
   "source": [
    "def find_metrics(est_data, real_data):\n",
    "    abs_val = np.abs(est_data['est_vol'].values - real_data['size'].values)/ real_data['size'].values\n",
    "    return np.sum(abs_val)/len(abs_val)"
   ]
  },
  {
   "cell_type": "code",
   "execution_count": 372,
   "metadata": {},
   "outputs": [
    {
     "data": {
      "text/plain": [
       "1.9823819102913185"
      ]
     },
     "execution_count": 372,
     "metadata": {},
     "output_type": "execute_result"
    }
   ],
   "source": [
    "find_metrics(estimated_intraday, google)"
   ]
  },
  {
   "cell_type": "code",
   "execution_count": 373,
   "metadata": {},
   "outputs": [
    {
     "name": "stdout",
     "output_type": "stream",
     "text": [
      "2021-12-08\n"
     ]
    }
   ],
   "source": [
    "print(test_date)"
   ]
  },
  {
   "cell_type": "markdown",
   "metadata": {},
   "source": [
    "check 12/8 later"
   ]
  }
 ],
 "metadata": {
  "interpreter": {
   "hash": "72d596b9a1d01707ed6ddc3babd48ed8ad376ce90e0f520932d5a72a571e6380"
  },
  "kernelspec": {
   "display_name": "Python 3.8.2 ('base')",
   "language": "python",
   "name": "python3"
  },
  "language_info": {
   "codemirror_mode": {
    "name": "ipython",
    "version": 3
   },
   "file_extension": ".py",
   "mimetype": "text/x-python",
   "name": "python",
   "nbconvert_exporter": "python",
   "pygments_lexer": "ipython3",
   "version": "3.8.2"
  }
 },
 "nbformat": 4,
 "nbformat_minor": 4
}
