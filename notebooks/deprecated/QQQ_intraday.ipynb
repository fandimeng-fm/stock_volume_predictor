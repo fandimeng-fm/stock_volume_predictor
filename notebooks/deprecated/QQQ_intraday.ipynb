{
 "cells": [
  {
   "cell_type": "markdown",
   "metadata": {},
   "source": [
    "# TASK 1\n",
    "\n",
    "\n",
    "| Team Member | Date |\n",
    "| :--: | :--: |\n",
    "|Sushan Zhao, Xiaotian Li| 04/04/2022 |\n"
   ]
  },
  {
   "cell_type": "markdown",
   "metadata": {},
   "source": [
    "## 1. Introduction\n",
    "\n",
    "Given a set of stocks (in our case, e.g., Google), when exploring their volumes at opening and closing, we noticed that there exists some jumps every 5/10 minutes. In this notebook, we try to figure out whether this phenomenon is common in the universe of **S&P 500**. Also, we tried to recognize those jumps. We choose year 2021 as our time window."
   ]
  },
  {
   "cell_type": "markdown",
   "metadata": {},
   "source": [
    "## 2. Experiment"
   ]
  },
  {
   "cell_type": "markdown",
   "metadata": {},
   "source": [
    "Note that our **data source** is WRDS."
   ]
  },
  {
   "cell_type": "markdown",
   "metadata": {},
   "source": [
    "A little note before analysis: it's almost always better to use relative path than absolute path. For usage like `'./'`, one dot means the current working directory, you can check it by:"
   ]
  },
  {
   "cell_type": "code",
   "execution_count": null,
   "metadata": {},
   "outputs": [],
   "source": [
    "import os\n",
    "os.getcwd() # get current working directory"
   ]
  },
  {
   "cell_type": "markdown",
   "metadata": {},
   "source": [
    "For usage like `'../'`, the two dots means the parent directory. For example, assume your current working folder is `Folder2` and your folder structure is `'/Folder1/Folder2/'`, then `'./'` represents `'/Folder2/'`; `'../'` represents `/Folder1/`.\n",
    "\n",
    "The working directory usually is the path where this .ipynb/.py file at."
   ]
  },
  {
   "cell_type": "markdown",
   "metadata": {},
   "source": [
    "### 2.1 Data"
   ]
  },
  {
   "cell_type": "code",
   "execution_count": 87,
   "metadata": {},
   "outputs": [],
   "source": [
    "import numpy as np\n",
    "import pandas as pd\n",
    "import matplotlib.pyplot as plt"
   ]
  },
  {
   "cell_type": "markdown",
   "metadata": {},
   "source": [
    "Read in the data and include the basic information:"
   ]
  },
  {
   "cell_type": "code",
   "execution_count": 88,
   "metadata": {},
   "outputs": [],
   "source": [
    "# the parse_dates parameter makes the dtype of the corresponding columns to be datetime64[ns],\n",
    "# if two columns were provided, they can be automatically concatenated \n",
    "intraday_data = pd.read_csv('../data/SP500_intraday_2021.csv') \n",
    "daily_data = pd.read_csv('../data/SP500_daily_2021.csv')"
   ]
  },
  {
   "cell_type": "code",
   "execution_count": 89,
   "metadata": {},
   "outputs": [
    {
     "data": {
      "text/plain": [
       "((62274970, 5), (18900, 8))"
      ]
     },
     "execution_count": 89,
     "metadata": {},
     "output_type": "execute_result"
    }
   ],
   "source": [
    "intraday_data.shape, daily_data.shape"
   ]
  },
  {
   "cell_type": "code",
   "execution_count": 90,
   "metadata": {},
   "outputs": [
    {
     "data": {
      "text/html": [
       "<div>\n",
       "<style scoped>\n",
       "    .dataframe tbody tr th:only-of-type {\n",
       "        vertical-align: middle;\n",
       "    }\n",
       "\n",
       "    .dataframe tbody tr th {\n",
       "        vertical-align: top;\n",
       "    }\n",
       "\n",
       "    .dataframe thead th {\n",
       "        text-align: right;\n",
       "    }\n",
       "</style>\n",
       "<table border=\"1\" class=\"dataframe\">\n",
       "  <thead>\n",
       "    <tr style=\"text-align: right;\">\n",
       "      <th></th>\n",
       "      <th>date</th>\n",
       "      <th>time</th>\n",
       "      <th>sym_root</th>\n",
       "      <th>sym_suffix</th>\n",
       "      <th>size</th>\n",
       "    </tr>\n",
       "  </thead>\n",
       "  <tbody>\n",
       "    <tr>\n",
       "      <th>0</th>\n",
       "      <td>2021-01-04</td>\n",
       "      <td>04:00:00</td>\n",
       "      <td>AAL</td>\n",
       "      <td>NaN</td>\n",
       "      <td>5487.0</td>\n",
       "    </tr>\n",
       "    <tr>\n",
       "      <th>1</th>\n",
       "      <td>2021-01-04</td>\n",
       "      <td>04:00:00</td>\n",
       "      <td>AAPL</td>\n",
       "      <td>NaN</td>\n",
       "      <td>26666.0</td>\n",
       "    </tr>\n",
       "    <tr>\n",
       "      <th>2</th>\n",
       "      <td>2021-01-04</td>\n",
       "      <td>04:00:00</td>\n",
       "      <td>ABBV</td>\n",
       "      <td>NaN</td>\n",
       "      <td>122.0</td>\n",
       "    </tr>\n",
       "    <tr>\n",
       "      <th>3</th>\n",
       "      <td>2021-01-04</td>\n",
       "      <td>04:00:00</td>\n",
       "      <td>ACN</td>\n",
       "      <td>NaN</td>\n",
       "      <td>22.0</td>\n",
       "    </tr>\n",
       "    <tr>\n",
       "      <th>4</th>\n",
       "      <td>2021-01-04</td>\n",
       "      <td>04:00:00</td>\n",
       "      <td>ADBE</td>\n",
       "      <td>NaN</td>\n",
       "      <td>10.0</td>\n",
       "    </tr>\n",
       "  </tbody>\n",
       "</table>\n",
       "</div>"
      ],
      "text/plain": [
       "         date      time sym_root sym_suffix     size\n",
       "0  2021-01-04  04:00:00      AAL        NaN   5487.0\n",
       "1  2021-01-04  04:00:00     AAPL        NaN  26666.0\n",
       "2  2021-01-04  04:00:00     ABBV        NaN    122.0\n",
       "3  2021-01-04  04:00:00      ACN        NaN     22.0\n",
       "4  2021-01-04  04:00:00     ADBE        NaN     10.0"
      ]
     },
     "execution_count": 90,
     "metadata": {},
     "output_type": "execute_result"
    }
   ],
   "source": [
    "intraday_data.head()"
   ]
  },
  {
   "cell_type": "code",
   "execution_count": 91,
   "metadata": {},
   "outputs": [
    {
     "data": {
      "text/html": [
       "<div>\n",
       "<style scoped>\n",
       "    .dataframe tbody tr th:only-of-type {\n",
       "        vertical-align: middle;\n",
       "    }\n",
       "\n",
       "    .dataframe tbody tr th {\n",
       "        vertical-align: top;\n",
       "    }\n",
       "\n",
       "    .dataframe thead th {\n",
       "        text-align: right;\n",
       "    }\n",
       "</style>\n",
       "<table border=\"1\" class=\"dataframe\">\n",
       "  <thead>\n",
       "    <tr style=\"text-align: right;\">\n",
       "      <th></th>\n",
       "      <th>DATE</th>\n",
       "      <th>SYM_ROOT</th>\n",
       "      <th>symbol</th>\n",
       "      <th>CSize</th>\n",
       "      <th>OSize</th>\n",
       "      <th>total_vol_m</th>\n",
       "      <th>total_vol_b</th>\n",
       "      <th>total_vol_a</th>\n",
       "    </tr>\n",
       "  </thead>\n",
       "  <tbody>\n",
       "    <tr>\n",
       "      <th>0</th>\n",
       "      <td>2021-01-04</td>\n",
       "      <td>ADBE</td>\n",
       "      <td>ADBE</td>\n",
       "      <td>428050.0</td>\n",
       "      <td>51735.0</td>\n",
       "      <td>3370248.0</td>\n",
       "      <td>7383.0</td>\n",
       "      <td>235908.0</td>\n",
       "    </tr>\n",
       "    <tr>\n",
       "      <th>1</th>\n",
       "      <td>2021-01-04</td>\n",
       "      <td>ADI</td>\n",
       "      <td>ADI</td>\n",
       "      <td>417462.0</td>\n",
       "      <td>23304.0</td>\n",
       "      <td>2396833.0</td>\n",
       "      <td>5064.0</td>\n",
       "      <td>95352.0</td>\n",
       "    </tr>\n",
       "    <tr>\n",
       "      <th>2</th>\n",
       "      <td>2021-01-04</td>\n",
       "      <td>ADP</td>\n",
       "      <td>ADP</td>\n",
       "      <td>388601.0</td>\n",
       "      <td>29201.0</td>\n",
       "      <td>1919053.0</td>\n",
       "      <td>1144.0</td>\n",
       "      <td>346848.0</td>\n",
       "    </tr>\n",
       "    <tr>\n",
       "      <th>3</th>\n",
       "      <td>2021-01-04</td>\n",
       "      <td>ADSK</td>\n",
       "      <td>ADSK</td>\n",
       "      <td>176577.0</td>\n",
       "      <td>23054.0</td>\n",
       "      <td>1268950.0</td>\n",
       "      <td>8092.0</td>\n",
       "      <td>130183.0</td>\n",
       "    </tr>\n",
       "    <tr>\n",
       "      <th>4</th>\n",
       "      <td>2021-01-04</td>\n",
       "      <td>AEP</td>\n",
       "      <td>AEP</td>\n",
       "      <td>678559.0</td>\n",
       "      <td>25175.0</td>\n",
       "      <td>2679832.0</td>\n",
       "      <td>907.0</td>\n",
       "      <td>552394.0</td>\n",
       "    </tr>\n",
       "  </tbody>\n",
       "</table>\n",
       "</div>"
      ],
      "text/plain": [
       "         DATE SYM_ROOT symbol     CSize    OSize  total_vol_m  total_vol_b  \\\n",
       "0  2021-01-04     ADBE   ADBE  428050.0  51735.0    3370248.0       7383.0   \n",
       "1  2021-01-04      ADI    ADI  417462.0  23304.0    2396833.0       5064.0   \n",
       "2  2021-01-04      ADP    ADP  388601.0  29201.0    1919053.0       1144.0   \n",
       "3  2021-01-04     ADSK   ADSK  176577.0  23054.0    1268950.0       8092.0   \n",
       "4  2021-01-04      AEP    AEP  678559.0  25175.0    2679832.0        907.0   \n",
       "\n",
       "   total_vol_a  \n",
       "0     235908.0  \n",
       "1      95352.0  \n",
       "2     346848.0  \n",
       "3     130183.0  \n",
       "4     552394.0  "
      ]
     },
     "execution_count": 91,
     "metadata": {},
     "output_type": "execute_result"
    }
   ],
   "source": [
    "daily_data.head()"
   ]
  },
  {
   "cell_type": "markdown",
   "metadata": {},
   "source": [
    "As we can see, there are several `NaN`s in `intraday_data`. We first replace these `NaN` with empty string, then we concatenate `sym_root` and `sym_suffix` to get a complete column of symbols."
   ]
  },
  {
   "cell_type": "code",
   "execution_count": 92,
   "metadata": {},
   "outputs": [],
   "source": [
    "intraday_data.fillna('', inplace=True)\n",
    "intraday_data['symbol'] = intraday_data['sym_root'] + intraday_data['sym_suffix']"
   ]
  },
  {
   "cell_type": "markdown",
   "metadata": {},
   "source": [
    "Do a filtering: only choose stocks that are in QQQ."
   ]
  },
  {
   "cell_type": "code",
   "execution_count": 93,
   "metadata": {},
   "outputs": [],
   "source": [
    "qqq = pd.read_csv('../data/qqq_symbol.csv')\n",
    "\n",
    "intraday_data = intraday_data[intraday_data.symbol.isin(qqq.symbol)]\n",
    "daily_data = daily_data[daily_data.symbol.isin(qqq.symbol)]"
   ]
  },
  {
   "cell_type": "markdown",
   "metadata": {},
   "source": [
    "List the stocks contained in `intraday_data`:"
   ]
  },
  {
   "cell_type": "code",
   "execution_count": 95,
   "metadata": {},
   "outputs": [
    {
     "data": {
      "text/plain": [
       "array(['ADBE', 'AEP', 'AMD', 'AMGN', 'AMZN', 'ATVI', 'AVGO', 'BIIB',\n",
       "       'BKNG', 'CSCO', 'FB', 'GILD', 'GOOGL', 'GOOG', 'ILMN', 'INTC',\n",
       "       'KHC', 'LRCX', 'MRNA', 'MSFT', 'NFLX', 'NVDA', 'PYPL', 'QCOM',\n",
       "       'REGN', 'SBUX', 'SWKS', 'TSLA', 'WBA', 'MU', 'TXN', 'AMAT', 'EBAY',\n",
       "       'FISV', 'VRSK', 'PAYX', 'PEP', 'DXCM', 'ADSK', 'MTCH', 'ADI',\n",
       "       'HON', 'COST', 'EA', 'VRTX', 'CSX', 'TMUS', 'FAST', 'ORLY', 'ISRG',\n",
       "       'MCHP', 'XEL', 'MAR', 'ALGN', 'NXPI', 'CDNS', 'ADP', 'IDXX', 'EXC',\n",
       "       'INTU', 'CPRT', 'DLTR', 'CHTR', 'ROST', 'MNST', 'CTSH', 'FTNT',\n",
       "       'KLAC', 'MDLZ', 'SNPS', 'ANSS', 'PCAR', 'ODFL', 'VRSN', 'CTAS'],\n",
       "      dtype=object)"
      ]
     },
     "execution_count": 95,
     "metadata": {},
     "output_type": "execute_result"
    }
   ],
   "source": [
    "intraday_data.symbol.unique()"
   ]
  },
  {
   "cell_type": "code",
   "execution_count": 23,
   "metadata": {},
   "outputs": [],
   "source": [
    "intraday_data.date = pd.to_datetime(intraday_data.date)\n",
    "intraday_data.time = pd.to_timedelta(intraday_data.time)\n",
    "intraday_data['datetime'] = intraday_data['date'] + intraday_data['time']\n",
    "\n",
    "daily_data.DATE = pd.to_datetime(daily_data.DATE)"
   ]
  },
  {
   "cell_type": "code",
   "execution_count": 34,
   "metadata": {},
   "outputs": [],
   "source": [
    "intraday_data.reset_index(drop=True, inplace=True)\n",
    "daily_data.reset_index(drop=True, inplace=True)"
   ]
  },
  {
   "cell_type": "markdown",
   "metadata": {},
   "source": [
    "Merge these two data tables:"
   ]
  },
  {
   "cell_type": "code",
   "execution_count": 37,
   "metadata": {},
   "outputs": [],
   "source": [
    "df = intraday_data.merge(daily_data, how='left', left_on=['date', 'symbol'], right_on=['DATE', 'symbol'])"
   ]
  },
  {
   "cell_type": "code",
   "execution_count": 39,
   "metadata": {},
   "outputs": [
    {
     "data": {
      "text/plain": [
       "Index(['date', 'time', 'sym_root', 'sym_suffix', 'size', 'symbol', 'datetime',\n",
       "       'DATE', 'SYM_ROOT', 'CSize', 'OSize', 'total_vol_m', 'total_vol_b',\n",
       "       'total_vol_a'],\n",
       "      dtype='object')"
      ]
     },
     "execution_count": 39,
     "metadata": {},
     "output_type": "execute_result"
    }
   ],
   "source": [
    "df.columns"
   ]
  },
  {
   "cell_type": "markdown",
   "metadata": {},
   "source": [
    "Select those columns that we need:"
   ]
  },
  {
   "cell_type": "code",
   "execution_count": 40,
   "metadata": {},
   "outputs": [],
   "source": [
    "df = df[['date', 'time', 'datetime', 'symbol', 'size', 'total_vol_m']]\n",
    "df['%_vol'] = df['size'] / df['total_vol_m']\n",
    "\n",
    "df.set_index('datetime', inplace=True)\n",
    "df = df.between_time('09:30:00', '16:00:00').copy()"
   ]
  },
  {
   "cell_type": "code",
   "execution_count": 48,
   "metadata": {},
   "outputs": [
    {
     "data": {
      "text/html": [
       "<div>\n",
       "<style scoped>\n",
       "    .dataframe tbody tr th:only-of-type {\n",
       "        vertical-align: middle;\n",
       "    }\n",
       "\n",
       "    .dataframe tbody tr th {\n",
       "        vertical-align: top;\n",
       "    }\n",
       "\n",
       "    .dataframe thead th {\n",
       "        text-align: right;\n",
       "    }\n",
       "</style>\n",
       "<table border=\"1\" class=\"dataframe\">\n",
       "  <thead>\n",
       "    <tr style=\"text-align: right;\">\n",
       "      <th></th>\n",
       "      <th>date</th>\n",
       "      <th>time</th>\n",
       "      <th>symbol</th>\n",
       "      <th>size</th>\n",
       "      <th>total_vol_m</th>\n",
       "      <th>%_vol</th>\n",
       "    </tr>\n",
       "    <tr>\n",
       "      <th>datetime</th>\n",
       "      <th></th>\n",
       "      <th></th>\n",
       "      <th></th>\n",
       "      <th></th>\n",
       "      <th></th>\n",
       "      <th></th>\n",
       "    </tr>\n",
       "  </thead>\n",
       "  <tbody>\n",
       "    <tr>\n",
       "      <th>2021-01-04 09:30:00</th>\n",
       "      <td>2021-01-04</td>\n",
       "      <td>0 days 09:30:00</td>\n",
       "      <td>ADBE</td>\n",
       "      <td>140093.0</td>\n",
       "      <td>3370248.0</td>\n",
       "      <td>0.041568</td>\n",
       "    </tr>\n",
       "    <tr>\n",
       "      <th>2021-01-04 09:30:00</th>\n",
       "      <td>2021-01-04</td>\n",
       "      <td>0 days 09:30:00</td>\n",
       "      <td>ADI</td>\n",
       "      <td>67872.0</td>\n",
       "      <td>2396833.0</td>\n",
       "      <td>0.028317</td>\n",
       "    </tr>\n",
       "    <tr>\n",
       "      <th>2021-01-04 09:30:00</th>\n",
       "      <td>2021-01-04</td>\n",
       "      <td>0 days 09:30:00</td>\n",
       "      <td>ADP</td>\n",
       "      <td>76958.0</td>\n",
       "      <td>1919053.0</td>\n",
       "      <td>0.040102</td>\n",
       "    </tr>\n",
       "    <tr>\n",
       "      <th>2021-01-04 09:30:00</th>\n",
       "      <td>2021-01-04</td>\n",
       "      <td>0 days 09:30:00</td>\n",
       "      <td>ADSK</td>\n",
       "      <td>78494.0</td>\n",
       "      <td>1268950.0</td>\n",
       "      <td>0.061857</td>\n",
       "    </tr>\n",
       "    <tr>\n",
       "      <th>2021-01-04 09:30:00</th>\n",
       "      <td>2021-01-04</td>\n",
       "      <td>0 days 09:30:00</td>\n",
       "      <td>AEP</td>\n",
       "      <td>60049.0</td>\n",
       "      <td>2679832.0</td>\n",
       "      <td>0.022408</td>\n",
       "    </tr>\n",
       "  </tbody>\n",
       "</table>\n",
       "</div>"
      ],
      "text/plain": [
       "                          date            time symbol      size  total_vol_m  \\\n",
       "datetime                                                                       \n",
       "2021-01-04 09:30:00 2021-01-04 0 days 09:30:00   ADBE  140093.0    3370248.0   \n",
       "2021-01-04 09:30:00 2021-01-04 0 days 09:30:00    ADI   67872.0    2396833.0   \n",
       "2021-01-04 09:30:00 2021-01-04 0 days 09:30:00    ADP   76958.0    1919053.0   \n",
       "2021-01-04 09:30:00 2021-01-04 0 days 09:30:00   ADSK   78494.0    1268950.0   \n",
       "2021-01-04 09:30:00 2021-01-04 0 days 09:30:00    AEP   60049.0    2679832.0   \n",
       "\n",
       "                        %_vol  \n",
       "datetime                       \n",
       "2021-01-04 09:30:00  0.041568  \n",
       "2021-01-04 09:30:00  0.028317  \n",
       "2021-01-04 09:30:00  0.040102  \n",
       "2021-01-04 09:30:00  0.061857  \n",
       "2021-01-04 09:30:00  0.022408  "
      ]
     },
     "execution_count": 48,
     "metadata": {},
     "output_type": "execute_result"
    }
   ],
   "source": [
    "df.head()"
   ]
  },
  {
   "cell_type": "code",
   "execution_count": 49,
   "metadata": {},
   "outputs": [],
   "source": [
    "#df.to_csv('../data/QQQ_2021_open_close.csv', index=False)"
   ]
  },
  {
   "cell_type": "markdown",
   "metadata": {},
   "source": [
    "### 2.2 An example: Google\n",
    "\n",
    "We use Google stock as an example."
   ]
  },
  {
   "cell_type": "code",
   "execution_count": 53,
   "metadata": {},
   "outputs": [
    {
     "data": {
      "text/html": [
       "<div>\n",
       "<style scoped>\n",
       "    .dataframe tbody tr th:only-of-type {\n",
       "        vertical-align: middle;\n",
       "    }\n",
       "\n",
       "    .dataframe tbody tr th {\n",
       "        vertical-align: top;\n",
       "    }\n",
       "\n",
       "    .dataframe thead th {\n",
       "        text-align: right;\n",
       "    }\n",
       "</style>\n",
       "<table border=\"1\" class=\"dataframe\">\n",
       "  <thead>\n",
       "    <tr style=\"text-align: right;\">\n",
       "      <th></th>\n",
       "      <th>date</th>\n",
       "      <th>time</th>\n",
       "      <th>symbol</th>\n",
       "      <th>size</th>\n",
       "      <th>total_vol_m</th>\n",
       "      <th>%_vol</th>\n",
       "    </tr>\n",
       "    <tr>\n",
       "      <th>datetime</th>\n",
       "      <th></th>\n",
       "      <th></th>\n",
       "      <th></th>\n",
       "      <th></th>\n",
       "      <th></th>\n",
       "      <th></th>\n",
       "    </tr>\n",
       "  </thead>\n",
       "  <tbody>\n",
       "    <tr>\n",
       "      <th>2021-01-04 09:30:00</th>\n",
       "      <td>2021-01-04</td>\n",
       "      <td>0 days 09:30:00</td>\n",
       "      <td>GOOGL</td>\n",
       "      <td>68842.0</td>\n",
       "      <td>1720933.0</td>\n",
       "      <td>0.040003</td>\n",
       "    </tr>\n",
       "    <tr>\n",
       "      <th>2021-01-04 09:31:00</th>\n",
       "      <td>2021-01-04</td>\n",
       "      <td>0 days 09:31:00</td>\n",
       "      <td>GOOGL</td>\n",
       "      <td>7892.0</td>\n",
       "      <td>1720933.0</td>\n",
       "      <td>0.004586</td>\n",
       "    </tr>\n",
       "    <tr>\n",
       "      <th>2021-01-04 09:32:00</th>\n",
       "      <td>2021-01-04</td>\n",
       "      <td>0 days 09:32:00</td>\n",
       "      <td>GOOGL</td>\n",
       "      <td>4732.0</td>\n",
       "      <td>1720933.0</td>\n",
       "      <td>0.002750</td>\n",
       "    </tr>\n",
       "    <tr>\n",
       "      <th>2021-01-04 09:33:00</th>\n",
       "      <td>2021-01-04</td>\n",
       "      <td>0 days 09:33:00</td>\n",
       "      <td>GOOGL</td>\n",
       "      <td>3836.0</td>\n",
       "      <td>1720933.0</td>\n",
       "      <td>0.002229</td>\n",
       "    </tr>\n",
       "    <tr>\n",
       "      <th>2021-01-04 09:34:00</th>\n",
       "      <td>2021-01-04</td>\n",
       "      <td>0 days 09:34:00</td>\n",
       "      <td>GOOGL</td>\n",
       "      <td>5157.0</td>\n",
       "      <td>1720933.0</td>\n",
       "      <td>0.002997</td>\n",
       "    </tr>\n",
       "  </tbody>\n",
       "</table>\n",
       "</div>"
      ],
      "text/plain": [
       "                          date            time symbol     size  total_vol_m  \\\n",
       "datetime                                                                      \n",
       "2021-01-04 09:30:00 2021-01-04 0 days 09:30:00  GOOGL  68842.0    1720933.0   \n",
       "2021-01-04 09:31:00 2021-01-04 0 days 09:31:00  GOOGL   7892.0    1720933.0   \n",
       "2021-01-04 09:32:00 2021-01-04 0 days 09:32:00  GOOGL   4732.0    1720933.0   \n",
       "2021-01-04 09:33:00 2021-01-04 0 days 09:33:00  GOOGL   3836.0    1720933.0   \n",
       "2021-01-04 09:34:00 2021-01-04 0 days 09:34:00  GOOGL   5157.0    1720933.0   \n",
       "\n",
       "                        %_vol  \n",
       "datetime                       \n",
       "2021-01-04 09:30:00  0.040003  \n",
       "2021-01-04 09:31:00  0.004586  \n",
       "2021-01-04 09:32:00  0.002750  \n",
       "2021-01-04 09:33:00  0.002229  \n",
       "2021-01-04 09:34:00  0.002997  "
      ]
     },
     "execution_count": 53,
     "metadata": {},
     "output_type": "execute_result"
    }
   ],
   "source": [
    "google = df[df.symbol.isin(['GOOGL'])]\n",
    "google.head()"
   ]
  },
  {
   "cell_type": "markdown",
   "metadata": {},
   "source": [
    "Opening:"
   ]
  },
  {
   "cell_type": "code",
   "execution_count": 141,
   "metadata": {},
   "outputs": [
    {
     "data": {
      "text/plain": [
       "<AxesSubplot:title={'center':'Google volume for opening 30 mins'}, xlabel='datetime'>"
      ]
     },
     "execution_count": 141,
     "metadata": {},
     "output_type": "execute_result"
    },
    {
     "data": {
      "image/png": "[encoded data removed]",
      "text/plain": [
       "<Figure size 1152x720 with 1 Axes>"
      ]
     },
     "metadata": {
      "needs_background": "light"
     },
     "output_type": "display_data"
    }
   ],
   "source": [
    "filter = google.date.isin(['2021-02-11']) & (google.time < pd.Timedelta('10:00:00'))\n",
    "google[filter][['%_vol']].plot(figsize=(16, 10), title='Google volume of opening 30 mins')"
   ]
  },
  {
   "cell_type": "markdown",
   "metadata": {},
   "source": [
    "Closing:"
   ]
  },
  {
   "cell_type": "code",
   "execution_count": 145,
   "metadata": {},
   "outputs": [
    {
     "data": {
      "text/plain": [
       "datetime\n",
       "2021-01-04 09:30:00   2021-01-04\n",
       "2021-01-04 09:31:00   2021-01-04\n",
       "2021-01-04 09:32:00   2021-01-04\n",
       "2021-01-04 09:33:00   2021-01-04\n",
       "2021-01-04 09:34:00   2021-01-04\n",
       "                         ...    \n",
       "2021-12-31 15:56:00   2021-12-31\n",
       "2021-12-31 15:57:00   2021-12-31\n",
       "2021-12-31 15:58:00   2021-12-31\n",
       "2021-12-31 15:59:00   2021-12-31\n",
       "2021-12-31 16:00:00   2021-12-31\n",
       "Name: date, Length: 98131, dtype: datetime64[ns]"
      ]
     },
     "execution_count": 145,
     "metadata": {},
     "output_type": "execute_result"
    }
   ],
   "source": [
    "google.date"
   ]
  },
  {
   "cell_type": "code",
   "execution_count": 142,
   "metadata": {},
   "outputs": [
    {
     "data": {
      "text/plain": [
       "<AxesSubplot:title={'center':'Google volume of closing 30 mins'}, xlabel='datetime'>"
      ]
     },
     "execution_count": 142,
     "metadata": {},
     "output_type": "execute_result"
    },
    {
     "data": {
      "image/png": "[encoded data removed]",
      "text/plain": [
       "<Figure size 1152x720 with 1 Axes>"
      ]
     },
     "metadata": {
      "needs_background": "light"
     },
     "output_type": "display_data"
    }
   ],
   "source": [
    "filter = google.date.isin(['2021-01-14']) & (google.time > pd.Timedelta('15:30:00'))\n",
    "google[filter]['%_vol'].plot(figsize=(16, 10), title='Google volume of closing 30 mins')"
   ]
  },
  {
   "cell_type": "code",
   "execution_count": 137,
   "metadata": {},
   "outputs": [
    {
     "data": {
      "text/plain": [
       "<AxesSubplot:xlabel='datetime'>"
      ]
     },
     "execution_count": 137,
     "metadata": {},
     "output_type": "execute_result"
    },
    {
     "data": {
      "image/png": "[encoded data removed]",
      "text/plain": [
       "<Figure size 432x288 with 1 Axes>"
      ]
     },
     "metadata": {
      "needs_background": "light"
     },
     "output_type": "display_data"
    }
   ],
   "source": [
    "google[filter][['%_vol']].rolling(3).mean().plot()"
   ]
  },
  {
   "cell_type": "markdown",
   "metadata": {},
   "source": [
    "### ROST"
   ]
  },
  {
   "cell_type": "code",
   "execution_count": 158,
   "metadata": {},
   "outputs": [
    {
     "data": {
      "text/plain": [
       "<AxesSubplot:title={'center':'ROST volume of opening 30 mins, 2021-02-11'}, xlabel='datetime'>"
      ]
     },
     "execution_count": 158,
     "metadata": {},
     "output_type": "execute_result"
    },
    {
     "data": {
      "image/png": "[encoded data removed]",
      "text/plain": [
       "<Figure size 1152x720 with 1 Axes>"
      ]
     },
     "metadata": {
      "needs_background": "light"
     },
     "output_type": "display_data"
    }
   ],
   "source": [
    "stock = df[df.symbol.isin(['ROST'])]\n",
    "\n",
    "filter = stock.date.isin(['2021-02-11']) & (stock.time < pd.Timedelta('10:00:00'))\n",
    "stock[filter][['%_vol']].plot(figsize=(16, 10), title='ROST volume of opening 30 mins, 2021-02-11')"
   ]
  },
  {
   "cell_type": "code",
   "execution_count": 159,
   "metadata": {},
   "outputs": [
    {
     "data": {
      "text/plain": [
       "<AxesSubplot:title={'center':'ROST volume of closing 30 mins, 2021-02-11'}, xlabel='datetime'>"
      ]
     },
     "execution_count": 159,
     "metadata": {},
     "output_type": "execute_result"
    },
    {
     "data": {
      "image/png": "[encoded data removed]",
      "text/plain": [
       "<Figure size 1152x720 with 1 Axes>"
      ]
     },
     "metadata": {
      "needs_background": "light"
     },
     "output_type": "display_data"
    }
   ],
   "source": [
    "filter = stock.date.isin(['2021-02-11']) & (stock.time > pd.Timedelta('15:30:00'))\n",
    "stock[filter][['%_vol']].plot(figsize=(16, 10), title='ROST volume of closing 30 mins, 2021-02-11')"
   ]
  },
  {
   "cell_type": "code",
   "execution_count": null,
   "metadata": {},
   "outputs": [],
   "source": [
    "filter = stock.date.isin(['2021-02-11']) & (stock.time > pd.Timedelta('15:30:00'))\n",
    "stock[filter][['%_vol']].plot(figsize=(16, 10), title='ROST volume of closing 30 mins, 2021-02-11')"
   ]
  },
  {
   "cell_type": "markdown",
   "metadata": {},
   "source": [
    "### BAN"
   ]
  },
  {
   "cell_type": "code",
   "execution_count": 14,
   "metadata": {},
   "outputs": [],
   "source": [
    "def generate_u_curve(data):\n",
    "    '''Generate u_curve based on 180 day average intraday volume'''\n",
    "\n",
    "    # groupby time to calculate 180-day rolling average volume\n",
    "    df = data.groupby(data.index.time)['%_vol'].rolling(180).mean()\n",
    "\n",
    "    # ungroup, then sort df by date and time\n",
    "    df = df.reset_index()\n",
    "    df.rename(columns={'level_0': 'time', '%_vol': 'avg_%_vol'}, inplace=True)\n",
    "    df['date'] = df['datetime'].dt.date\n",
    "    df = df.sort_values(['date', 'time'], ascending=(True, True)).set_index(['date', 'time'])\n",
    "    df.drop(columns=['datetime'], inplace=True)\n",
    "\n",
    "    # convert date from row index to column index\n",
    "    df = df.unstack().transpose()\n",
    "    df.index = df.index.droplevel(0)\n",
    "\n",
    "    return df"
   ]
  }
 ],
 "metadata": {
  "interpreter": {
   "hash": "72d596b9a1d01707ed6ddc3babd48ed8ad376ce90e0f520932d5a72a571e6380"
  },
  "kernelspec": {
   "display_name": "Python 3 (ipykernel)",
   "language": "python",
   "name": "python3"
  },
  "language_info": {
   "codemirror_mode": {
    "name": "ipython",
    "version": 3
   },
   "file_extension": ".py",
   "mimetype": "text/x-python",
   "name": "python",
   "nbconvert_exporter": "python",
   "pygments_lexer": "ipython3",
   "version": "3.8.5"
  }
 },
 "nbformat": 4,
 "nbformat_minor": 2
}
