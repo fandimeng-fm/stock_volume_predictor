{
 "cells": [
  {
   "cell_type": "code",
   "execution_count": 1,
   "metadata": {},
   "outputs": [],
   "source": [
    "from baseline.main_model import *\n",
    "import pandas as pd\n",
    "import numpy as np\n",
    "import os\n",
    "import copy  \n",
    "import json\n",
    "import pickle\n",
    "from tqdm import tqdm\n",
    "from matplotlib import pyplot as plt\n",
    "import statsmodels.formula.api as smf\n",
    "import plotly.graph_objects as px"
   ]
  },
  {
   "cell_type": "code",
   "execution_count": 2,
   "metadata": {},
   "outputs": [],
   "source": [
    "pd.options.display.float_format = '{:.4f}'.format"
   ]
  },
  {
   "cell_type": "code",
   "execution_count": 3,
   "metadata": {},
   "outputs": [],
   "source": [
    "path = '/Users/Mason/Desktop/Volatility/px'\n",
    "data_paths = [os.path.join(path, f) for f in os.listdir(path)]"
   ]
  },
  {
   "cell_type": "code",
   "execution_count": 4,
   "metadata": {},
   "outputs": [],
   "source": [
    "file_to_read = open(\"russell_residual.pkl\", \"rb\")\n",
    "loaded_dictionary = pickle.load(file_to_read)  #residual from the baseline"
   ]
  },
  {
   "cell_type": "code",
   "execution_count": 5,
   "metadata": {},
   "outputs": [],
   "source": [
    "file_to_read = open(\"russell_baseline.pkl\", \"rb\")\n",
    "loaded_result = pickle.load(file_to_read) #baseline estimation  "
   ]
  },
  {
   "cell_type": "code",
   "execution_count": 6,
   "metadata": {},
   "outputs": [],
   "source": [
    "file_to_read = open(\"russell_size.pkl\", \"rb\")\n",
    "loaded_size = pickle.load(file_to_read) #real size saved easier to transpose "
   ]
  },
  {
   "cell_type": "code",
   "execution_count": 7,
   "metadata": {},
   "outputs": [],
   "source": [
    "def prep_data(data, date):\n",
    "    df = data[data['date'] == str(date)]\n",
    "    df['TIME_M']  = df['time'].apply(lambda x: '0'+x[:4]+':00' if x[1]==':' else x[:5]+':00')\n",
    "    df['TIME_M']  = pd.to_timedelta(df['TIME_M'])\n",
    "    df['date'] = pd.to_datetime(df['date'], format='%Y-%m-%d')\n",
    "    df['datetime'] = df['date'] + df['TIME_M']\n",
    "    df.set_index('datetime', inplace=True)\n",
    "    df.drop('sym_suffix', axis=1, inplace=True)\n",
    "    \n",
    "    df = df.between_time('9:30:00','16:00:00')\n",
    "    df['pct_prx'] = df['price'].pct_change().round(decimals = 4) + 1\n",
    "    df['pr_sd'] = df['pct_prx'].rolling('15T').std()\n",
    "    df.fillna(pd.Timedelta(seconds=0))\n",
    "    return df.between_time('9:45:00','15:59:00')"
   ]
  },
  {
   "cell_type": "code",
   "execution_count": 8,
   "metadata": {},
   "outputs": [
    {
     "data": {
      "text/plain": [
       "'2021-09-01'"
      ]
     },
     "execution_count": 8,
     "metadata": {},
     "output_type": "execute_result"
    }
   ],
   "source": [
    "day_loop = pd.read_csv('time_1.csv',header=None)\n",
    "day_loop.iloc[0,0]\n"
   ]
  },
  {
   "cell_type": "code",
   "execution_count": 9,
   "metadata": {},
   "outputs": [
    {
     "name": "stderr",
     "output_type": "stream",
     "text": [
      "100%|██████████| 1/1 [00:00<00:00, 16.49it/s]\n"
     ]
    }
   ],
   "source": [
    "days = day_loop.values.tolist()\n",
    "price_dict = [{} for i in range(len(days))]\n",
    "score_dict = [{} for i in range(len(days))]\n",
    "\n",
    "for i in tqdm(data_paths[2:3]):\n",
    "    for d in range(1):\n",
    "        try:\n",
    "            date = day_loop.iloc[d,0]\n",
    "            df = pd.read_csv(i)\n",
    "            \n",
    "            df = prep_data(df, date)\n",
    "            ticker = df['sym_root'].unique()[0]\n",
    "            if ticker in loaded_dictionary.keys():\n",
    "                df = df.merge(loaded_dictionary[ticker][['time', 'residual', 'size','est']],\n",
    "                                how='inner', on = 'time')\n",
    "                \n",
    "                reg = smf.ols(formula = \"residual ~ pr_sd\",data = df).fit()\n",
    "                df['vol_est'] = df['est'] + reg.params[1] * df['pr_sd'].values + reg.params[0]\n",
    "                abs_val = np.abs(df['vol_est'] - df['size'])/ df['size']\n",
    "                price_dict[d][ticker] = df['vol_est']\n",
    "                score_dict[d][ticker] = np.sum(abs_val)/len(abs_val)\n",
    "        except:\n",
    "            pass\n"
   ]
  },
  {
   "cell_type": "code",
   "execution_count": 10,
   "metadata": {},
   "outputs": [
    {
     "data": {
      "text/plain": [
       "[{'SILK': 20.513318300904885},\n",
       " {},\n",
       " {},\n",
       " {},\n",
       " {},\n",
       " {},\n",
       " {},\n",
       " {},\n",
       " {},\n",
       " {},\n",
       " {},\n",
       " {},\n",
       " {},\n",
       " {},\n",
       " {},\n",
       " {},\n",
       " {},\n",
       " {},\n",
       " {},\n",
       " {},\n",
       " {},\n",
       " {},\n",
       " {},\n",
       " {},\n",
       " {},\n",
       " {},\n",
       " {},\n",
       " {},\n",
       " {},\n",
       " {},\n",
       " {},\n",
       " {},\n",
       " {},\n",
       " {},\n",
       " {},\n",
       " {},\n",
       " {},\n",
       " {},\n",
       " {},\n",
       " {},\n",
       " {},\n",
       " {},\n",
       " {},\n",
       " {},\n",
       " {},\n",
       " {},\n",
       " {},\n",
       " {},\n",
       " {},\n",
       " {},\n",
       " {},\n",
       " {},\n",
       " {},\n",
       " {},\n",
       " {},\n",
       " {},\n",
       " {},\n",
       " {},\n",
       " {},\n",
       " {},\n",
       " {},\n",
       " {},\n",
       " {},\n",
       " {},\n",
       " {},\n",
       " {},\n",
       " {},\n",
       " {},\n",
       " {},\n",
       " {},\n",
       " {},\n",
       " {},\n",
       " {},\n",
       " {},\n",
       " {},\n",
       " {},\n",
       " {},\n",
       " {},\n",
       " {},\n",
       " {},\n",
       " {},\n",
       " {},\n",
       " {},\n",
       " {},\n",
       " {},\n",
       " {},\n",
       " {},\n",
       " {},\n",
       " {},\n",
       " {}]"
      ]
     },
     "execution_count": 10,
     "metadata": {},
     "output_type": "execute_result"
    }
   ],
   "source": [
    "score_dict"
   ]
  },
  {
   "cell_type": "markdown",
   "metadata": {},
   "source": [
    "# Metrics Comparison - PVM vs Baseline"
   ]
  },
  {
   "cell_type": "code",
   "execution_count": 11,
   "metadata": {},
   "outputs": [
    {
     "data": {
      "text/plain": [
       "[20.513318300904885,\n",
       " 0,\n",
       " 0,\n",
       " 0,\n",
       " 0,\n",
       " 0,\n",
       " 0,\n",
       " 0,\n",
       " 0,\n",
       " 0,\n",
       " 0,\n",
       " 0,\n",
       " 0,\n",
       " 0,\n",
       " 0,\n",
       " 0,\n",
       " 0,\n",
       " 0,\n",
       " 0,\n",
       " 0,\n",
       " 0,\n",
       " 0,\n",
       " 0,\n",
       " 0,\n",
       " 0,\n",
       " 0,\n",
       " 0,\n",
       " 0,\n",
       " 0,\n",
       " 0,\n",
       " 0,\n",
       " 0,\n",
       " 0,\n",
       " 0,\n",
       " 0,\n",
       " 0,\n",
       " 0,\n",
       " 0,\n",
       " 0,\n",
       " 0,\n",
       " 0,\n",
       " 0,\n",
       " 0,\n",
       " 0,\n",
       " 0,\n",
       " 0,\n",
       " 0,\n",
       " 0,\n",
       " 0,\n",
       " 0,\n",
       " 0,\n",
       " 0,\n",
       " 0,\n",
       " 0,\n",
       " 0,\n",
       " 0,\n",
       " 0,\n",
       " 0,\n",
       " 0,\n",
       " 0,\n",
       " 0,\n",
       " 0,\n",
       " 0,\n",
       " 0,\n",
       " 0,\n",
       " 0,\n",
       " 0,\n",
       " 0,\n",
       " 0,\n",
       " 0,\n",
       " 0,\n",
       " 0,\n",
       " 0,\n",
       " 0,\n",
       " 0,\n",
       " 0,\n",
       " 0,\n",
       " 0,\n",
       " 0,\n",
       " 0,\n",
       " 0,\n",
       " 0,\n",
       " 0,\n",
       " 0,\n",
       " 0,\n",
       " 0,\n",
       " 0,\n",
       " 0,\n",
       " 0,\n",
       " 0]"
      ]
     },
     "execution_count": 11,
     "metadata": {},
     "output_type": "execute_result"
    }
   ],
   "source": [
    "day_mean_pvm = []\n",
    "for i in range(len(score_dict)):\n",
    "    if len(score_dict[i].values()) ==0:\n",
    "        day_mean_pvm.append(0)\n",
    "    else:\n",
    "        day_mean_pvm.append(sum(score_dict[i].values())/len(score_dict[i].values()))\n",
    "day_mean_pvm"
   ]
  },
  {
   "cell_type": "code",
   "execution_count": 12,
   "metadata": {},
   "outputs": [],
   "source": [
    "pd.DataFrame({'date':days,'day_mean_pvm':day_mean_pvm}).to_csv('day_mean_pvm.csv',index=False)"
   ]
  },
  {
   "cell_type": "code",
   "execution_count": 13,
   "metadata": {},
   "outputs": [],
   "source": [
    "f = open(\"russell_PVM_metrics.pkl\",\"wb\")\n",
    "\n",
    "# write the python object (dict) to pickle file\n",
    "pickle.dump(score_dict,f)\n",
    "\n",
    "# close file\n",
    "f.close()"
   ]
  },
  {
   "cell_type": "code",
   "execution_count": 14,
   "metadata": {},
   "outputs": [],
   "source": [
    "# read the metrics file for baseline\n",
    "file_to_read = open(\"russell_base_metrics.pkl\", \"rb\")\n",
    "baseline = pickle.load(file_to_read)"
   ]
  },
  {
   "cell_type": "code",
   "execution_count": 15,
   "metadata": {},
   "outputs": [
    {
     "ename": "TypeError",
     "evalue": "list indices must be integers or slices, not dict",
     "output_type": "error",
     "traceback": [
      "\u001b[0;31m---------------------------------------------------------------------------\u001b[0m",
      "\u001b[0;31mTypeError\u001b[0m                                 Traceback (most recent call last)",
      "\u001b[1;32m/Users/Mason/Desktop/Volatility/prive_vol_russell.ipynb Cell 16'\u001b[0m in \u001b[0;36m<cell line: 1>\u001b[0;34m()\u001b[0m\n\u001b[0;32m----> <a href='vscode-notebook-cell:/Users/Mason/Desktop/Volatility/prive_vol_russell.ipynb#ch0000015?line=0'>1</a>\u001b[0m final_dict \u001b[39m=\u001b[39m {key:(score_dict[key], baseline[key]) \u001b[39mfor\u001b[39;00m key \u001b[39min\u001b[39;00m score_dict}\n",
      "\u001b[1;32m/Users/Mason/Desktop/Volatility/prive_vol_russell.ipynb Cell 16'\u001b[0m in \u001b[0;36m<dictcomp>\u001b[0;34m(.0)\u001b[0m\n\u001b[0;32m----> <a href='vscode-notebook-cell:/Users/Mason/Desktop/Volatility/prive_vol_russell.ipynb#ch0000015?line=0'>1</a>\u001b[0m final_dict \u001b[39m=\u001b[39m {key:(score_dict[key], baseline[key]) \u001b[39mfor\u001b[39;00m key \u001b[39min\u001b[39;00m score_dict}\n",
      "\u001b[0;31mTypeError\u001b[0m: list indices must be integers or slices, not dict"
     ]
    }
   ],
   "source": [
    "final_dict = {key:(score_dict[key], baseline[key]) for key in score_dict}"
   ]
  },
  {
   "cell_type": "code",
   "execution_count": null,
   "metadata": {},
   "outputs": [],
   "source": [
    "final = pd.DataFrame.from_dict(final_dict).transpose()\n",
    "final.reset_index(inplace=True)\n",
    "final.rename(columns={'index':'stock',0: \"pvm\", 1: \"baseline\"}, inplace=True)"
   ]
  },
  {
   "cell_type": "code",
   "execution_count": null,
   "metadata": {},
   "outputs": [],
   "source": [
    "final.to_csv('final_plotly.csv')"
   ]
  },
  {
   "cell_type": "code",
   "execution_count": null,
   "metadata": {},
   "outputs": [],
   "source": [
    "final = pd.read_csv('final_plotly.csv')"
   ]
  },
  {
   "cell_type": "code",
   "execution_count": null,
   "metadata": {},
   "outputs": [
    {
     "data": {
      "text/html": [
       "<div>\n",
       "<style scoped>\n",
       "    .dataframe tbody tr th:only-of-type {\n",
       "        vertical-align: middle;\n",
       "    }\n",
       "\n",
       "    .dataframe tbody tr th {\n",
       "        vertical-align: top;\n",
       "    }\n",
       "\n",
       "    .dataframe thead th {\n",
       "        text-align: right;\n",
       "    }\n",
       "</style>\n",
       "<table border=\"1\" class=\"dataframe\">\n",
       "  <thead>\n",
       "    <tr style=\"text-align: right;\">\n",
       "      <th></th>\n",
       "      <th>Unnamed: 0</th>\n",
       "      <th>stock</th>\n",
       "      <th>pvm</th>\n",
       "      <th>baseline</th>\n",
       "    </tr>\n",
       "  </thead>\n",
       "  <tbody>\n",
       "    <tr>\n",
       "      <th>0</th>\n",
       "      <td>0</td>\n",
       "      <td>LEN</td>\n",
       "      <td>1.4900</td>\n",
       "      <td>1.7689</td>\n",
       "    </tr>\n",
       "    <tr>\n",
       "      <th>1</th>\n",
       "      <td>1</td>\n",
       "      <td>CARA</td>\n",
       "      <td>17.5117</td>\n",
       "      <td>14.7425</td>\n",
       "    </tr>\n",
       "    <tr>\n",
       "      <th>2</th>\n",
       "      <td>2</td>\n",
       "      <td>SILK</td>\n",
       "      <td>35.5672</td>\n",
       "      <td>38.4066</td>\n",
       "    </tr>\n",
       "    <tr>\n",
       "      <th>3</th>\n",
       "      <td>3</td>\n",
       "      <td>NATH</td>\n",
       "      <td>7.0856</td>\n",
       "      <td>1.9993</td>\n",
       "    </tr>\n",
       "    <tr>\n",
       "      <th>4</th>\n",
       "      <td>4</td>\n",
       "      <td>APPF</td>\n",
       "      <td>28.0369</td>\n",
       "      <td>24.3749</td>\n",
       "    </tr>\n",
       "    <tr>\n",
       "      <th>...</th>\n",
       "      <td>...</td>\n",
       "      <td>...</td>\n",
       "      <td>...</td>\n",
       "      <td>...</td>\n",
       "    </tr>\n",
       "    <tr>\n",
       "      <th>101</th>\n",
       "      <td>101</td>\n",
       "      <td>ENSG</td>\n",
       "      <td>19.7569</td>\n",
       "      <td>38.9798</td>\n",
       "    </tr>\n",
       "    <tr>\n",
       "      <th>102</th>\n",
       "      <td>102</td>\n",
       "      <td>MOV</td>\n",
       "      <td>46.2024</td>\n",
       "      <td>10.9110</td>\n",
       "    </tr>\n",
       "    <tr>\n",
       "      <th>103</th>\n",
       "      <td>103</td>\n",
       "      <td>BLDR</td>\n",
       "      <td>1.0443</td>\n",
       "      <td>1.0613</td>\n",
       "    </tr>\n",
       "    <tr>\n",
       "      <th>104</th>\n",
       "      <td>104</td>\n",
       "      <td>OLN</td>\n",
       "      <td>6.2703</td>\n",
       "      <td>16.5005</td>\n",
       "    </tr>\n",
       "    <tr>\n",
       "      <th>105</th>\n",
       "      <td>105</td>\n",
       "      <td>RGEN</td>\n",
       "      <td>32.0064</td>\n",
       "      <td>24.2201</td>\n",
       "    </tr>\n",
       "  </tbody>\n",
       "</table>\n",
       "<p>106 rows × 4 columns</p>\n",
       "</div>"
      ],
      "text/plain": [
       "     Unnamed: 0 stock     pvm  baseline\n",
       "0             0   LEN  1.4900    1.7689\n",
       "1             1  CARA 17.5117   14.7425\n",
       "2             2  SILK 35.5672   38.4066\n",
       "3             3  NATH  7.0856    1.9993\n",
       "4             4  APPF 28.0369   24.3749\n",
       "..          ...   ...     ...       ...\n",
       "101         101  ENSG 19.7569   38.9798\n",
       "102         102   MOV 46.2024   10.9110\n",
       "103         103  BLDR  1.0443    1.0613\n",
       "104         104   OLN  6.2703   16.5005\n",
       "105         105  RGEN 32.0064   24.2201\n",
       "\n",
       "[106 rows x 4 columns]"
      ]
     },
     "execution_count": 158,
     "metadata": {},
     "output_type": "execute_result"
    }
   ],
   "source": [
    "final"
   ]
  },
  {
   "cell_type": "code",
   "execution_count": null,
   "metadata": {},
   "outputs": [
    {
     "data": {
      "text/plain": [
       "48"
      ]
     },
     "execution_count": 159,
     "metadata": {},
     "output_type": "execute_result"
    }
   ],
   "source": [
    "len(np.where((final['pvm'] < final['baseline']))[0])"
   ]
  },
  {
   "cell_type": "code",
   "execution_count": null,
   "metadata": {},
   "outputs": [
    {
     "data": {
      "text/plain": [
       "23.60164620514204"
      ]
     },
     "execution_count": 160,
     "metadata": {},
     "output_type": "execute_result"
    }
   ],
   "source": [
    "sum(final['pvm'])/final.shape[0]"
   ]
  },
  {
   "cell_type": "code",
   "execution_count": null,
   "metadata": {},
   "outputs": [
    {
     "data": {
      "text/plain": [
       "22.813447509569436"
      ]
     },
     "execution_count": 161,
     "metadata": {},
     "output_type": "execute_result"
    }
   ],
   "source": [
    "sum(final['baseline'])/final.shape[0]"
   ]
  },
  {
   "cell_type": "code",
   "execution_count": null,
   "metadata": {},
   "outputs": [
    {
     "data": {
      "text/plain": [
       "21.567021532284965"
      ]
     },
     "execution_count": 162,
     "metadata": {},
     "output_type": "execute_result"
    }
   ],
   "source": [
    "sum(final[final['stock'] !='GCBC']['pvm'])/116 #if i remove the GCBC "
   ]
  },
  {
   "cell_type": "code",
   "execution_count": null,
   "metadata": {},
   "outputs": [
    {
     "data": {
      "text/html": [
       "<div>\n",
       "<style scoped>\n",
       "    .dataframe tbody tr th:only-of-type {\n",
       "        vertical-align: middle;\n",
       "    }\n",
       "\n",
       "    .dataframe tbody tr th {\n",
       "        vertical-align: top;\n",
       "    }\n",
       "\n",
       "    .dataframe thead th {\n",
       "        text-align: right;\n",
       "    }\n",
       "</style>\n",
       "<table border=\"1\" class=\"dataframe\">\n",
       "  <thead>\n",
       "    <tr style=\"text-align: right;\">\n",
       "      <th></th>\n",
       "      <th>Unnamed: 0</th>\n",
       "      <th>stock</th>\n",
       "      <th>pvm</th>\n",
       "      <th>baseline</th>\n",
       "    </tr>\n",
       "  </thead>\n",
       "  <tbody>\n",
       "    <tr>\n",
       "      <th>67</th>\n",
       "      <td>67</td>\n",
       "      <td>PEP</td>\n",
       "      <td>0.4631</td>\n",
       "      <td>0.4648</td>\n",
       "    </tr>\n",
       "    <tr>\n",
       "      <th>31</th>\n",
       "      <td>31</td>\n",
       "      <td>APA</td>\n",
       "      <td>0.5874</td>\n",
       "      <td>0.6768</td>\n",
       "    </tr>\n",
       "    <tr>\n",
       "      <th>90</th>\n",
       "      <td>90</td>\n",
       "      <td>MCHP</td>\n",
       "      <td>0.6696</td>\n",
       "      <td>0.6083</td>\n",
       "    </tr>\n",
       "    <tr>\n",
       "      <th>59</th>\n",
       "      <td>59</td>\n",
       "      <td>MRO</td>\n",
       "      <td>0.6955</td>\n",
       "      <td>0.5490</td>\n",
       "    </tr>\n",
       "    <tr>\n",
       "      <th>46</th>\n",
       "      <td>46</td>\n",
       "      <td>NFLX</td>\n",
       "      <td>0.7405</td>\n",
       "      <td>1.1784</td>\n",
       "    </tr>\n",
       "    <tr>\n",
       "      <th>85</th>\n",
       "      <td>85</td>\n",
       "      <td>GME</td>\n",
       "      <td>0.9393</td>\n",
       "      <td>0.8500</td>\n",
       "    </tr>\n",
       "    <tr>\n",
       "      <th>103</th>\n",
       "      <td>103</td>\n",
       "      <td>BLDR</td>\n",
       "      <td>1.0443</td>\n",
       "      <td>1.0613</td>\n",
       "    </tr>\n",
       "    <tr>\n",
       "      <th>50</th>\n",
       "      <td>50</td>\n",
       "      <td>APH</td>\n",
       "      <td>1.0531</td>\n",
       "      <td>1.0661</td>\n",
       "    </tr>\n",
       "    <tr>\n",
       "      <th>38</th>\n",
       "      <td>38</td>\n",
       "      <td>DUK</td>\n",
       "      <td>1.1429</td>\n",
       "      <td>0.9580</td>\n",
       "    </tr>\n",
       "    <tr>\n",
       "      <th>12</th>\n",
       "      <td>12</td>\n",
       "      <td>PXD</td>\n",
       "      <td>1.2563</td>\n",
       "      <td>0.7980</td>\n",
       "    </tr>\n",
       "    <tr>\n",
       "      <th>0</th>\n",
       "      <td>0</td>\n",
       "      <td>LEN</td>\n",
       "      <td>1.4900</td>\n",
       "      <td>1.7689</td>\n",
       "    </tr>\n",
       "    <tr>\n",
       "      <th>84</th>\n",
       "      <td>84</td>\n",
       "      <td>MCD</td>\n",
       "      <td>1.6399</td>\n",
       "      <td>1.1162</td>\n",
       "    </tr>\n",
       "    <tr>\n",
       "      <th>98</th>\n",
       "      <td>98</td>\n",
       "      <td>UUUU</td>\n",
       "      <td>1.6730</td>\n",
       "      <td>2.2286</td>\n",
       "    </tr>\n",
       "    <tr>\n",
       "      <th>53</th>\n",
       "      <td>53</td>\n",
       "      <td>HCA</td>\n",
       "      <td>1.8033</td>\n",
       "      <td>2.0202</td>\n",
       "    </tr>\n",
       "    <tr>\n",
       "      <th>6</th>\n",
       "      <td>6</td>\n",
       "      <td>VICI</td>\n",
       "      <td>1.8269</td>\n",
       "      <td>2.2979</td>\n",
       "    </tr>\n",
       "    <tr>\n",
       "      <th>60</th>\n",
       "      <td>60</td>\n",
       "      <td>INCY</td>\n",
       "      <td>1.8913</td>\n",
       "      <td>2.1950</td>\n",
       "    </tr>\n",
       "    <tr>\n",
       "      <th>28</th>\n",
       "      <td>28</td>\n",
       "      <td>CSX</td>\n",
       "      <td>1.9436</td>\n",
       "      <td>0.9624</td>\n",
       "    </tr>\n",
       "    <tr>\n",
       "      <th>15</th>\n",
       "      <td>15</td>\n",
       "      <td>BWFG</td>\n",
       "      <td>2.0034</td>\n",
       "      <td>2.9989</td>\n",
       "    </tr>\n",
       "    <tr>\n",
       "      <th>24</th>\n",
       "      <td>24</td>\n",
       "      <td>ABC</td>\n",
       "      <td>2.0721</td>\n",
       "      <td>1.7612</td>\n",
       "    </tr>\n",
       "    <tr>\n",
       "      <th>23</th>\n",
       "      <td>23</td>\n",
       "      <td>TRMB</td>\n",
       "      <td>2.1900</td>\n",
       "      <td>1.5514</td>\n",
       "    </tr>\n",
       "    <tr>\n",
       "      <th>66</th>\n",
       "      <td>66</td>\n",
       "      <td>PEG</td>\n",
       "      <td>2.2874</td>\n",
       "      <td>2.0310</td>\n",
       "    </tr>\n",
       "    <tr>\n",
       "      <th>19</th>\n",
       "      <td>19</td>\n",
       "      <td>FDBC</td>\n",
       "      <td>2.3409</td>\n",
       "      <td>1.2597</td>\n",
       "    </tr>\n",
       "    <tr>\n",
       "      <th>9</th>\n",
       "      <td>9</td>\n",
       "      <td>DHT</td>\n",
       "      <td>2.9759</td>\n",
       "      <td>2.8717</td>\n",
       "    </tr>\n",
       "    <tr>\n",
       "      <th>65</th>\n",
       "      <td>65</td>\n",
       "      <td>GPK</td>\n",
       "      <td>3.8564</td>\n",
       "      <td>1.2196</td>\n",
       "    </tr>\n",
       "    <tr>\n",
       "      <th>88</th>\n",
       "      <td>88</td>\n",
       "      <td>PCG</td>\n",
       "      <td>4.2728</td>\n",
       "      <td>3.1699</td>\n",
       "    </tr>\n",
       "  </tbody>\n",
       "</table>\n",
       "</div>"
      ],
      "text/plain": [
       "     Unnamed: 0 stock    pvm  baseline\n",
       "67           67   PEP 0.4631    0.4648\n",
       "31           31   APA 0.5874    0.6768\n",
       "90           90  MCHP 0.6696    0.6083\n",
       "59           59   MRO 0.6955    0.5490\n",
       "46           46  NFLX 0.7405    1.1784\n",
       "85           85   GME 0.9393    0.8500\n",
       "103         103  BLDR 1.0443    1.0613\n",
       "50           50   APH 1.0531    1.0661\n",
       "38           38   DUK 1.1429    0.9580\n",
       "12           12   PXD 1.2563    0.7980\n",
       "0             0   LEN 1.4900    1.7689\n",
       "84           84   MCD 1.6399    1.1162\n",
       "98           98  UUUU 1.6730    2.2286\n",
       "53           53   HCA 1.8033    2.0202\n",
       "6             6  VICI 1.8269    2.2979\n",
       "60           60  INCY 1.8913    2.1950\n",
       "28           28   CSX 1.9436    0.9624\n",
       "15           15  BWFG 2.0034    2.9989\n",
       "24           24   ABC 2.0721    1.7612\n",
       "23           23  TRMB 2.1900    1.5514\n",
       "66           66   PEG 2.2874    2.0310\n",
       "19           19  FDBC 2.3409    1.2597\n",
       "9             9   DHT 2.9759    2.8717\n",
       "65           65   GPK 3.8564    1.2196\n",
       "88           88   PCG 4.2728    3.1699"
      ]
     },
     "execution_count": 163,
     "metadata": {},
     "output_type": "execute_result"
    }
   ],
   "source": [
    "final.sort_values(by=['pvm']).head(25)"
   ]
  },
  {
   "cell_type": "code",
   "execution_count": null,
   "metadata": {},
   "outputs": [
    {
     "data": {
      "application/vnd.plotly.v1+json": {
       "config": {
        "plotlyServerURL": "https://plot.ly"
       },
       "data": [
        {
         "name": "Price Volatility Model",
         "type": "bar",
         "x": [
          "LEN",
          "CARA",
          "SILK",
          "NATH",
          "APPF",
          "HEES",
          "VICI",
          "SR",
          "TOL",
          "DHT",
          "STNG",
          "EMN",
          "PXD",
          "NBHC",
          "XBIT",
          "BWFG",
          "FLXS",
          "BUSE",
          "EVBG",
          "FDBC",
          "BIG",
          "CPRX",
          "MCRB",
          "TRMB",
          "ABC",
          "BHB",
          "GEF",
          "VGR",
          "CSX",
          "NX",
          "MC",
          "APA",
          "HSII",
          "HSKA",
          "PII",
          "KRA",
          "STC",
          "OSW",
          "DUK",
          "GPRO",
          "JOUT",
          "SGEN",
          "AMAL",
          "EVRI",
          "HMTV",
          "AGM",
          "NFLX",
          "EVRG",
          "PRK",
          "TH",
          "APH",
          "NP",
          "CRC",
          "HCA",
          "CHRA",
          "SBCF",
          "VC",
          "NXRT",
          "FRBA",
          "MRO",
          "INCY",
          "EZPW",
          "PTCT",
          "SGRY",
          "WWD",
          "GPK",
          "PEG",
          "PEP",
          "ESE",
          "TFX",
          "LLNW",
          "CR",
          "JOE",
          "MUSA",
          "YCBD",
          "AXGN",
          "FISI",
          "RDUS",
          "RNR",
          "STXB",
          "GCO",
          "ALLE",
          "PWOD",
          "SFL",
          "MCD",
          "GME",
          "G",
          "LEA",
          "PCG",
          "STAR",
          "MCHP",
          "SGMO",
          "CHCO",
          "VYGR",
          "AMSC",
          "BSGM",
          "EXTN",
          "ELS",
          "UUUU",
          "TTI",
          "KRUS",
          "ENSG",
          "MOV",
          "BLDR",
          "OLN",
          "RGEN"
         ],
         "y": [
          1.4899763421367649,
          17.511740363002165,
          35.567209167972784,
          7.085568473300869,
          28.036878617230208,
          54.65119670484136,
          1.826862333960149,
          23.30267537319329,
          25.37671805374409,
          2.9758708631455333,
          31.71160778041124,
          12.535451397438123,
          1.256253342890478,
          36.44602665121554,
          53.13122165449876,
          2.003441050175231,
          53.14257082528412,
          32.70021687357861,
          19.270766841681453,
          2.3409353522305096,
          10.203537795084465,
          46.451360768361454,
          5.75326438080758,
          2.190031449472266,
          2.0720725340254864,
          12.722522037751435,
          11.37775093095412,
          31.35821318174468,
          1.943566273548867,
          35.863660952635094,
          36.3484032524127,
          0.5873535274838115,
          26.54995476958209,
          25.811234562951935,
          17.993768592380658,
          17.4951423889855,
          31.473242381820626,
          55.337354145793206,
          1.1429363470525704,
          4.94330371880243,
          8.229262939939009,
          8.030096556111202,
          36.77057262727495,
          30.164156864460736,
          46.859450045809936,
          8.740094618076046,
          0.7404921422958519,
          18.671550271200267,
          28.889687967941075,
          33.49665544195503,
          1.0530814578400036,
          28.99356821621535,
          24.02471002059865,
          1.8033411135211623,
          11.7117771908072,
          48.8896374324337,
          40.09187107986443,
          17.91230037959658,
          26.14977680186835,
          0.695509836909657,
          1.8913322213108563,
          45.34030134015213,
          24.204103831163856,
          36.57025227984226,
          16.335043466845512,
          3.856378455809938,
          2.287435848163896,
          0.4630916403924872,
          22.67492632690325,
          25.45626393646808,
          20.37532727290992,
          23.25845214808239,
          23.248279858306912,
          17.683069361925828,
          81.31464329126734,
          78.75974940523302,
          17.196312453394604,
          61.285999594701615,
          16.762154427905294,
          15.218233043999064,
          25.327248621091798,
          12.779049239931616,
          81.28624059257689,
          93.933054176186,
          1.6399310684886792,
          0.93930231776248,
          42.03287420734589,
          19.58852891802333,
          4.272793248027828,
          19.55970348915465,
          0.669605474978371,
          31.373950460860502,
          17.77288858221853,
          44.60299974688208,
          54.377220410557584,
          34.40968295620113,
          39.32390103869298,
          13.410556807778422,
          1.6729738175363988,
          53.332005813464725,
          28.108727630687948,
          19.75694343474505,
          46.20240345974345,
          1.0443252392424711,
          6.270345411336053,
          32.006436318460935
         ]
        },
        {
         "name": "Baseline",
         "type": "bar",
         "x": [
          "LEN",
          "CARA",
          "SILK",
          "NATH",
          "APPF",
          "HEES",
          "VICI",
          "SR",
          "TOL",
          "DHT",
          "STNG",
          "EMN",
          "PXD",
          "NBHC",
          "XBIT",
          "BWFG",
          "FLXS",
          "BUSE",
          "EVBG",
          "FDBC",
          "BIG",
          "CPRX",
          "MCRB",
          "TRMB",
          "ABC",
          "BHB",
          "GEF",
          "VGR",
          "CSX",
          "NX",
          "MC",
          "APA",
          "HSII",
          "HSKA",
          "PII",
          "KRA",
          "STC",
          "OSW",
          "DUK",
          "GPRO",
          "JOUT",
          "SGEN",
          "AMAL",
          "EVRI",
          "HMTV",
          "AGM",
          "NFLX",
          "EVRG",
          "PRK",
          "TH",
          "APH",
          "NP",
          "CRC",
          "HCA",
          "CHRA",
          "SBCF",
          "VC",
          "NXRT",
          "FRBA",
          "MRO",
          "INCY",
          "EZPW",
          "PTCT",
          "SGRY",
          "WWD",
          "GPK",
          "PEG",
          "PEP",
          "ESE",
          "TFX",
          "LLNW",
          "CR",
          "JOE",
          "MUSA",
          "YCBD",
          "AXGN",
          "FISI",
          "RDUS",
          "RNR",
          "STXB",
          "GCO",
          "ALLE",
          "PWOD",
          "SFL",
          "MCD",
          "GME",
          "G",
          "LEA",
          "PCG",
          "STAR",
          "MCHP",
          "SGMO",
          "CHCO",
          "VYGR",
          "AMSC",
          "BSGM",
          "EXTN",
          "ELS",
          "UUUU",
          "TTI",
          "KRUS",
          "ENSG",
          "MOV",
          "BLDR",
          "OLN",
          "RGEN"
         ],
         "y": [
          1.7688716366553867,
          14.742497122742966,
          38.40655925833177,
          1.999276505700824,
          24.37485835026643,
          27.21704829711863,
          2.2979291861550046,
          23.892931587162437,
          24.512855287756658,
          2.871725632876429,
          76.58511604756062,
          8.81488870571693,
          0.7980299527417678,
          29.4234647901396,
          38.66051552958682,
          2.99886518601344,
          12.93047821109242,
          24.339719130542083,
          8.410787100496673,
          1.259723662103595,
          9.337423859513269,
          45.965440162980094,
          5.413069009181553,
          1.551400956653754,
          1.7612050480855852,
          11.319526259623505,
          51.37137674570742,
          32.28238922992016,
          0.9623818885014104,
          48.19680523658206,
          61.19030990115111,
          0.6768224812925943,
          25.34652756047593,
          12.714256849534816,
          21.240553088650323,
          26.63702731558674,
          25.91114748327336,
          52.56836689248321,
          0.9580469603512918,
          3.725672707080877,
          6.993372506838234,
          6.979609588307337,
          36.74220974589588,
          16.72028640471357,
          68.3667988378014,
          10.398342201317384,
          1.1784180473238448,
          13.005420776590258,
          17.55963384045324,
          26.33185193503385,
          1.066096179379548,
          40.47077739595036,
          25.30153225171634,
          2.0202333933908987,
          14.827382834847938,
          36.770451892025214,
          56.55754832640773,
          26.812596726120383,
          3.2378308925024366,
          0.5489940084484597,
          2.1949985900447366,
          42.07655705698616,
          19.920000094515306,
          45.33120843055863,
          29.10002471886393,
          1.21955092858269,
          2.0310022829856003,
          0.4648471013355927,
          27.14614277531676,
          21.43419148235452,
          27.29617990617654,
          36.8673359985908,
          18.987475003698822,
          32.06757181618112,
          35.26933532237349,
          40.63480790400406,
          6.580310324889338,
          76.7382198426445,
          17.131555184679424,
          6.2078126771668245,
          37.19573116762456,
          13.941106507119525,
          8.23258735000717,
          41.88246031079504,
          1.116168610734738,
          0.8499873200361471,
          26.240798539256318,
          26.30445983712122,
          3.1698593150471024,
          34.85252994242291,
          0.6083134464622771,
          33.83490091366714,
          11.937285322843636,
          64.38415476625705,
          76.87339230746245,
          51.557504235813454,
          77.41498276128709,
          18.572654361548736,
          2.228581192036222,
          62.04581312800256,
          27.285001233972377,
          38.97982416484696,
          10.911045679996258,
          1.0612960286278337,
          16.50053993040773,
          24.22005159656213
         ]
        }
       ],
       "layout": {
        "template": {
         "data": {
          "bar": [
           {
            "error_x": {
             "color": "#2a3f5f"
            },
            "error_y": {
             "color": "#2a3f5f"
            },
            "marker": {
             "line": {
              "color": "#E5ECF6",
              "width": 0.5
             },
             "pattern": {
              "fillmode": "overlay",
              "size": 10,
              "solidity": 0.2
             }
            },
            "type": "bar"
           }
          ],
          "barpolar": [
           {
            "marker": {
             "line": {
              "color": "#E5ECF6",
              "width": 0.5
             },
             "pattern": {
              "fillmode": "overlay",
              "size": 10,
              "solidity": 0.2
             }
            },
            "type": "barpolar"
           }
          ],
          "carpet": [
           {
            "aaxis": {
             "endlinecolor": "#2a3f5f",
             "gridcolor": "white",
             "linecolor": "white",
             "minorgridcolor": "white",
             "startlinecolor": "#2a3f5f"
            },
            "baxis": {
             "endlinecolor": "#2a3f5f",
             "gridcolor": "white",
             "linecolor": "white",
             "minorgridcolor": "white",
             "startlinecolor": "#2a3f5f"
            },
            "type": "carpet"
           }
          ],
          "choropleth": [
           {
            "colorbar": {
             "outlinewidth": 0,
             "ticks": ""
            },
            "type": "choropleth"
           }
          ],
          "contour": [
           {
            "colorbar": {
             "outlinewidth": 0,
             "ticks": ""
            },
            "colorscale": [
             [
              0,
              "#0d0887"
             ],
             [
              0.1111111111111111,
              "#46039f"
             ],
             [
              0.2222222222222222,
              "#7201a8"
             ],
             [
              0.3333333333333333,
              "#9c179e"
             ],
             [
              0.4444444444444444,
              "#bd3786"
             ],
             [
              0.5555555555555556,
              "#d8576b"
             ],
             [
              0.6666666666666666,
              "#ed7953"
             ],
             [
              0.7777777777777778,
              "#fb9f3a"
             ],
             [
              0.8888888888888888,
              "#fdca26"
             ],
             [
              1,
              "#f0f921"
             ]
            ],
            "type": "contour"
           }
          ],
          "contourcarpet": [
           {
            "colorbar": {
             "outlinewidth": 0,
             "ticks": ""
            },
            "type": "contourcarpet"
           }
          ],
          "heatmap": [
           {
            "colorbar": {
             "outlinewidth": 0,
             "ticks": ""
            },
            "colorscale": [
             [
              0,
              "#0d0887"
             ],
             [
              0.1111111111111111,
              "#46039f"
             ],
             [
              0.2222222222222222,
              "#7201a8"
             ],
             [
              0.3333333333333333,
              "#9c179e"
             ],
             [
              0.4444444444444444,
              "#bd3786"
             ],
             [
              0.5555555555555556,
              "#d8576b"
             ],
             [
              0.6666666666666666,
              "#ed7953"
             ],
             [
              0.7777777777777778,
              "#fb9f3a"
             ],
             [
              0.8888888888888888,
              "#fdca26"
             ],
             [
              1,
              "#f0f921"
             ]
            ],
            "type": "heatmap"
           }
          ],
          "heatmapgl": [
           {
            "colorbar": {
             "outlinewidth": 0,
             "ticks": ""
            },
            "colorscale": [
             [
              0,
              "#0d0887"
             ],
             [
              0.1111111111111111,
              "#46039f"
             ],
             [
              0.2222222222222222,
              "#7201a8"
             ],
             [
              0.3333333333333333,
              "#9c179e"
             ],
             [
              0.4444444444444444,
              "#bd3786"
             ],
             [
              0.5555555555555556,
              "#d8576b"
             ],
             [
              0.6666666666666666,
              "#ed7953"
             ],
             [
              0.7777777777777778,
              "#fb9f3a"
             ],
             [
              0.8888888888888888,
              "#fdca26"
             ],
             [
              1,
              "#f0f921"
             ]
            ],
            "type": "heatmapgl"
           }
          ],
          "histogram": [
           {
            "marker": {
             "pattern": {
              "fillmode": "overlay",
              "size": 10,
              "solidity": 0.2
             }
            },
            "type": "histogram"
           }
          ],
          "histogram2d": [
           {
            "colorbar": {
             "outlinewidth": 0,
             "ticks": ""
            },
            "colorscale": [
             [
              0,
              "#0d0887"
             ],
             [
              0.1111111111111111,
              "#46039f"
             ],
             [
              0.2222222222222222,
              "#7201a8"
             ],
             [
              0.3333333333333333,
              "#9c179e"
             ],
             [
              0.4444444444444444,
              "#bd3786"
             ],
             [
              0.5555555555555556,
              "#d8576b"
             ],
             [
              0.6666666666666666,
              "#ed7953"
             ],
             [
              0.7777777777777778,
              "#fb9f3a"
             ],
             [
              0.8888888888888888,
              "#fdca26"
             ],
             [
              1,
              "#f0f921"
             ]
            ],
            "type": "histogram2d"
           }
          ],
          "histogram2dcontour": [
           {
            "colorbar": {
             "outlinewidth": 0,
             "ticks": ""
            },
            "colorscale": [
             [
              0,
              "#0d0887"
             ],
             [
              0.1111111111111111,
              "#46039f"
             ],
             [
              0.2222222222222222,
              "#7201a8"
             ],
             [
              0.3333333333333333,
              "#9c179e"
             ],
             [
              0.4444444444444444,
              "#bd3786"
             ],
             [
              0.5555555555555556,
              "#d8576b"
             ],
             [
              0.6666666666666666,
              "#ed7953"
             ],
             [
              0.7777777777777778,
              "#fb9f3a"
             ],
             [
              0.8888888888888888,
              "#fdca26"
             ],
             [
              1,
              "#f0f921"
             ]
            ],
            "type": "histogram2dcontour"
           }
          ],
          "mesh3d": [
           {
            "colorbar": {
             "outlinewidth": 0,
             "ticks": ""
            },
            "type": "mesh3d"
           }
          ],
          "parcoords": [
           {
            "line": {
             "colorbar": {
              "outlinewidth": 0,
              "ticks": ""
             }
            },
            "type": "parcoords"
           }
          ],
          "pie": [
           {
            "automargin": true,
            "type": "pie"
           }
          ],
          "scatter": [
           {
            "marker": {
             "colorbar": {
              "outlinewidth": 0,
              "ticks": ""
             }
            },
            "type": "scatter"
           }
          ],
          "scatter3d": [
           {
            "line": {
             "colorbar": {
              "outlinewidth": 0,
              "ticks": ""
             }
            },
            "marker": {
             "colorbar": {
              "outlinewidth": 0,
              "ticks": ""
             }
            },
            "type": "scatter3d"
           }
          ],
          "scattercarpet": [
           {
            "marker": {
             "colorbar": {
              "outlinewidth": 0,
              "ticks": ""
             }
            },
            "type": "scattercarpet"
           }
          ],
          "scattergeo": [
           {
            "marker": {
             "colorbar": {
              "outlinewidth": 0,
              "ticks": ""
             }
            },
            "type": "scattergeo"
           }
          ],
          "scattergl": [
           {
            "marker": {
             "colorbar": {
              "outlinewidth": 0,
              "ticks": ""
             }
            },
            "type": "scattergl"
           }
          ],
          "scattermapbox": [
           {
            "marker": {
             "colorbar": {
              "outlinewidth": 0,
              "ticks": ""
             }
            },
            "type": "scattermapbox"
           }
          ],
          "scatterpolar": [
           {
            "marker": {
             "colorbar": {
              "outlinewidth": 0,
              "ticks": ""
             }
            },
            "type": "scatterpolar"
           }
          ],
          "scatterpolargl": [
           {
            "marker": {
             "colorbar": {
              "outlinewidth": 0,
              "ticks": ""
             }
            },
            "type": "scatterpolargl"
           }
          ],
          "scatterternary": [
           {
            "marker": {
             "colorbar": {
              "outlinewidth": 0,
              "ticks": ""
             }
            },
            "type": "scatterternary"
           }
          ],
          "surface": [
           {
            "colorbar": {
             "outlinewidth": 0,
             "ticks": ""
            },
            "colorscale": [
             [
              0,
              "#0d0887"
             ],
             [
              0.1111111111111111,
              "#46039f"
             ],
             [
              0.2222222222222222,
              "#7201a8"
             ],
             [
              0.3333333333333333,
              "#9c179e"
             ],
             [
              0.4444444444444444,
              "#bd3786"
             ],
             [
              0.5555555555555556,
              "#d8576b"
             ],
             [
              0.6666666666666666,
              "#ed7953"
             ],
             [
              0.7777777777777778,
              "#fb9f3a"
             ],
             [
              0.8888888888888888,
              "#fdca26"
             ],
             [
              1,
              "#f0f921"
             ]
            ],
            "type": "surface"
           }
          ],
          "table": [
           {
            "cells": {
             "fill": {
              "color": "#EBF0F8"
             },
             "line": {
              "color": "white"
             }
            },
            "header": {
             "fill": {
              "color": "#C8D4E3"
             },
             "line": {
              "color": "white"
             }
            },
            "type": "table"
           }
          ]
         },
         "layout": {
          "annotationdefaults": {
           "arrowcolor": "#2a3f5f",
           "arrowhead": 0,
           "arrowwidth": 1
          },
          "autotypenumbers": "strict",
          "coloraxis": {
           "colorbar": {
            "outlinewidth": 0,
            "ticks": ""
           }
          },
          "colorscale": {
           "diverging": [
            [
             0,
             "#8e0152"
            ],
            [
             0.1,
             "#c51b7d"
            ],
            [
             0.2,
             "#de77ae"
            ],
            [
             0.3,
             "#f1b6da"
            ],
            [
             0.4,
             "#fde0ef"
            ],
            [
             0.5,
             "#f7f7f7"
            ],
            [
             0.6,
             "#e6f5d0"
            ],
            [
             0.7,
             "#b8e186"
            ],
            [
             0.8,
             "#7fbc41"
            ],
            [
             0.9,
             "#4d9221"
            ],
            [
             1,
             "#276419"
            ]
           ],
           "sequential": [
            [
             0,
             "#0d0887"
            ],
            [
             0.1111111111111111,
             "#46039f"
            ],
            [
             0.2222222222222222,
             "#7201a8"
            ],
            [
             0.3333333333333333,
             "#9c179e"
            ],
            [
             0.4444444444444444,
             "#bd3786"
            ],
            [
             0.5555555555555556,
             "#d8576b"
            ],
            [
             0.6666666666666666,
             "#ed7953"
            ],
            [
             0.7777777777777778,
             "#fb9f3a"
            ],
            [
             0.8888888888888888,
             "#fdca26"
            ],
            [
             1,
             "#f0f921"
            ]
           ],
           "sequentialminus": [
            [
             0,
             "#0d0887"
            ],
            [
             0.1111111111111111,
             "#46039f"
            ],
            [
             0.2222222222222222,
             "#7201a8"
            ],
            [
             0.3333333333333333,
             "#9c179e"
            ],
            [
             0.4444444444444444,
             "#bd3786"
            ],
            [
             0.5555555555555556,
             "#d8576b"
            ],
            [
             0.6666666666666666,
             "#ed7953"
            ],
            [
             0.7777777777777778,
             "#fb9f3a"
            ],
            [
             0.8888888888888888,
             "#fdca26"
            ],
            [
             1,
             "#f0f921"
            ]
           ]
          },
          "colorway": [
           "#636efa",
           "#EF553B",
           "#00cc96",
           "#ab63fa",
           "#FFA15A",
           "#19d3f3",
           "#FF6692",
           "#B6E880",
           "#FF97FF",
           "#FECB52"
          ],
          "font": {
           "color": "#2a3f5f"
          },
          "geo": {
           "bgcolor": "white",
           "lakecolor": "white",
           "landcolor": "#E5ECF6",
           "showlakes": true,
           "showland": true,
           "subunitcolor": "white"
          },
          "hoverlabel": {
           "align": "left"
          },
          "hovermode": "closest",
          "mapbox": {
           "style": "light"
          },
          "paper_bgcolor": "white",
          "plot_bgcolor": "#E5ECF6",
          "polar": {
           "angularaxis": {
            "gridcolor": "white",
            "linecolor": "white",
            "ticks": ""
           },
           "bgcolor": "#E5ECF6",
           "radialaxis": {
            "gridcolor": "white",
            "linecolor": "white",
            "ticks": ""
           }
          },
          "scene": {
           "xaxis": {
            "backgroundcolor": "#E5ECF6",
            "gridcolor": "white",
            "gridwidth": 2,
            "linecolor": "white",
            "showbackground": true,
            "ticks": "",
            "zerolinecolor": "white"
           },
           "yaxis": {
            "backgroundcolor": "#E5ECF6",
            "gridcolor": "white",
            "gridwidth": 2,
            "linecolor": "white",
            "showbackground": true,
            "ticks": "",
            "zerolinecolor": "white"
           },
           "zaxis": {
            "backgroundcolor": "#E5ECF6",
            "gridcolor": "white",
            "gridwidth": 2,
            "linecolor": "white",
            "showbackground": true,
            "ticks": "",
            "zerolinecolor": "white"
           }
          },
          "shapedefaults": {
           "line": {
            "color": "#2a3f5f"
           }
          },
          "ternary": {
           "aaxis": {
            "gridcolor": "white",
            "linecolor": "white",
            "ticks": ""
           },
           "baxis": {
            "gridcolor": "white",
            "linecolor": "white",
            "ticks": ""
           },
           "bgcolor": "#E5ECF6",
           "caxis": {
            "gridcolor": "white",
            "linecolor": "white",
            "ticks": ""
           }
          },
          "title": {
           "x": 0.05
          },
          "xaxis": {
           "automargin": true,
           "gridcolor": "white",
           "linecolor": "white",
           "ticks": "",
           "title": {
            "standoff": 15
           },
           "zerolinecolor": "white",
           "zerolinewidth": 2
          },
          "yaxis": {
           "automargin": true,
           "gridcolor": "white",
           "linecolor": "white",
           "ticks": "",
           "title": {
            "standoff": 15
           },
           "zerolinecolor": "white",
           "zerolinewidth": 2
          }
         }
        },
        "xaxis": {
         "title": {
          "text": "Russell 1000/2000"
         }
        },
        "yaxis": {
         "title": {
          "text": "Metrics Values"
         }
        }
       }
      }
     },
     "metadata": {},
     "output_type": "display_data"
    }
   ],
   "source": [
    "fig = px.Figure()\n",
    "fig = px.Figure(data=[px.Bar(\n",
    "    name = 'Price Volatility Model',\n",
    "    x = final['stock'],\n",
    "    y = final['pvm']\n",
    "   ),\n",
    "                       px.Bar(\n",
    "    name = 'Baseline',\n",
    "    x = final['stock'],\n",
    "    y = final['baseline']\n",
    "   )\n",
    "])\n",
    "fig.update_xaxes(title_text=\"Russell 1000/2000\")\n",
    "fig.update_yaxes(title_text=\"Metrics Values\")\n",
    "fig.show()               \n"
   ]
  },
  {
   "cell_type": "code",
   "execution_count": null,
   "metadata": {},
   "outputs": [],
   "source": [
    "import seaborn as sns"
   ]
  },
  {
   "cell_type": "code",
   "execution_count": null,
   "metadata": {},
   "outputs": [],
   "source": [
    "df_dict = {}"
   ]
  },
  {
   "cell_type": "code",
   "execution_count": null,
   "metadata": {},
   "outputs": [
    {
     "name": "stderr",
     "output_type": "stream",
     "text": [
      "100%|███████████████████████████████████████████| 50/50 [00:02<00:00, 24.24it/s]\n"
     ]
    }
   ],
   "source": [
    "for i in tqdm(data_paths[19+58+8:]):\n",
    "    date = '2021-11-23'\n",
    "    df = pd.read_csv(i)\n",
    "    df = prep_data(df, date)\n",
    "    ticker = df['sym_root'].unique()[0]\n",
    "    if ticker in loaded_dictionary.keys():\n",
    "        df = df.merge(loaded_dictionary[ticker][['time', 'residual', 'size','est']],\n",
    "                         how='inner', on = 'time')\n",
    "        df_dict[ticker] = df"
   ]
  },
  {
   "cell_type": "code",
   "execution_count": null,
   "metadata": {},
   "outputs": [
    {
     "data": {
      "text/plain": [
       "[Text(0.5, 1.0, 'Price Volatility versus Residual Intraday Volume - PEP')]"
      ]
     },
     "execution_count": 142,
     "metadata": {},
     "output_type": "execute_result"
    },
    {
     "data": {
      "image/png": "[encoded data removed]",
      "text/plain": [
       "<Figure size 432x288 with 1 Axes>"
      ]
     },
     "metadata": {
      "needs_background": "light"
     },
     "output_type": "display_data"
    }
   ],
   "source": [
    "sns.scatterplot(x='pr_sd', y='residual', data=df_dict['PEP']).set(title='Price Volatility versus Residual Intraday Volume - PEP')"
   ]
  },
  {
   "cell_type": "code",
   "execution_count": null,
   "metadata": {},
   "outputs": [
    {
     "data": {
      "text/plain": [
       "[Text(0.5, 1.0, 'Price Volatility versus Residual Intraday Volume - APA')]"
      ]
     },
     "execution_count": 143,
     "metadata": {},
     "output_type": "execute_result"
    },
    {
     "data": {
      "image/png": "[encoded data removed]",
      "text/plain": [
       "<Figure size 432x288 with 1 Axes>"
      ]
     },
     "metadata": {
      "needs_background": "light"
     },
     "output_type": "display_data"
    }
   ],
   "source": [
    "sns.scatterplot(x='pr_sd', y='residual', data=df_dict['APA']).set(title='Price Volatility versus Residual Intraday Volume - APA')"
   ]
  },
  {
   "cell_type": "code",
   "execution_count": null,
   "metadata": {},
   "outputs": [
    {
     "data": {
      "text/plain": [
       "[Text(0.5, 1.0, 'Price Volatility versus Residual Intraday Volume - NFLX')]"
      ]
     },
     "execution_count": 144,
     "metadata": {},
     "output_type": "execute_result"
    },
    {
     "data": {
      "image/png": "[encoded data removed]",
      "text/plain": [
       "<Figure size 432x288 with 1 Axes>"
      ]
     },
     "metadata": {
      "needs_background": "light"
     },
     "output_type": "display_data"
    }
   ],
   "source": [
    "sns.scatterplot(x='pr_sd', y='residual', data=df_dict['NFLX']).set(title='Price Volatility versus Residual Intraday Volume - NFLX')"
   ]
  },
  {
   "cell_type": "code",
   "execution_count": null,
   "metadata": {},
   "outputs": [
    {
     "data": {
      "text/plain": [
       "[Text(0.5, 1.0, 'Price Volatility versus Residual Intraday Volume - AXGN')]"
      ]
     },
     "execution_count": 145,
     "metadata": {},
     "output_type": "execute_result"
    },
    {
     "data": {
      "image/png": "[encoded data removed]",
      "text/plain": [
       "<Figure size 432x288 with 1 Axes>"
      ]
     },
     "metadata": {
      "needs_background": "light"
     },
     "output_type": "display_data"
    }
   ],
   "source": [
    "sns.scatterplot(x='pr_sd', y='residual', data=df_dict['AXGN']).set(title='Price Volatility versus Residual Intraday Volume - AXGN')"
   ]
  },
  {
   "cell_type": "code",
   "execution_count": null,
   "metadata": {},
   "outputs": [
    {
     "data": {
      "text/plain": [
       "[Text(0.5, 1.0, 'Price Volatility versus Residual Intraday Volume - MOV')]"
      ]
     },
     "execution_count": 146,
     "metadata": {},
     "output_type": "execute_result"
    },
    {
     "data": {
      "image/png": "[encoded data removed]",
      "text/plain": [
       "<Figure size 432x288 with 1 Axes>"
      ]
     },
     "metadata": {
      "needs_background": "light"
     },
     "output_type": "display_data"
    }
   ],
   "source": [
    "sns.scatterplot(x='pr_sd', y='residual', data=df_dict['MOV']).set(title='Price Volatility versus Residual Intraday Volume - MOV')"
   ]
  },
  {
   "cell_type": "code",
   "execution_count": null,
   "metadata": {},
   "outputs": [
    {
     "data": {
      "text/plain": [
       "[Text(0.5, 1.0, 'Price Volatility versus Residual Intraday Volume - BSGM')]"
      ]
     },
     "execution_count": 147,
     "metadata": {},
     "output_type": "execute_result"
    },
    {
     "data": {
      "image/png": "[encoded data removed]",
      "text/plain": [
       "<Figure size 432x288 with 1 Axes>"
      ]
     },
     "metadata": {
      "needs_background": "light"
     },
     "output_type": "display_data"
    }
   ],
   "source": [
    "sns.scatterplot(x='pr_sd', y='residual', data=df_dict['BSGM']).set(title='Price Volatility versus Residual Intraday Volume - BSGM')"
   ]
  },
  {
   "cell_type": "code",
   "execution_count": null,
   "metadata": {},
   "outputs": [
    {
     "data": {
      "image/png": "[encoded data removed]",
      "text/plain": [
       "<Figure size 1800x360 with 1 Axes>"
      ]
     },
     "metadata": {
      "needs_background": "light"
     },
     "output_type": "display_data"
    }
   ],
   "source": [
    "#only the PVM model\n",
    "name = list(score_dict.keys())\n",
    "score = list(score_dict.values())\n",
    "fig = plt.figure(figsize =(25, 5))\n",
    "plt.bar(name, score,\n",
    "        width = 0.4)\n",
    "plt.xticks(rotation = 90)\n",
    "plt.show()"
   ]
  },
  {
   "cell_type": "markdown",
   "metadata": {},
   "source": [
    "# Error Analysis"
   ]
  },
  {
   "cell_type": "code",
   "execution_count": null,
   "metadata": {},
   "outputs": [],
   "source": [
    "GCBC =pd.read_csv('/Users/Mason/Downloads/Volatility/px/Px_EZPW.csv')"
   ]
  },
  {
   "cell_type": "code",
   "execution_count": null,
   "metadata": {},
   "outputs": [],
   "source": [
    "GCBC = GCBC[GCBC['date'] == '2021-10-04']"
   ]
  },
  {
   "cell_type": "code",
   "execution_count": null,
   "metadata": {},
   "outputs": [
    {
     "data": {
      "text/plain": [
       "array(['09:30:00', '09:31:00', '09:33:00', '09:34:00', '09:35:00',\n",
       "       '09:36:00', '09:37:00', '09:38:00', '09:40:00', '09:42:00',\n",
       "       '09:43:00', '09:45:00', '09:46:00', '09:47:00', '09:48:00',\n",
       "       '09:49:00', '09:50:00', '09:51:00', '09:52:00', '09:55:00',\n",
       "       '09:56:00', '09:57:00', '09:58:00', '10:01:00', '10:02:00',\n",
       "       '10:03:00', '10:04:00', '10:05:00', '10:06:00', '10:07:00',\n",
       "       '10:08:00', '10:09:00', '10:10:00', '10:11:00', '10:12:00',\n",
       "       '10:14:00', '10:15:00', '10:16:00', '10:17:00', '10:18:00',\n",
       "       '10:19:00', '10:20:00', '10:21:00', '10:22:00', '10:23:00',\n",
       "       '10:24:00', '10:26:00', '10:29:00', '10:30:00', '10:31:00',\n",
       "       '10:32:00', '10:33:00', '10:34:00', '10:35:00', '10:36:00',\n",
       "       '10:37:00', '10:38:00', '10:39:00', '10:40:00', '10:41:00',\n",
       "       '10:42:00', '10:43:00', '10:44:00', '10:45:00', '10:46:00',\n",
       "       '10:47:00', '10:48:00', '10:49:00', '10:50:00', '10:51:00',\n",
       "       '10:52:00', '10:53:00', '10:54:00', '10:55:00', '10:56:00',\n",
       "       '10:57:00', '10:58:00', '10:59:00', '11:00:00', '11:01:00',\n",
       "       '11:02:00', '11:03:00', '11:04:00', '11:05:00', '11:06:00',\n",
       "       '11:07:00', '11:08:00', '11:09:00', '11:11:00', '11:12:00',\n",
       "       '11:13:00', '11:14:00', '11:15:00', '11:16:00', '11:17:00',\n",
       "       '11:18:00', '11:19:00', '11:20:00', '11:21:00', '11:22:00',\n",
       "       '11:23:00', '11:24:00', '11:25:00', '11:26:00', '11:27:00',\n",
       "       '11:28:00', '11:29:00', '11:30:00', '11:31:00', '11:32:00',\n",
       "       '11:33:00', '11:34:00', '11:35:00', '11:36:00', '11:37:00',\n",
       "       '11:38:00', '11:39:00', '11:40:00', '11:41:00', '11:42:00',\n",
       "       '11:43:00', '11:44:00', '11:45:00', '11:46:00', '11:47:00',\n",
       "       '11:48:00', '11:49:00', '11:50:00', '11:51:00', '11:52:00',\n",
       "       '11:53:00', '11:54:00', '11:55:00', '11:56:00', '11:57:00',\n",
       "       '11:58:00', '11:59:00', '12:00:00', '12:01:00', '12:02:00',\n",
       "       '12:03:00', '12:04:00', '12:05:00', '12:06:00', '12:07:00',\n",
       "       '12:08:00', '12:09:00', '12:10:00', '12:11:00', '12:12:00',\n",
       "       '12:13:00', '12:14:00', '12:15:00', '12:16:00', '12:17:00',\n",
       "       '12:18:00', '12:19:00', '12:20:00', '12:21:00', '12:22:00',\n",
       "       '12:23:00', '12:24:00', '12:25:00', '12:26:00', '12:27:00',\n",
       "       '12:28:00', '12:29:00', '12:30:00', '12:31:00', '12:32:00',\n",
       "       '12:33:00', '12:34:00', '12:35:00', '12:36:00', '12:37:00',\n",
       "       '12:38:00', '12:39:00', '12:40:00', '12:41:00', '12:42:00',\n",
       "       '12:43:00', '12:44:00', '12:45:00', '12:46:00', '12:47:00',\n",
       "       '12:48:00', '12:49:00', '12:50:00', '12:51:00', '12:52:00',\n",
       "       '12:53:00', '12:54:00', '12:55:00', '12:56:00', '12:57:00',\n",
       "       '12:58:00', '12:59:00', '13:00:00', '13:01:00', '13:02:00',\n",
       "       '13:03:00', '13:04:00', '13:05:00', '13:06:00', '13:07:00',\n",
       "       '13:08:00', '13:09:00', '13:10:00', '13:11:00', '13:12:00',\n",
       "       '13:13:00', '13:14:00', '13:15:00', '13:16:00', '13:17:00',\n",
       "       '13:18:00', '13:19:00', '13:20:00', '13:21:00', '13:22:00',\n",
       "       '13:23:00', '13:24:00', '13:25:00', '13:26:00', '13:27:00',\n",
       "       '13:28:00', '13:29:00', '13:30:00', '13:31:00', '13:32:00',\n",
       "       '13:33:00', '13:34:00', '13:35:00', '13:36:00', '13:37:00',\n",
       "       '13:38:00', '13:39:00', '13:40:00', '13:41:00', '13:42:00',\n",
       "       '13:43:00', '13:44:00', '13:45:00', '13:46:00', '13:47:00',\n",
       "       '13:48:00', '13:49:00', '13:50:00', '13:51:00', '13:52:00',\n",
       "       '13:53:00', '13:54:00', '13:55:00', '13:56:00', '13:57:00',\n",
       "       '13:58:00', '13:59:00', '14:00:00', '14:01:00', '14:02:00',\n",
       "       '14:03:00', '14:04:00', '14:05:00', '14:06:00', '14:07:00',\n",
       "       '14:08:00', '14:09:00', '14:10:00', '14:11:00', '14:12:00',\n",
       "       '14:13:00', '14:14:00', '14:15:00', '14:16:00', '14:17:00',\n",
       "       '14:18:00', '14:19:00', '14:20:00', '14:21:00', '14:22:00',\n",
       "       '14:23:00', '14:24:00', '14:25:00', '14:26:00', '14:27:00',\n",
       "       '14:28:00', '14:29:00', '14:30:00', '14:31:00', '14:32:00',\n",
       "       '14:33:00', '14:34:00', '14:35:00', '14:36:00', '14:37:00',\n",
       "       '14:38:00', '14:39:00', '14:40:00', '14:41:00', '14:42:00',\n",
       "       '14:43:00', '14:44:00', '14:45:00', '14:46:00', '14:47:00',\n",
       "       '14:48:00', '14:49:00', '14:50:00', '14:51:00', '14:52:00',\n",
       "       '14:53:00', '14:54:00', '14:55:00', '14:56:00', '14:57:00',\n",
       "       '14:58:00', '14:59:00', '15:00:00', '15:01:00', '15:02:00',\n",
       "       '15:03:00', '15:04:00', '15:05:00', '15:06:00', '15:07:00',\n",
       "       '15:08:00', '15:09:00', '15:10:00', '15:11:00', '15:12:00',\n",
       "       '15:13:00', '15:14:00', '15:15:00', '15:16:00', '15:17:00',\n",
       "       '15:18:00', '15:19:00', '15:20:00', '15:21:00', '15:22:00',\n",
       "       '15:23:00', '15:24:00', '15:25:00', '15:26:00', '15:27:00',\n",
       "       '15:28:00', '15:29:00', '15:30:00', '15:31:00', '15:32:00',\n",
       "       '15:33:00', '15:34:00', '15:35:00', '15:36:00', '15:37:00',\n",
       "       '15:38:00', '15:39:00', '15:40:00', '15:41:00', '15:42:00',\n",
       "       '15:43:00', '15:44:00', '15:45:00', '15:46:00', '15:47:00',\n",
       "       '15:48:00', '15:49:00', '15:50:00', '15:51:00', '15:52:00',\n",
       "       '15:53:00', '15:54:00', '15:55:00', '15:56:00', '15:57:00',\n",
       "       '15:58:00', '15:59:00', '16:00:00', '16:01:00', '16:05:00',\n",
       "       '16:09:00', '16:18:00', '16:45:00'], dtype=object)"
      ]
     },
     "execution_count": 120,
     "metadata": {},
     "output_type": "execute_result"
    }
   ],
   "source": [
    "GCBC['time'].unique()"
   ]
  },
  {
   "cell_type": "code",
   "execution_count": null,
   "metadata": {},
   "outputs": [
    {
     "data": {
      "image/png": "[encoded data removed]",
      "text/plain": [
       "<Figure size 1296x576 with 1 Axes>"
      ]
     },
     "metadata": {
      "needs_background": "light"
     },
     "output_type": "display_data"
    }
   ],
   "source": [
    "fig, axs = plt.subplots(figsize=(18, 8))\n",
    "GCBC.plot.line(x=\"time\", y=\"price\", alpha=0.5, ax=axs)\n",
    "axs.set_ylabel(\"price\")\n",
    "axs.set_xlabel('time')\n",
    "fig.show()"
   ]
  },
  {
   "cell_type": "code",
   "execution_count": null,
   "metadata": {},
   "outputs": [],
   "source": []
  },
  {
   "cell_type": "code",
   "execution_count": null,
   "metadata": {},
   "outputs": [],
   "source": []
  },
  {
   "cell_type": "code",
   "execution_count": null,
   "metadata": {},
   "outputs": [],
   "source": []
  },
  {
   "cell_type": "code",
   "execution_count": null,
   "metadata": {},
   "outputs": [],
   "source": []
  },
  {
   "cell_type": "code",
   "execution_count": null,
   "metadata": {},
   "outputs": [],
   "source": []
  }
 ],
 "metadata": {
  "interpreter": {
   "hash": "aee8b7b246df8f9039afb4144a1f6fd8d2ca17a180786b69acc140d282b71a49"
  },
  "kernelspec": {
   "display_name": "Python 3 (ipykernel)",
   "language": "python",
   "name": "python3"
  },
  "language_info": {
   "codemirror_mode": {
    "name": "ipython",
    "version": 3
   },
   "file_extension": ".py",
   "mimetype": "text/x-python",
   "name": "python",
   "nbconvert_exporter": "python",
   "pygments_lexer": "ipython3",
   "version": "3.10.2"
  }
 },
 "nbformat": 4,
 "nbformat_minor": 2
}
