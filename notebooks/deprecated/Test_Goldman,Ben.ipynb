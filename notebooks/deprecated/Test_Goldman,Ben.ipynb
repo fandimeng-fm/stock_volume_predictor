{
 "cells": [
  {
   "cell_type": "code",
   "execution_count": 67,
   "id": "79ff2322",
   "metadata": {},
   "outputs": [],
   "source": [
    "import pandas as pd\n",
    "import numpy as np\n",
    "import sklearn as sci\n",
    "import matplotlib.pyplot as plt\n",
    "from datetime import datetime\n",
    "from datetime import timedelta\n",
    "from datetime import time"
   ]
  },
  {
   "cell_type": "code",
   "execution_count": 2,
   "id": "395ab331",
   "metadata": {},
   "outputs": [
    {
     "name": "stderr",
     "output_type": "stream",
     "text": [
      "/Users/bengoldman/opt/anaconda3/lib/python3.9/site-packages/IPython/core/interactiveshell.py:3444: DtypeWarning: Columns (3) have mixed types.Specify dtype option on import or set low_memory=False.\n",
      "  exec(code_obj, self.user_global_ns, self.user_ns)\n"
     ]
    }
   ],
   "source": [
    "## initial dataframe\n",
    "df = pd.read_csv(\"jejllavsnfamoexg.csv\")"
   ]
  },
  {
   "cell_type": "code",
   "execution_count": 20,
   "id": "06fa2f54",
   "metadata": {},
   "outputs": [],
   "source": [
    "#Stock Dataframes\n",
    "BAC = df.loc[df.SYM_ROOT == 'BAC'].reset_index().drop(['index'],axis=1)\n",
    "BBI = df.loc[df.SYM_ROOT == 'BBI'].reset_index().drop(['index'],axis=1)\n",
    "DIS = df.loc[df.SYM_ROOT == 'DIS'].reset_index().drop(['index'],axis=1)\n",
    "HD = df.loc[df.SYM_ROOT == 'HD'].reset_index().drop(['index'],axis=1)\n",
    "LUV = df.loc[df.SYM_ROOT == 'LUV'].reset_index().drop(['index'],axis=1)\n",
    "MRNA = df.loc[df.SYM_ROOT == 'MRNA'].reset_index().drop(['index'],axis=1)\n",
    "MSFT = df.loc[df.SYM_ROOT == 'MSFT'].reset_index().drop(['index'],axis=1)\n",
    "PYPL = df.loc[df.SYM_ROOT == 'PYPL'].reset_index().drop(['index'],axis=1)\n",
    "SPCE = df.loc[df.SYM_ROOT == 'SPCE'].reset_index().drop(['index'],axis=1)"
   ]
  },
  {
   "cell_type": "code",
   "execution_count": 19,
   "id": "164009a5",
   "metadata": {},
   "outputs": [],
   "source": [
    "##Test on BAC on 11/01/2021\n",
    "## Truncate the strings from milliseconds to seconds and set to date-time objects\n",
    "\n",
    "#read into datetime objects\n",
    "\n",
    "first = BAC.loc[BAC.DATE == '11/01/2021']\n",
    "def truncate(s):\n",
    "    return s[:-10]\n",
    "first.TIME_M = first.TIME_M.apply(truncate)\n",
    "volumes = first.groupby('TIME_M').SIZE.sum().array\n",
    "times = first.groupby('TIME_M').SIZE.sum().index\n",
    "df = first.groupby('TIME_M').SIZE.sum().to_frame()\n",
    "df = df.reset_index()\n",
    "\n",
    "#takes in date as a string in MM/DD/YYYY format\n",
    "#convert to 24 hour time for consistency\n",
    "\n",
    "df['TIME_M'] = pd.to_datetime(df['TIME_M'],format= '%H:%M:%S')\n",
    "def to24hours(t):\n",
    "    if t.hour < 5:\n",
    "        return datetime(t.year,t.month,t.day, t.hour + 12, t.minute, t.second)\n",
    "    else:\n",
    "        return t\n",
    "df['TIME_M']= df.TIME_M.apply(to24hours)\n",
    "def makeDateTime(x,date):\n",
    "    return datetime(int(date[6:]),int(date[:2]),int(date[3:5]), x.hour, x.minute, x.second)\n",
    "df['TIME_M'] = df.TIME_M.apply(makeDateTime, args = (\"11/01/2021\",))"
   ]
  },
  {
   "cell_type": "code",
   "execution_count": 117,
   "id": "f2398d50",
   "metadata": {},
   "outputs": [
    {
     "data": {
      "text/html": [
       "<div>\n",
       "<style scoped>\n",
       "    .dataframe tbody tr th:only-of-type {\n",
       "        vertical-align: middle;\n",
       "    }\n",
       "\n",
       "    .dataframe tbody tr th {\n",
       "        vertical-align: top;\n",
       "    }\n",
       "\n",
       "    .dataframe thead th {\n",
       "        text-align: right;\n",
       "    }\n",
       "</style>\n",
       "<table border=\"1\" class=\"dataframe\">\n",
       "  <thead>\n",
       "    <tr style=\"text-align: right;\">\n",
       "      <th></th>\n",
       "      <th>DATE</th>\n",
       "      <th>TIME_M</th>\n",
       "      <th>SYM_ROOT</th>\n",
       "      <th>SYM_SUFFIX</th>\n",
       "      <th>SIZE</th>\n",
       "    </tr>\n",
       "  </thead>\n",
       "  <tbody>\n",
       "    <tr>\n",
       "      <th>0</th>\n",
       "      <td>11/01/2021</td>\n",
       "      <td>4:00:00.015867648</td>\n",
       "      <td>BAC</td>\n",
       "      <td>NaN</td>\n",
       "      <td>11</td>\n",
       "    </tr>\n",
       "    <tr>\n",
       "      <th>1</th>\n",
       "      <td>11/01/2021</td>\n",
       "      <td>4:02:18.378850560</td>\n",
       "      <td>BAC</td>\n",
       "      <td>NaN</td>\n",
       "      <td>100</td>\n",
       "    </tr>\n",
       "    <tr>\n",
       "      <th>2</th>\n",
       "      <td>11/01/2021</td>\n",
       "      <td>4:02:18.378855424</td>\n",
       "      <td>BAC</td>\n",
       "      <td>NaN</td>\n",
       "      <td>2</td>\n",
       "    </tr>\n",
       "    <tr>\n",
       "      <th>3</th>\n",
       "      <td>11/01/2021</td>\n",
       "      <td>4:02:18.378855424</td>\n",
       "      <td>BAC</td>\n",
       "      <td>NaN</td>\n",
       "      <td>198</td>\n",
       "    </tr>\n",
       "    <tr>\n",
       "      <th>4</th>\n",
       "      <td>11/01/2021</td>\n",
       "      <td>4:04:06.842462720</td>\n",
       "      <td>BAC</td>\n",
       "      <td>NaN</td>\n",
       "      <td>130</td>\n",
       "    </tr>\n",
       "  </tbody>\n",
       "</table>\n",
       "</div>"
      ],
      "text/plain": [
       "         DATE             TIME_M SYM_ROOT SYM_SUFFIX  SIZE\n",
       "0  11/01/2021  4:00:00.015867648      BAC        NaN    11\n",
       "1  11/01/2021  4:02:18.378850560      BAC        NaN   100\n",
       "2  11/01/2021  4:02:18.378855424      BAC        NaN     2\n",
       "3  11/01/2021  4:02:18.378855424      BAC        NaN   198\n",
       "4  11/01/2021  4:04:06.842462720      BAC        NaN   130"
      ]
     },
     "execution_count": 117,
     "metadata": {},
     "output_type": "execute_result"
    }
   ],
   "source": [
    "## Produce the histogram of log volume\n",
    "#x-axis = array of datetime objects\n",
    "#y-axis = volumes\n",
    "#plt.plot(x,y)\n",
    "df = df.sort_values(by='TIME_M', ascending = 'False')\n",
    "x = df.TIME_M.values\n",
    "y = np.array(df.SIZE)\n",
    "y = np.log(y)\n",
    "fig = plt.figure()\n",
    "p = fig.add_subplot()\n",
    "p.plot(x,y)\n",
    "fig.show()\n",
    "plt.hist(y, bins = 100)"
   ]
  },
  {
   "cell_type": "code",
   "execution_count": null,
   "id": "4bddd2e1",
   "metadata": {},
   "outputs": [],
   "source": []
  }
 ],
 "metadata": {
  "kernelspec": {
   "display_name": "Python 3 (ipykernel)",
   "language": "python",
   "name": "python3"
  },
  "language_info": {
   "codemirror_mode": {
    "name": "ipython",
    "version": 3
   },
   "file_extension": ".py",
   "mimetype": "text/x-python",
   "name": "python",
   "nbconvert_exporter": "python",
   "pygments_lexer": "ipython3",
   "version": "3.9.7"
  }
 },
 "nbformat": 4,
 "nbformat_minor": 5
}
