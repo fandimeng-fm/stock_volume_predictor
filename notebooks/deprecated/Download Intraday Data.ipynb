{
 "cells": [
  {
   "cell_type": "code",
   "execution_count": 33,
   "metadata": {},
   "outputs": [],
   "source": [
    "import pandas as pd\n",
    "import numpy as np\n",
    "import wrds"
   ]
  },
  {
   "cell_type": "code",
   "execution_count": 34,
   "metadata": {},
   "outputs": [
    {
     "name": "stdout",
     "output_type": "stream",
     "text": [
      "Loading library list...\n",
      "Done\n"
     ]
    }
   ],
   "source": [
    "db = wrds.Connection()"
   ]
  },
  {
   "cell_type": "code",
   "execution_count": 37,
   "metadata": {},
   "outputs": [
    {
     "name": "stdout",
     "output_type": "stream",
     "text": [
      "The row count will return 0 due to the structure of TAQ\n",
      "There was a problem with retrievingthe row count: 'NoneType' object is not subscriptable\n",
      "Approximately 0 rows in taqmsec.ctm_20211231.\n"
     ]
    },
    {
     "data": {
      "text/html": [
       "<div>\n",
       "<style scoped>\n",
       "    .dataframe tbody tr th:only-of-type {\n",
       "        vertical-align: middle;\n",
       "    }\n",
       "\n",
       "    .dataframe tbody tr th {\n",
       "        vertical-align: top;\n",
       "    }\n",
       "\n",
       "    .dataframe thead th {\n",
       "        text-align: right;\n",
       "    }\n",
       "</style>\n",
       "<table border=\"1\" class=\"dataframe\">\n",
       "  <thead>\n",
       "    <tr style=\"text-align: right;\">\n",
       "      <th></th>\n",
       "      <th>name</th>\n",
       "      <th>nullable</th>\n",
       "      <th>type</th>\n",
       "    </tr>\n",
       "  </thead>\n",
       "  <tbody>\n",
       "    <tr>\n",
       "      <th>0</th>\n",
       "      <td>date</td>\n",
       "      <td>True</td>\n",
       "      <td>DATE</td>\n",
       "    </tr>\n",
       "    <tr>\n",
       "      <th>1</th>\n",
       "      <td>time_m</td>\n",
       "      <td>True</td>\n",
       "      <td>TIME WITHOUT TIME ZONE</td>\n",
       "    </tr>\n",
       "    <tr>\n",
       "      <th>2</th>\n",
       "      <td>ex</td>\n",
       "      <td>True</td>\n",
       "      <td>VARCHAR(1)</td>\n",
       "    </tr>\n",
       "    <tr>\n",
       "      <th>3</th>\n",
       "      <td>sym_root</td>\n",
       "      <td>True</td>\n",
       "      <td>VARCHAR(6)</td>\n",
       "    </tr>\n",
       "    <tr>\n",
       "      <th>4</th>\n",
       "      <td>sym_suffix</td>\n",
       "      <td>True</td>\n",
       "      <td>VARCHAR(10)</td>\n",
       "    </tr>\n",
       "    <tr>\n",
       "      <th>5</th>\n",
       "      <td>tr_scond</td>\n",
       "      <td>True</td>\n",
       "      <td>VARCHAR(4)</td>\n",
       "    </tr>\n",
       "    <tr>\n",
       "      <th>6</th>\n",
       "      <td>size</td>\n",
       "      <td>True</td>\n",
       "      <td>NUMERIC</td>\n",
       "    </tr>\n",
       "    <tr>\n",
       "      <th>7</th>\n",
       "      <td>price</td>\n",
       "      <td>True</td>\n",
       "      <td>NUMERIC</td>\n",
       "    </tr>\n",
       "    <tr>\n",
       "      <th>8</th>\n",
       "      <td>tr_stop_ind</td>\n",
       "      <td>True</td>\n",
       "      <td>VARCHAR(1)</td>\n",
       "    </tr>\n",
       "    <tr>\n",
       "      <th>9</th>\n",
       "      <td>tr_corr</td>\n",
       "      <td>True</td>\n",
       "      <td>VARCHAR(2)</td>\n",
       "    </tr>\n",
       "    <tr>\n",
       "      <th>10</th>\n",
       "      <td>tr_seqnum</td>\n",
       "      <td>True</td>\n",
       "      <td>NUMERIC</td>\n",
       "    </tr>\n",
       "    <tr>\n",
       "      <th>11</th>\n",
       "      <td>tr_id</td>\n",
       "      <td>True</td>\n",
       "      <td>VARCHAR(20)</td>\n",
       "    </tr>\n",
       "    <tr>\n",
       "      <th>12</th>\n",
       "      <td>tr_source</td>\n",
       "      <td>True</td>\n",
       "      <td>VARCHAR(1)</td>\n",
       "    </tr>\n",
       "    <tr>\n",
       "      <th>13</th>\n",
       "      <td>tr_rf</td>\n",
       "      <td>True</td>\n",
       "      <td>VARCHAR(1)</td>\n",
       "    </tr>\n",
       "    <tr>\n",
       "      <th>14</th>\n",
       "      <td>part_time</td>\n",
       "      <td>True</td>\n",
       "      <td>TIME WITHOUT TIME ZONE</td>\n",
       "    </tr>\n",
       "    <tr>\n",
       "      <th>15</th>\n",
       "      <td>trf_time</td>\n",
       "      <td>True</td>\n",
       "      <td>TIME WITHOUT TIME ZONE</td>\n",
       "    </tr>\n",
       "    <tr>\n",
       "      <th>16</th>\n",
       "      <td>tte_ind</td>\n",
       "      <td>True</td>\n",
       "      <td>VARCHAR(1)</td>\n",
       "    </tr>\n",
       "  </tbody>\n",
       "</table>\n",
       "</div>"
      ],
      "text/plain": [
       "           name  nullable                    type\n",
       "0          date      True                    DATE\n",
       "1        time_m      True  TIME WITHOUT TIME ZONE\n",
       "2            ex      True              VARCHAR(1)\n",
       "3      sym_root      True              VARCHAR(6)\n",
       "4    sym_suffix      True             VARCHAR(10)\n",
       "5      tr_scond      True              VARCHAR(4)\n",
       "6          size      True                 NUMERIC\n",
       "7         price      True                 NUMERIC\n",
       "8   tr_stop_ind      True              VARCHAR(1)\n",
       "9       tr_corr      True              VARCHAR(2)\n",
       "10    tr_seqnum      True                 NUMERIC\n",
       "11        tr_id      True             VARCHAR(20)\n",
       "12    tr_source      True              VARCHAR(1)\n",
       "13        tr_rf      True              VARCHAR(1)\n",
       "14    part_time      True  TIME WITHOUT TIME ZONE\n",
       "15     trf_time      True  TIME WITHOUT TIME ZONE\n",
       "16      tte_ind      True              VARCHAR(1)"
      ]
     },
     "execution_count": 37,
     "metadata": {},
     "output_type": "execute_result"
    }
   ],
   "source": [
    "#get table attributes for a sample day TAQ data\n",
    "db.describe_table(library='taqmsec', table='ctm_20211231')"
   ]
  },
  {
   "cell_type": "code",
   "execution_count": 97,
   "metadata": {},
   "outputs": [],
   "source": [
    "parm = {'tickers':('GOOG', 'GME', 'COUR', 'BK', 'NRG', 'LYB', 'UWMC', 'UNH', 'QSR', 'SPY'), 'frequency':'second'}"
   ]
  },
  {
   "cell_type": "code",
   "execution_count": 98,
   "metadata": {},
   "outputs": [],
   "source": [
    "data = db.raw_sql(\"SELECT date, date_trunc(%(frequency)s, time_m)::time AS time, sym_root, SUM(size) AS size FROM taqmsec.ctm_20211231 WHERE sym_root in %(tickers)s GROUP BY symroot, date, time ORDER BY time\", params=parm)"
   ]
  },
  {
   "cell_type": "code",
   "execution_count": 99,
   "metadata": {},
   "outputs": [],
   "source": [
    "data.to_csv('2021-12-31_stock_data_sec.csv')"
   ]
  },
  {
   "cell_type": "code",
   "execution_count": null,
   "metadata": {},
   "outputs": [],
   "source": []
  }
 ],
 "metadata": {
  "kernelspec": {
   "display_name": "Python 3",
   "language": "python",
   "name": "python3"
  },
  "language_info": {
   "codemirror_mode": {
    "name": "ipython",
    "version": 3
   },
   "file_extension": ".py",
   "mimetype": "text/x-python",
   "name": "python",
   "nbconvert_exporter": "python",
   "pygments_lexer": "ipython3",
   "version": "3.7.6"
  }
 },
 "nbformat": 4,
 "nbformat_minor": 4
}
