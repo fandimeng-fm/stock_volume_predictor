{
 "cells": [
  {
   "cell_type": "code",
   "execution_count": 1,
   "id": "290781e6",
   "metadata": {},
   "outputs": [],
   "source": [
    "import pandas as pd\n",
    "import numpy as np\n",
    "import csv\n",
    "from scipy import stats\n",
    "import math\n",
    "import matplotlib.pyplot as plt\n",
    "from pandas.plotting import autocorrelation_plot\n",
    "from statsmodels.tsa.arima.model import ARIMA\n",
    "from statsmodels.tsa.stattools import adfuller\n",
    "import datetime\n",
    "from datetime import datetime, timedelta\n",
    "import holidays\n",
    "pd.options.display.max_rows = 50\n",
    "import json\n",
    "pd.options.display.max_rows = 50\n",
    "pd.options.display.float_format = '{:.2f}'.format"
   ]
  },
  {
   "cell_type": "code",
   "execution_count": 2,
   "id": "2020ed5e",
   "metadata": {},
   "outputs": [],
   "source": [
    "from scipy.optimize import minimize"
   ]
  },
  {
   "cell_type": "code",
   "execution_count": 68,
   "id": "ce8d0fec",
   "metadata": {},
   "outputs": [],
   "source": [
    "def DailyModel(daily_data):\n",
    "    '''Calls all daily models, returns dictionary'''\n",
    "    estimated_daily = {}\n",
    "    estimated_daily['Daily'] = Model1(daily_data)\n",
    "    return Model1(daily_data)\n",
    "\n",
    "def arma_ale(daily_data):\n",
    "    ''' put it all together (make sure the date you want is within the testing set'''\n",
    "    modified_data = prep_data(daily_data)\n",
    "    train, test = split_dataset(modified_data, 0.7)\n",
    "    y_true = train['y_true'].values\n",
    "    res = minimize(my_objective, np.array([0.5, 0.5], dtype=float), args=train['y_true'].values)\n",
    "    phi, theta = res.x\n",
    "    test['y_hat'] = estimate_y(test['y_true'].values, phi, theta,0.7)\n",
    "    test['log_total_vol_hat'] = test['y_hat'] + test['log_20days_AM']\n",
    "    return test, phi, theta\n",
    "\n",
    "def Model1(daily_data):\n",
    "    output = arma_ale(daily_data)\n",
    "    return output[0]['log_total_vol_hat'], output[1], output[2]\n",
    "\n",
    "def prep_data(daily_data):\n",
    "    '''\n",
    "    Dataset preparation\n",
    "    Input:\n",
    "        csv_file (csv str) : your stock dataset\n",
    "        stock (str) : your chosen stock capitalized symbol\n",
    "    Output:\n",
    "         dataset\n",
    "    '''\n",
    "    daily_data['log_20days_AM'] = (np.log(daily_data['total_vol_m'])).rolling(20).mean()\n",
    "    daily_data['y_true'] = np.log(daily_data['total_vol_m']) - daily_data['log_20days_AM'].shift()\n",
    "    data = daily_data[20:]\n",
    "    data['log_total_vol_m'] = np.log(data['total_vol_m'])\n",
    "    data.set_index('DATE', inplace=True)\n",
    "\n",
    "    return data\n",
    "\n",
    "def split_dataset(dataset, split_level):\n",
    "    '''Split dataset into training set and testing set.'''\n",
    "    n = int(len(dataset) * split_level)\n",
    "    train = dataset[:n]\n",
    "    test = dataset[n:]\n",
    "    train.loc[:,'y_hat'] = estimate_y(train['y_true'].values, 0.7, -0.3, False)\n",
    "    return train, test\n",
    "\n",
    "# find y_hat given y_true\n",
    "# with unknown eps, phi, theta, we need to calculate them recursively\n",
    "# here assume the initial eps, which represents the error is zero\n",
    "def estimate_y(y_true, phi, theta, predict):\n",
    "    '''\n",
    "    Calculate y_hat based on known y_true\n",
    "    Input:\n",
    "        y_true (array): log(Vt) - 20-day moving average\n",
    "        phi(float): universal standard is about 0.7\n",
    "        theta(float): universal standard is about -0.3\n",
    "    Outputs:\n",
    "        y_hat (array):estimated y_true\n",
    "    '''\n",
    "    n = len(y_true)\n",
    "    y_hat = np.zeros(n)\n",
    "    eps = np.zeros(n)\n",
    "    for t in range(1, n):\n",
    "        y_hat[t] = phi * y_true[t - 1] + theta * eps[t - 1]\n",
    "        eps[t] = y_true[t] - y_hat[t]\n",
    "\n",
    "    if predict:\n",
    "        predict_y = phi * y_true[-1] + theta * eps[-1]\n",
    "        return predict_y\n",
    "    else:\n",
    "        return y_hat\n",
    "\n",
    "def my_objective(param, y_true):\n",
    "    '''\n",
    "    Objective loss function for minimizing\n",
    "    Find the Weighted Asymmetrical Logarithmic Error\n",
    "    Input:\n",
    "        param(float array): potential phi and theta\n",
    "        y_true (array): log(Vt) - 20-day moving average\n",
    "    Outputs:\n",
    "        ALE, weighted asymmetrical logarithmic error\n",
    "    '''\n",
    "    phi = param[0]\n",
    "    theta = param[1]\n",
    "    y_hat = estimate_y(y_true, phi, theta,0.7)\n",
    "    y_diff = y_hat - y_true\n",
    "    #ALE = np.sum((1.5 + 0.5 * np.sign(y_diff)) * np.abs(y_diff))\n",
    "    L1_v = np.sum(abs(y_diff/y_true)) # scaling matrics : sum of |v-v^|/v\n",
    "    return L1_v"
   ]
  },
  {
   "cell_type": "code",
   "execution_count": 106,
   "id": "2ea3771d",
   "metadata": {},
   "outputs": [
    {
     "name": "stderr",
     "output_type": "stream",
     "text": [
      "/var/folders/q9/_sd1wvk539z3rlt3ggffzzd00000gn/T/ipykernel_59073/2399445919.py:64: RuntimeWarning: overflow encountered in double_scalars\n",
      "  y_hat[t] = phi * y_true[t - 1] + theta * eps[t - 1]\n",
      "/Users/bengoldman/opt/anaconda3/lib/python3.9/site-packages/scipy/optimize/_numdiff.py:557: RuntimeWarning: invalid value encountered in subtract\n",
      "  df = fun(x) - f0\n",
      "/var/folders/q9/_sd1wvk539z3rlt3ggffzzd00000gn/T/ipykernel_59073/2399445919.py:64: RuntimeWarning: overflow encountered in double_scalars\n",
      "  y_hat[t] = phi * y_true[t - 1] + theta * eps[t - 1]\n",
      "/var/folders/q9/_sd1wvk539z3rlt3ggffzzd00000gn/T/ipykernel_59073/2399445919.py:64: RuntimeWarning: overflow encountered in double_scalars\n",
      "  y_hat[t] = phi * y_true[t - 1] + theta * eps[t - 1]\n",
      "/Users/bengoldman/opt/anaconda3/lib/python3.9/site-packages/scipy/optimize/_numdiff.py:557: RuntimeWarning: invalid value encountered in subtract\n",
      "  df = fun(x) - f0\n",
      "/var/folders/q9/_sd1wvk539z3rlt3ggffzzd00000gn/T/ipykernel_59073/2399445919.py:64: RuntimeWarning: overflow encountered in double_scalars\n",
      "  y_hat[t] = phi * y_true[t - 1] + theta * eps[t - 1]\n"
     ]
    },
    {
     "data": {
      "text/plain": [
       "<function matplotlib.pyplot.show(close=None, block=None)>"
      ]
     },
     "execution_count": 106,
     "metadata": {},
     "output_type": "execute_result"
    },
    {
     "data": {
      "image/png": "[encoded data removed]",
      "text/plain": [
       "<Figure size 432x288 with 1 Axes>"
      ]
     },
     "metadata": {
      "needs_background": "light"
     },
     "output_type": "display_data"
    }
   ],
   "source": [
    "stock=sp.loc[sp.symbol == 'BAC']\n",
    "theory = DailyModel(stock)[0].reset_index(drop=True)\n",
    "practice = stock.loc[stock.DATE > '2020-10-28'].log_vol.reset_index(drop=True)\n",
    "plt.plot(theory, color = 'r')\n",
    "plt.plot(practice, color = 'b')\n",
    "plt.show"
   ]
  },
  {
   "cell_type": "code",
   "execution_count": 73,
   "id": "6fa1150d",
   "metadata": {},
   "outputs": [],
   "source": [
    "sp = pd.read_csv(\"rhupna2taemg8rjb.csv\")\n",
    "sp['log_vol'] = np.log(sp.total_vol_m)\n",
    "sp['DATE']= pd.to_datetime(sp.DATE)\n",
    "sp['log_vol'] = np.log(sp.total_vol_m)\n",
    "tickers = sp.symbol.unique()\n",
    "days = sp.DATE.unique()"
   ]
  },
  {
   "cell_type": "code",
   "execution_count": 108,
   "id": "dbc6a1bf",
   "metadata": {},
   "outputs": [
    {
     "data": {
      "image/png": "[encoded data removed]",
      "text/plain": [
       "<Figure size 432x288 with 1 Axes>"
      ]
     },
     "metadata": {
      "needs_background": "light"
     },
     "output_type": "display_data"
    }
   ],
   "source": [
    "plt.scatter((theory - practice).shift(),theory - practice)\n",
    "plt.ylabel('Residual at time t-1')\n",
    "plt.xlabel('Residual at time t')\n",
    "plt.title('Lead Lag in Residuals for BAC')\n",
    "plt.savefig('RESIDUAL_BAC.png', dpi=300)"
   ]
  },
  {
   "cell_type": "code",
   "execution_count": 84,
   "id": "d3950f95",
   "metadata": {},
   "outputs": [
    {
     "data": {
      "text/plain": [
       "0     14.24\n",
       "1     15.26\n",
       "2     14.69\n",
       "3     14.22\n",
       "4     15.03\n",
       "       ... \n",
       "292   13.71\n",
       "293   13.62\n",
       "294   13.30\n",
       "295   13.58\n",
       "296   13.95\n",
       "Name: log_vol, Length: 297, dtype: float64"
      ]
     },
     "execution_count": 84,
     "metadata": {},
     "output_type": "execute_result"
    }
   ],
   "source": [
    "stock.loc[stock.DATE > '2020-10-28'].log_vol.reset_index(drop=True)"
   ]
  },
  {
   "cell_type": "code",
   "execution_count": 42,
   "id": "c834b567",
   "metadata": {},
   "outputs": [
    {
     "data": {
      "text/html": [
       "<div>\n",
       "<style scoped>\n",
       "    .dataframe tbody tr th:only-of-type {\n",
       "        vertical-align: middle;\n",
       "    }\n",
       "\n",
       "    .dataframe tbody tr th {\n",
       "        vertical-align: top;\n",
       "    }\n",
       "\n",
       "    .dataframe thead th {\n",
       "        text-align: right;\n",
       "    }\n",
       "</style>\n",
       "<table border=\"1\" class=\"dataframe\">\n",
       "  <thead>\n",
       "    <tr style=\"text-align: right;\">\n",
       "      <th></th>\n",
       "      <th>DATE</th>\n",
       "      <th>SYM_ROOT</th>\n",
       "      <th>symbol</th>\n",
       "      <th>CPrc</th>\n",
       "      <th>OPrc</th>\n",
       "      <th>total_vol_m</th>\n",
       "      <th>log_vol</th>\n",
       "    </tr>\n",
       "  </thead>\n",
       "  <tbody>\n",
       "    <tr>\n",
       "      <th>147954</th>\n",
       "      <td>2018-12-07</td>\n",
       "      <td>MRNA</td>\n",
       "      <td>MRNA</td>\n",
       "      <td>18.60</td>\n",
       "      <td>22.00</td>\n",
       "      <td>10701654.00</td>\n",
       "      <td>16.19</td>\n",
       "    </tr>\n",
       "    <tr>\n",
       "      <th>148582</th>\n",
       "      <td>2018-12-10</td>\n",
       "      <td>MRNA</td>\n",
       "      <td>MRNA</td>\n",
       "      <td>18.80</td>\n",
       "      <td>18.90</td>\n",
       "      <td>4128370.00</td>\n",
       "      <td>15.23</td>\n",
       "    </tr>\n",
       "    <tr>\n",
       "      <th>149214</th>\n",
       "      <td>2018-12-11</td>\n",
       "      <td>MRNA</td>\n",
       "      <td>MRNA</td>\n",
       "      <td>18.01</td>\n",
       "      <td>20.55</td>\n",
       "      <td>3302474.00</td>\n",
       "      <td>15.01</td>\n",
       "    </tr>\n",
       "    <tr>\n",
       "      <th>149845</th>\n",
       "      <td>2018-12-12</td>\n",
       "      <td>MRNA</td>\n",
       "      <td>MRNA</td>\n",
       "      <td>18.68</td>\n",
       "      <td>18.55</td>\n",
       "      <td>2572439.00</td>\n",
       "      <td>14.76</td>\n",
       "    </tr>\n",
       "    <tr>\n",
       "      <th>150477</th>\n",
       "      <td>2018-12-13</td>\n",
       "      <td>MRNA</td>\n",
       "      <td>MRNA</td>\n",
       "      <td>18.76</td>\n",
       "      <td>19.25</td>\n",
       "      <td>1597681.00</td>\n",
       "      <td>14.28</td>\n",
       "    </tr>\n",
       "    <tr>\n",
       "      <th>...</th>\n",
       "      <td>...</td>\n",
       "      <td>...</td>\n",
       "      <td>...</td>\n",
       "      <td>...</td>\n",
       "      <td>...</td>\n",
       "      <td>...</td>\n",
       "      <td>...</td>\n",
       "    </tr>\n",
       "    <tr>\n",
       "      <th>647198</th>\n",
       "      <td>2021-12-28</td>\n",
       "      <td>MRNA</td>\n",
       "      <td>MRNA</td>\n",
       "      <td>241.44</td>\n",
       "      <td>246.00</td>\n",
       "      <td>8789834.00</td>\n",
       "      <td>15.99</td>\n",
       "    </tr>\n",
       "    <tr>\n",
       "      <th>647848</th>\n",
       "      <td>2021-12-29</td>\n",
       "      <td>MRNA</td>\n",
       "      <td>MRNA</td>\n",
       "      <td>247.88</td>\n",
       "      <td>240.00</td>\n",
       "      <td>8902129.00</td>\n",
       "      <td>16.00</td>\n",
       "    </tr>\n",
       "    <tr>\n",
       "      <th>648498</th>\n",
       "      <td>2021-12-30</td>\n",
       "      <td>MRNA</td>\n",
       "      <td>MRNA</td>\n",
       "      <td>251.60</td>\n",
       "      <td>243.42</td>\n",
       "      <td>6424599.00</td>\n",
       "      <td>15.68</td>\n",
       "    </tr>\n",
       "    <tr>\n",
       "      <th>649147</th>\n",
       "      <td>2021-12-31</td>\n",
       "      <td>MRNA</td>\n",
       "      <td>MRNA</td>\n",
       "      <td>253.98</td>\n",
       "      <td>249.88</td>\n",
       "      <td>6670646.00</td>\n",
       "      <td>15.71</td>\n",
       "    </tr>\n",
       "    <tr>\n",
       "      <th>649796</th>\n",
       "      <td>2022-01-03</td>\n",
       "      <td>MRNA</td>\n",
       "      <td>MRNA</td>\n",
       "      <td>235.05</td>\n",
       "      <td>247.08</td>\n",
       "      <td>11569233.00</td>\n",
       "      <td>16.26</td>\n",
       "    </tr>\n",
       "  </tbody>\n",
       "</table>\n",
       "<p>774 rows × 7 columns</p>\n",
       "</div>"
      ],
      "text/plain": [
       "             DATE SYM_ROOT symbol   CPrc   OPrc  total_vol_m  log_vol\n",
       "147954 2018-12-07     MRNA   MRNA  18.60  22.00  10701654.00    16.19\n",
       "148582 2018-12-10     MRNA   MRNA  18.80  18.90   4128370.00    15.23\n",
       "149214 2018-12-11     MRNA   MRNA  18.01  20.55   3302474.00    15.01\n",
       "149845 2018-12-12     MRNA   MRNA  18.68  18.55   2572439.00    14.76\n",
       "150477 2018-12-13     MRNA   MRNA  18.76  19.25   1597681.00    14.28\n",
       "...           ...      ...    ...    ...    ...          ...      ...\n",
       "647198 2021-12-28     MRNA   MRNA 241.44 246.00   8789834.00    15.99\n",
       "647848 2021-12-29     MRNA   MRNA 247.88 240.00   8902129.00    16.00\n",
       "648498 2021-12-30     MRNA   MRNA 251.60 243.42   6424599.00    15.68\n",
       "649147 2021-12-31     MRNA   MRNA 253.98 249.88   6670646.00    15.71\n",
       "649796 2022-01-03     MRNA   MRNA 235.05 247.08  11569233.00    16.26\n",
       "\n",
       "[774 rows x 7 columns]"
      ]
     },
     "execution_count": 42,
     "metadata": {},
     "output_type": "execute_result"
    }
   ],
   "source": [
    "sp.loc[sp.symbol == 'MRNA']"
   ]
  },
  {
   "cell_type": "markdown",
   "id": "5b58c70f",
   "metadata": {},
   "source": [
    "#### To get the sector residual first - Sample: TECH"
   ]
  },
  {
   "cell_type": "code",
   "execution_count": 43,
   "id": "672a4469",
   "metadata": {},
   "outputs": [],
   "source": [
    "AAPL = sp.loc[sp.symbol == 'AAPL'].reset_index(drop=True)"
   ]
  },
  {
   "cell_type": "code",
   "execution_count": 47,
   "id": "f9e8490e",
   "metadata": {},
   "outputs": [
    {
     "data": {
      "text/plain": [
       "(711    18.56\n",
       " 712    18.59\n",
       " 713    19.01\n",
       " 714    18.37\n",
       " 715    18.54\n",
       "         ... \n",
       " 1003   18.28\n",
       " 1004   18.25\n",
       " 1005   17.96\n",
       " 1006   18.06\n",
       " 1007   18.03\n",
       " Name: log_total_vol_hat, Length: 297, dtype: float64,\n",
       " 0.5,\n",
       " 0.5)"
      ]
     },
     "execution_count": 47,
     "metadata": {},
     "output_type": "execute_result"
    }
   ],
   "source": []
  },
  {
   "cell_type": "code",
   "execution_count": 128,
   "id": "5bf94484",
   "metadata": {
    "scrolled": true
   },
   "outputs": [],
   "source": [
    "BAC = BAC.reset_index(drop=True)\n",
    "two = BAC.loc[BAC.index > 710].log_vol"
   ]
  },
  {
   "cell_type": "code",
   "execution_count": 145,
   "id": "0e02eabc",
   "metadata": {},
   "outputs": [
    {
     "data": {
      "text/plain": [
       "0.013514638911644757"
      ]
     },
     "execution_count": 145,
     "metadata": {},
     "output_type": "execute_result"
    },
    {
     "data": {
      "image/png": "[encoded data removed]",
      "text/plain": [
       "<Figure size 432x288 with 1 Axes>"
      ]
     },
     "metadata": {
      "needs_background": "light"
     },
     "output_type": "display_data"
    }
   ],
   "source": [
    "plt.plot(two, color = 'b')\n",
    "plt.plot(one,color = 'r')\n",
    "loss_function(two,one)/300"
   ]
  },
  {
   "cell_type": "code",
   "execution_count": 13,
   "id": "d4dd662c",
   "metadata": {},
   "outputs": [
    {
     "data": {
      "text/plain": [
       "DATE\n",
       "2019-06-07     NaN\n",
       "2019-06-10     NaN\n",
       "2019-06-11     NaN\n",
       "2019-06-12     NaN\n",
       "2019-06-13     NaN\n",
       "              ... \n",
       "2019-12-27   -0.29\n",
       "2019-12-30   -0.19\n",
       "2019-12-31   -0.30\n",
       "2020-01-02    0.18\n",
       "2020-01-03    0.06\n",
       "Length: 146, dtype: float64"
      ]
     },
     "execution_count": 13,
     "metadata": {},
     "output_type": "execute_result"
    }
   ],
   "source": [
    "sector_error = np.log(TECH[TECH.index >= '2019-09-24']['total_vol_m']) - DailyModel(TECH)[0]\n",
    "sector_error"
   ]
  },
  {
   "cell_type": "markdown",
   "id": "329865e7",
   "metadata": {},
   "source": [
    "### Getting the stock tickers in the sector and organize it into list"
   ]
  },
  {
   "cell_type": "code",
   "execution_count": null,
   "id": "7292da9b",
   "metadata": {},
   "outputs": [],
   "source": []
  },
  {
   "cell_type": "code",
   "execution_count": 188,
   "id": "b758c30e",
   "metadata": {},
   "outputs": [],
   "source": []
  },
  {
   "cell_type": "code",
   "execution_count": 15,
   "id": "2cd6ff1a",
   "metadata": {},
   "outputs": [],
   "source": []
  },
  {
   "cell_type": "code",
   "execution_count": 16,
   "id": "7bafa9c7",
   "metadata": {},
   "outputs": [],
   "source": []
  },
  {
   "cell_type": "code",
   "execution_count": 17,
   "id": "caf311ab",
   "metadata": {},
   "outputs": [],
   "source": []
  },
  {
   "cell_type": "code",
   "execution_count": 18,
   "id": "577df396",
   "metadata": {},
   "outputs": [],
   "source": []
  },
  {
   "cell_type": "code",
   "execution_count": 19,
   "id": "ca7c1fd8",
   "metadata": {},
   "outputs": [],
   "source": []
  }
 ],
 "metadata": {
  "kernelspec": {
   "display_name": "Python 3 (ipykernel)",
   "language": "python",
   "name": "python3"
  },
  "language_info": {
   "codemirror_mode": {
    "name": "ipython",
    "version": 3
   },
   "file_extension": ".py",
   "mimetype": "text/x-python",
   "name": "python",
   "nbconvert_exporter": "python",
   "pygments_lexer": "ipython3",
   "version": "3.9.7"
  }
 },
 "nbformat": 4,
 "nbformat_minor": 5
}
