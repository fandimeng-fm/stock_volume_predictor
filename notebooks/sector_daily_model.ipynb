{
 "cells": [
  {
   "cell_type": "code",
   "execution_count": 1,
   "id": "290781e6",
   "metadata": {},
   "outputs": [],
   "source": [
    "import pandas as pd\n",
    "import numpy as np\n",
    "import statsmodels.formula.api as smf\n",
    "import json\n",
    "pd.options.display.max_rows = 50\n",
    "pd.options.display.float_format = '{:.2f}'.format\n",
    "pd.options.mode.chained_assignment = None  # default='warn'"
   ]
  },
  {
   "cell_type": "code",
   "execution_count": 2,
   "id": "2020ed5e",
   "metadata": {},
   "outputs": [],
   "source": [
    "from scipy.optimize import minimize"
   ]
  },
  {
   "cell_type": "markdown",
   "id": "0e8c0b7a",
   "metadata": {},
   "source": [
    "#### code for ARMA without sector "
   ]
  },
  {
   "cell_type": "code",
   "execution_count": 3,
   "id": "ce8d0fec",
   "metadata": {},
   "outputs": [],
   "source": [
    "## just code for ARMA without sector \n",
    "\n",
    "def DailyModel(daily_data):\n",
    "\n",
    "    estimated_daily = {}\n",
    "    estimated_daily['Daily'] = Model1(daily_data)\n",
    "\n",
    "    return Model1(daily_data)\n",
    "\n",
    "def Model1(daily_data): #Does not currently work with the updated data inputs - WIP\n",
    "\n",
    "    output = arma_ale(daily_data)\n",
    "    return output[0]['log_total_vol_hat'], output[1], output[2]\n",
    "\n",
    "def arma_ale(daily_data):\n",
    "    ''' put it all together (make sure the date you want is within the testing set'''\n",
    "    modified_data = prep_data(daily_data)\n",
    "    train, test = split_dataset(modified_data, 0.7)\n",
    "    y_true = train['y_true'].values\n",
    "    res = minimize(my_objective, np.array([0.5, 0.5], dtype=float), args=y_true)\n",
    "    phi, theta = res.x\n",
    "    test['y_hat'] = estimate_y(test['y_true'].values, phi, theta)\n",
    "    test['log_total_vol_hat'] = test['y_hat'] + test['log_20days_AM']\n",
    "    return test, phi, theta\n",
    "\n",
    "# be sure to prepare the dataset for later calculation easily\n",
    "def prep_data(daily_data):\n",
    "    '''\n",
    "    Dataset preparation\n",
    "    Input:\n",
    "        csv_file (csv str) : your stock dataset\n",
    "        stock (str) : your chosen stock capitalized symbol\n",
    "    Output:\n",
    "         dataset\n",
    "    '''\n",
    "    daily_data['log_20days_AM'] = (np.log(daily_data['total_vol_m'])).shift().rolling(20).mean()\n",
    "    daily_data['y_true'] = np.log(daily_data['total_vol_m']) - daily_data['log_20days_AM']\n",
    "    data = daily_data[20:]\n",
    "    data['log_total_vol_m'] = np.log(data['total_vol_m'])\n",
    "    #data.set_index('DATE', inplace=True)\n",
    "\n",
    "    return data\n",
    "    \n",
    "def split_dataset(dataset, split_level):\n",
    "    '''Split dataset into training set and testing set.'''\n",
    "    n = int(len(dataset) * split_level)\n",
    "    train = dataset[:n]\n",
    "    test = dataset[n:]\n",
    "    train.loc[:,'y_hat'] = estimate_y(train['y_true'].values, 0.7, -0.3)\n",
    "    return train, test\n",
    "\n",
    "# find y_hat given y_true\n",
    "# with unknown eps, phi, theta, we need to calculate them recursively\n",
    "# here assume the initial eps, which represents the error is zero\n",
    "def estimate_y(y_true, phi, theta):\n",
    "    '''\n",
    "    Calculate y_hat based on known y_true\n",
    "    Input:\n",
    "        y_true (array): log(Vt) - 20-day moving average\n",
    "        phi(float): universal standard is about 0.7\n",
    "        theta(float): universal standard is about -0.3\n",
    "    Outputs:\n",
    "        y_hat (array):estimated y_true\n",
    "    '''\n",
    "    n = len(y_true)\n",
    "    y_hat = np.zeros(n)\n",
    "    eps = np.zeros(n)\n",
    "    for t in range(1, n):\n",
    "        y_hat[t] = phi * y_true[t - 1] + theta * eps[t - 1]\n",
    "        eps[t] = y_true[t] - y_hat[t]\n",
    "    return y_hat\n",
    "\n",
    "def my_objective(param, y_true):\n",
    "    '''\n",
    "    Objective loss function for minimizing\n",
    "    Find the Weighted Asymmetrical Logarithmic Error\n",
    "    Input:\n",
    "        param(float array): potential phi and theta\n",
    "        y_true (array): log(Vt) - 20-day moving average\n",
    "    Outputs:\n",
    "        ALE, weighted asymmetrical logarithmic error\n",
    "    '''\n",
    "    phi = param[0]\n",
    "    theta = param[1]\n",
    "    y_hat = estimate_y(y_true, phi, theta)\n",
    "    y_diff = y_hat - y_true\n",
    "    #ALE = np.sum((1.5 + 0.5 * np.sign(y_diff)) * np.abs(y_diff))\n",
    "    L1_v = np.sum(abs(y_diff/y_true)) # scaling matrics : sum of |v-v^|/v\n",
    "    return L1_v\n"
   ]
  },
  {
   "cell_type": "markdown",
   "id": "1c95b596",
   "metadata": {},
   "source": [
    "### code for ARMA with sector \n"
   ]
  },
  {
   "cell_type": "code",
   "execution_count": 4,
   "id": "8a0e7c21",
   "metadata": {},
   "outputs": [],
   "source": [
    "def DailyModel_sector(daily_data, sector_error): #Please get the sector_error from the ARMA running on sector vol first. See example for TECH below\n",
    "\n",
    "    estimated_daily = {}\n",
    "    estimated_daily['Daily'] = Model1_sector(daily_data, sector_error)[0]\n",
    "\n",
    "    return Model1_sector(daily_data, sector_error)\n",
    "\n",
    "def Model1_sector(daily_data, sector_error): \n",
    "\n",
    "    output = arma_ale_sector(daily_data, sector_error)\n",
    "    return output[0]['log_total_vol_hat'], output[1], output[2], output[3]\n",
    "\n",
    "def arma_ale_sector(daily_data, sector_error):\n",
    "    ''' put it all together (make sure the date you want is within the testing set'''\n",
    "    modified_data = prep_data(daily_data)\n",
    "    train, test = split_dataset_sector(modified_data, 0.7,sector_error)\n",
    "    y_true = train['y_true'].values\n",
    "    res = minimize(my_objective_sector, np.array([0.5, 0.5, 0.5], dtype=float), args=(y_true, sector_error))\n",
    "    phi, theta, s = res.x\n",
    "    test['y_hat'] = estimate_y_sector(test['y_true'].values, phi, theta, s, sector_error)\n",
    "    test['log_total_vol_hat'] = test['y_hat'] + test['log_20days_AM']\n",
    "    return test, phi, theta, s\n",
    "\n",
    "# be sure to prepare the dataset for later calculation easily\n",
    "def prep_data(daily_data):\n",
    "    '''\n",
    "    Dataset preparation\n",
    "    Input:\n",
    "        csv_file (csv str) : your stock dataset\n",
    "        stock (str) : your chosen stock capitalized symbol\n",
    "    Output:\n",
    "         dataset\n",
    "    '''\n",
    "    daily_data['log_20days_AM'] = (np.log(daily_data['total_vol_m'])).shift().rolling(20).mean()\n",
    "    daily_data['y_true'] = np.log(daily_data['total_vol_m']) - daily_data['log_20days_AM']\n",
    "    data = daily_data[20:]\n",
    "    data['log_total_vol_m'] = np.log(data['total_vol_m'])\n",
    "    #data.set_index('DATE', inplace=True)\n",
    "\n",
    "    return data\n",
    "    \n",
    "def split_dataset_sector(dataset, split_level, sector_error):\n",
    "    '''Split dataset into training set and testing set.'''\n",
    "    n = int(len(dataset) * split_level)\n",
    "    train = dataset[:n]\n",
    "    test = dataset[n:]\n",
    "    train.loc[:,'y_hat'] = estimate_y_sector(train['y_true'].values, 0.7, -0.3, 0.1, sector_error)\n",
    "    return train, test\n",
    "\n",
    "# find y_hat given y_true\n",
    "# with unknown eps, phi, theta, we need to calculate them recursively\n",
    "# here assume the initial eps, which represents the error is zero\n",
    "def estimate_y_sector(y_true, phi, theta, s, sector_err):\n",
    "    '''\n",
    "    Calculate y_hat based on known y_true\n",
    "    Input:\n",
    "        y_true (array): log(Vt) - 20-day moving average\n",
    "        phi(float): universal standard is about 0.7\n",
    "        theta(float): universal standard is about -0.3\n",
    "    Outputs:\n",
    "        y_hat (array):estimated y_true\n",
    "    '''\n",
    "    n = len(y_true)\n",
    "    y_hat = np.zeros(n)\n",
    "    eps = np.zeros(n)\n",
    "    for t in range(1, n):\n",
    "        y_hat[t] = phi * y_true[t - 1] + theta * eps[t - 1]\n",
    "        if n-t <= 71: #sector error's date starts from 2019-09-24, which is the testing part\n",
    "            y_hat[t] = phi * y_true[t - 1] + theta * eps[t - 1] + s*sector_err[65-(n-t)]\n",
    "        eps[t] = y_true[t] - y_hat[t]\n",
    "    return y_hat\n",
    "\n",
    "def my_objective_sector(param, y_true, sector_err):\n",
    "    '''\n",
    "    Objective loss function for minimizing\n",
    "    Find the Weighted Asymmetrical Logarithmic Error\n",
    "    Input:\n",
    "        param(float array): potential phi and theta\n",
    "        y_true (array): log(Vt) - 20-day moving average\n",
    "    Outputs:\n",
    "        ALE, weighted asymmetrical logarithmic error\n",
    "    '''\n",
    "    phi = param[0]\n",
    "    theta = param[1]\n",
    "    s = param[2]\n",
    "    y_hat = estimate_y_sector(y_true, phi, theta, s, sector_err)\n",
    "    y_diff = y_hat - y_true\n",
    "    #ALE = np.sum((1.5 + 0.5 * np.sign(y_diff)) * np.abs(y_diff))\n",
    "    L1_v = np.sum(abs(y_diff/y_true)) # scaling matrics : sum of |v-v^|/v\n",
    "    return L1_v\n"
   ]
  },
  {
   "cell_type": "code",
   "execution_count": 5,
   "id": "6fa1150d",
   "metadata": {},
   "outputs": [],
   "source": [
    "sp = pd.read_csv(\"/Users/zss/OneDrive - The University of Chicago/DRW_Trading/self_edit/SP500/SP500_daily/SP500_daily.csv\")\n",
    "sp['DATE'] = pd.to_datetime(sp['DATE'].astype(str), format='%Y%m%d')\n",
    "sp['DATE']= pd.to_datetime(sp.DATE)\n",
    "payload=pd.read_html('https://en.wikipedia.org/wiki/List_of_S%26P_500_companies')\n",
    "first_table = payload[0]\n",
    "second_table = payload[1]\n",
    "list = first_table.Symbol.unique()\n",
    "use = first_table[['Symbol','GICS Sector']]\n",
    "use.set_index\n",
    "use = use.rename(columns={\"GICS Sector\": \"Sector\"})\n",
    "use = use.set_index('Symbol')\n",
    "sp['Sector'] = sp.SYM_ROOT.map(use.to_dict()['Sector'])\n",
    "sp['log_vol'] = np.log(sp.total_vol_m)"
   ]
  },
  {
   "cell_type": "code",
   "execution_count": 6,
   "id": "ba53bbda",
   "metadata": {},
   "outputs": [],
   "source": [
    "sp = sp[sp.DATE <= '2020-01-03']"
   ]
  },
  {
   "cell_type": "code",
   "execution_count": 7,
   "id": "21d3d63b",
   "metadata": {},
   "outputs": [],
   "source": [
    "def get_Sector(Sect):\n",
    "    sector = sp.loc[sp.Sector == Sect].groupby(['DATE','symbol']).sum().groupby('DATE').sum()\n",
    "    sector.log_vol = np.log(sector.total_vol_m)\n",
    "    #sector['ave'] = sector.log_vol.rolling(20).mean()\n",
    "    #sector['sect_diff'] = sector.log_vol - sector.ave\n",
    "    return sector"
   ]
  },
  {
   "cell_type": "code",
   "execution_count": 8,
   "id": "f83a0f17",
   "metadata": {},
   "outputs": [],
   "source": [
    "TECH = get_Sector('Information Technology')\n",
    "FIN = get_Sector('Financials')\n",
    "CD = get_Sector('Consumer Discretionary')\n",
    "CS = get_Sector('Consumer Services')\n",
    "IN = get_Sector('Industrials')\n",
    "HC = get_Sector('Health Care')\n",
    "NRG = get_Sector('Energy')\n",
    "MAT = get_Sector('Materials')\n",
    "UTIL = get_Sector('Utilities')\n",
    "RE = get_Sector('Real Estate')"
   ]
  },
  {
   "cell_type": "markdown",
   "id": "5b58c70f",
   "metadata": {},
   "source": [
    "#### To get the sector residual first - Sample: TECH"
   ]
  },
  {
   "cell_type": "code",
   "execution_count": 9,
   "id": "90741e88",
   "metadata": {},
   "outputs": [
    {
     "data": {
      "text/html": [
       "<div>\n",
       "<style scoped>\n",
       "    .dataframe tbody tr th:only-of-type {\n",
       "        vertical-align: middle;\n",
       "    }\n",
       "\n",
       "    .dataframe tbody tr th {\n",
       "        vertical-align: top;\n",
       "    }\n",
       "\n",
       "    .dataframe thead th {\n",
       "        text-align: right;\n",
       "    }\n",
       "</style>\n",
       "<table border=\"1\" class=\"dataframe\">\n",
       "  <thead>\n",
       "    <tr style=\"text-align: right;\">\n",
       "      <th></th>\n",
       "      <th>CSize</th>\n",
       "      <th>OSize</th>\n",
       "      <th>total_vol_m</th>\n",
       "      <th>total_vol_b</th>\n",
       "      <th>total_vol_a</th>\n",
       "      <th>log_vol</th>\n",
       "    </tr>\n",
       "    <tr>\n",
       "      <th>DATE</th>\n",
       "      <th></th>\n",
       "      <th></th>\n",
       "      <th></th>\n",
       "      <th></th>\n",
       "      <th></th>\n",
       "      <th></th>\n",
       "    </tr>\n",
       "  </thead>\n",
       "  <tbody>\n",
       "    <tr>\n",
       "      <th>2019-01-02</th>\n",
       "      <td>32416203.00</td>\n",
       "      <td>3850781.00</td>\n",
       "      <td>397367674.00</td>\n",
       "      <td>2571073.00</td>\n",
       "      <td>33154290.00</td>\n",
       "      <td>19.80</td>\n",
       "    </tr>\n",
       "    <tr>\n",
       "      <th>2019-01-03</th>\n",
       "      <td>38925116.00</td>\n",
       "      <td>5369632.00</td>\n",
       "      <td>595120176.00</td>\n",
       "      <td>5408443.00</td>\n",
       "      <td>21271747.00</td>\n",
       "      <td>20.20</td>\n",
       "    </tr>\n",
       "    <tr>\n",
       "      <th>2019-01-04</th>\n",
       "      <td>51168636.00</td>\n",
       "      <td>3879372.00</td>\n",
       "      <td>534402051.00</td>\n",
       "      <td>3905021.00</td>\n",
       "      <td>16927214.00</td>\n",
       "      <td>20.10</td>\n",
       "    </tr>\n",
       "    <tr>\n",
       "      <th>2019-01-07</th>\n",
       "      <td>35883334.00</td>\n",
       "      <td>3763660.00</td>\n",
       "      <td>489958694.00</td>\n",
       "      <td>2877337.00</td>\n",
       "      <td>26037703.00</td>\n",
       "      <td>20.01</td>\n",
       "    </tr>\n",
       "    <tr>\n",
       "      <th>2019-01-08</th>\n",
       "      <td>32838919.00</td>\n",
       "      <td>4363839.00</td>\n",
       "      <td>471852435.00</td>\n",
       "      <td>3605866.00</td>\n",
       "      <td>23432553.00</td>\n",
       "      <td>19.97</td>\n",
       "    </tr>\n",
       "    <tr>\n",
       "      <th>...</th>\n",
       "      <td>...</td>\n",
       "      <td>...</td>\n",
       "      <td>...</td>\n",
       "      <td>...</td>\n",
       "      <td>...</td>\n",
       "      <td>...</td>\n",
       "    </tr>\n",
       "    <tr>\n",
       "      <th>2019-12-27</th>\n",
       "      <td>25229403.00</td>\n",
       "      <td>3019612.00</td>\n",
       "      <td>220010566.00</td>\n",
       "      <td>2188658.00</td>\n",
       "      <td>16649537.00</td>\n",
       "      <td>19.21</td>\n",
       "    </tr>\n",
       "    <tr>\n",
       "      <th>2019-12-30</th>\n",
       "      <td>19931808.00</td>\n",
       "      <td>2634059.00</td>\n",
       "      <td>239540453.00</td>\n",
       "      <td>1248575.00</td>\n",
       "      <td>10896338.00</td>\n",
       "      <td>19.29</td>\n",
       "    </tr>\n",
       "    <tr>\n",
       "      <th>2019-12-31</th>\n",
       "      <td>34827557.00</td>\n",
       "      <td>2423657.00</td>\n",
       "      <td>220419572.00</td>\n",
       "      <td>2287372.00</td>\n",
       "      <td>17975344.00</td>\n",
       "      <td>19.21</td>\n",
       "    </tr>\n",
       "    <tr>\n",
       "      <th>2020-01-02</th>\n",
       "      <td>31360381.00</td>\n",
       "      <td>4532136.00</td>\n",
       "      <td>351661765.00</td>\n",
       "      <td>2816002.00</td>\n",
       "      <td>26484856.00</td>\n",
       "      <td>19.68</td>\n",
       "    </tr>\n",
       "    <tr>\n",
       "      <th>2020-01-03</th>\n",
       "      <td>25246060.00</td>\n",
       "      <td>4972450.00</td>\n",
       "      <td>313877445.00</td>\n",
       "      <td>5121010.00</td>\n",
       "      <td>16975902.00</td>\n",
       "      <td>19.56</td>\n",
       "    </tr>\n",
       "  </tbody>\n",
       "</table>\n",
       "<p>254 rows × 6 columns</p>\n",
       "</div>"
      ],
      "text/plain": [
       "                 CSize      OSize  total_vol_m  total_vol_b  total_vol_a  \\\n",
       "DATE                                                                       \n",
       "2019-01-02 32416203.00 3850781.00 397367674.00   2571073.00  33154290.00   \n",
       "2019-01-03 38925116.00 5369632.00 595120176.00   5408443.00  21271747.00   \n",
       "2019-01-04 51168636.00 3879372.00 534402051.00   3905021.00  16927214.00   \n",
       "2019-01-07 35883334.00 3763660.00 489958694.00   2877337.00  26037703.00   \n",
       "2019-01-08 32838919.00 4363839.00 471852435.00   3605866.00  23432553.00   \n",
       "...                ...        ...          ...          ...          ...   \n",
       "2019-12-27 25229403.00 3019612.00 220010566.00   2188658.00  16649537.00   \n",
       "2019-12-30 19931808.00 2634059.00 239540453.00   1248575.00  10896338.00   \n",
       "2019-12-31 34827557.00 2423657.00 220419572.00   2287372.00  17975344.00   \n",
       "2020-01-02 31360381.00 4532136.00 351661765.00   2816002.00  26484856.00   \n",
       "2020-01-03 25246060.00 4972450.00 313877445.00   5121010.00  16975902.00   \n",
       "\n",
       "            log_vol  \n",
       "DATE                 \n",
       "2019-01-02    19.80  \n",
       "2019-01-03    20.20  \n",
       "2019-01-04    20.10  \n",
       "2019-01-07    20.01  \n",
       "2019-01-08    19.97  \n",
       "...             ...  \n",
       "2019-12-27    19.21  \n",
       "2019-12-30    19.29  \n",
       "2019-12-31    19.21  \n",
       "2020-01-02    19.68  \n",
       "2020-01-03    19.56  \n",
       "\n",
       "[254 rows x 6 columns]"
      ]
     },
     "execution_count": 9,
     "metadata": {},
     "output_type": "execute_result"
    }
   ],
   "source": [
    "TECH"
   ]
  },
  {
   "cell_type": "code",
   "execution_count": 10,
   "id": "5bf94484",
   "metadata": {},
   "outputs": [
    {
     "data": {
      "text/plain": [
       "DATE\n",
       "2019-09-24   19.81\n",
       "2019-09-25   19.59\n",
       "2019-09-26   19.48\n",
       "2019-09-27   19.74\n",
       "2019-09-30   19.55\n",
       "              ... \n",
       "2019-12-27   19.21\n",
       "2019-12-30   19.29\n",
       "2019-12-31   19.21\n",
       "2020-01-02   19.68\n",
       "2020-01-03   19.56\n",
       "Name: total_vol_m, Length: 71, dtype: float64"
      ]
     },
     "execution_count": 10,
     "metadata": {},
     "output_type": "execute_result"
    }
   ],
   "source": [
    "np.log(TECH[TECH.index >= '2019-09-24']['total_vol_m'])"
   ]
  },
  {
   "cell_type": "code",
   "execution_count": 11,
   "id": "0e02eabc",
   "metadata": {},
   "outputs": [
    {
     "data": {
      "text/plain": [
       "DATE\n",
       "2019-09-24   19.58\n",
       "2019-09-25   19.60\n",
       "2019-09-26   19.60\n",
       "2019-09-27   19.60\n",
       "2019-09-30   19.63\n",
       "              ... \n",
       "2019-12-27   19.47\n",
       "2019-12-30   19.47\n",
       "2019-12-31   19.50\n",
       "2020-01-02   19.48\n",
       "2020-01-03   19.51\n",
       "Name: log_total_vol_hat, Length: 71, dtype: float64"
      ]
     },
     "execution_count": 11,
     "metadata": {},
     "output_type": "execute_result"
    }
   ],
   "source": [
    "DailyModel(TECH)[0]"
   ]
  },
  {
   "cell_type": "code",
   "execution_count": 12,
   "id": "d4dd662c",
   "metadata": {},
   "outputs": [
    {
     "data": {
      "text/plain": [
       "DATE\n",
       "2019-09-24    0.23\n",
       "2019-09-25   -0.01\n",
       "2019-09-26   -0.12\n",
       "2019-09-27    0.15\n",
       "2019-09-30   -0.08\n",
       "              ... \n",
       "2019-12-27   -0.26\n",
       "2019-12-30   -0.18\n",
       "2019-12-31   -0.29\n",
       "2020-01-02    0.20\n",
       "2020-01-03    0.05\n",
       "Length: 71, dtype: float64"
      ]
     },
     "execution_count": 12,
     "metadata": {},
     "output_type": "execute_result"
    }
   ],
   "source": [
    "sector_error = np.log(TECH[TECH.index >= '2019-09-24']['total_vol_m']) - DailyModel(TECH)[0]\n",
    "sector_error"
   ]
  },
  {
   "cell_type": "markdown",
   "id": "329865e7",
   "metadata": {},
   "source": [
    "### Getting the stock tickers in the sector and organize it into list"
   ]
  },
  {
   "cell_type": "code",
   "execution_count": 13,
   "id": "7292da9b",
   "metadata": {},
   "outputs": [],
   "source": [
    "tech_df = pd.read_csv('/Users/zss/OneDrive - The University of Chicago/DRW_Trading/self_edit/ARMA/sector_arma/infotech-symbol.csv')\n",
    "fin_df = pd.read_csv('/Users/zss/OneDrive - The University of Chicago/DRW_Trading/self_edit/ARMA/sector_arma/financials-symbol.csv')\n",
    "ind_df = pd.read_csv('/Users/zss/OneDrive - The University of Chicago/DRW_Trading/self_edit/ARMA/sector_arma/industrials-symbol.csv')\n",
    "re_df = pd.read_csv('/Users/zss/OneDrive - The University of Chicago/DRW_Trading/self_edit/ARMA/sector_arma/real-estate-symbol.csv')\n",
    "utli_df = pd.read_csv('/Users/zss/OneDrive - The University of Chicago/DRW_Trading/self_edit/ARMA/sector_arma/utilities-symbol.csv')\n",
    "heath_df = pd.read_csv('/Users/zss/OneDrive - The University of Chicago/DRW_Trading/self_edit/ARMA/sector_arma/health-care-symbol.csv')"
   ]
  },
  {
   "cell_type": "code",
   "execution_count": 14,
   "id": "b758c30e",
   "metadata": {},
   "outputs": [],
   "source": [
    "tech_lst = tech_df['Symbol'].unique().tolist()[:-1] # the last one isnot related, is just the source tag where we download the csv\n",
    "fin_lst = fin_df['Symbol'].unique().tolist()[:-1]\n",
    "ind_lst = ind_df['Symbol'].unique().tolist()[:-1]\n",
    "re_lst = re_df['Symbol'].unique().tolist()[:-1]\n",
    "utli_lst = utli_df['Symbol'].unique().tolist()[:-1]\n",
    "health_lst = heath_df['Symbol'].unique().tolist()[:-1]"
   ]
  },
  {
   "cell_type": "code",
   "execution_count": 15,
   "id": "2cd6ff1a",
   "metadata": {},
   "outputs": [],
   "source": [
    "def get_one_stock(ticker):\n",
    "    '''getting one ticker from the sector stock list '''\n",
    "    stock = sp.loc[sp.symbol == ticker]\n",
    "    stock = stock.set_index(stock.DATE)\n",
    "    stock = stock.drop('DATE',axis=1)\n",
    "    return stock"
   ]
  },
  {
   "cell_type": "code",
   "execution_count": 16,
   "id": "7bafa9c7",
   "metadata": {},
   "outputs": [],
   "source": [
    "def dump(ticker, storage_dict, with_coeff,coeff, error, with_err):\n",
    "    '''dumping everything into the dictionary'''\n",
    "    storage_dict[ticker] = {'without': {'coefficient':coeff, 'residual':error}, \\\n",
    "                             'with': {'coefficient':with_coeff,'residual': with_err}}\n",
    "    return "
   ]
  },
  {
   "cell_type": "code",
   "execution_count": 208,
   "id": "caf311ab",
   "metadata": {},
   "outputs": [],
   "source": [
    "def update_storage(sector_lst,sector_err):\n",
    "    for ticker in sector_lst:\n",
    "        select_stock = get_one_stock(ticker)\n",
    "        w_sector = DailyModel_sector(select_stock, sector_err)\n",
    "        without_sector = DailyModel(select_stock)\n",
    "        true_vol = select_stock[select_stock.index >= '2019-09-24']['log_vol'].values #because all stocks splited in the same way, which is the same date\n",
    "        residual = np.sum(np.abs(true_vol - without_sector[0].values) / true_vol)\n",
    "        with_residual = np.sum(np.abs(true_vol - w_sector[0].values) / true_vol)\n",
    "        dump(ticker,stock_storage, tuple(w_sector[1:]), \\\n",
    "            tuple(without_sector[1:]),  residual, with_residual)"
   ]
  },
  {
   "cell_type": "code",
   "execution_count": 210,
   "id": "577df396",
   "metadata": {},
   "outputs": [],
   "source": [
    "stock_storage = {}"
   ]
  },
  {
   "cell_type": "code",
   "execution_count": 209,
   "id": "ca7c1fd8",
   "metadata": {},
   "outputs": [],
   "source": [
    "def go(sector_df, sector_lst):\n",
    "    sector_err = np.log(sector_df[sector_df.index >= '2019-09-24']['total_vol_m']) \\\n",
    "               - DailyModel(sector_df)[0]\n",
    "    update_storage(sector_lst, sector_err)"
   ]
  },
  {
   "cell_type": "code",
   "execution_count": 211,
   "id": "afa49eef",
   "metadata": {},
   "outputs": [],
   "source": [
    "go(UTIL, utli_lst)"
   ]
  },
  {
   "cell_type": "code",
   "execution_count": 212,
   "id": "256a24b7",
   "metadata": {},
   "outputs": [
    {
     "data": {
      "text/plain": [
       "dict_keys(['AEE', 'AEP', 'AES', 'ATO', 'AWK', 'CEG', 'CMS', 'CNP', 'D', 'DTE', 'DUK', 'ED', 'EIX', 'ES', 'ETR', 'EVRG', 'EXC', 'FE', 'LNT', 'NEE', 'NI', 'NRG', 'PEG', 'PNW', 'PPL', 'SO', 'SRE', 'WEC', 'XEL'])"
      ]
     },
     "execution_count": 212,
     "metadata": {},
     "output_type": "execute_result"
    }
   ],
   "source": [
    "stock_storage.keys()"
   ]
  },
  {
   "cell_type": "code",
   "execution_count": 215,
   "id": "b19213f8",
   "metadata": {},
   "outputs": [
    {
     "data": {
      "text/plain": [
       "28"
      ]
     },
     "execution_count": 215,
     "metadata": {},
     "output_type": "execute_result"
    }
   ],
   "source": [
    "utli_lst.index('XEL')"
   ]
  },
  {
   "cell_type": "code",
   "execution_count": 216,
   "id": "a7c3411d",
   "metadata": {},
   "outputs": [],
   "source": [
    "with open(\"utli_stocks_29.json\", \"w\") as outfile:\n",
    "    json.dump(stock_storage, outfile)"
   ]
  },
  {
   "cell_type": "markdown",
   "id": "899d9810",
   "metadata": {},
   "source": [
    "### Residual visualization"
   ]
  },
  {
   "cell_type": "code",
   "execution_count": 217,
   "id": "b3fb6506",
   "metadata": {},
   "outputs": [],
   "source": [
    "with open('/Users/zss/OneDrive - The University of Chicago/DRW_Trading/self_edit/ARMA/sector_arma/tech_stocks_75.json') as json_file:\n",
    "    tech = json.load(json_file)"
   ]
  },
  {
   "cell_type": "code",
   "execution_count": 218,
   "id": "a96ac441",
   "metadata": {},
   "outputs": [
    {
     "data": {
      "text/plain": [
       "dict_keys(['AAPL', 'ACN', 'ADBE', 'ADI', 'ADP', 'ADSK', 'AKAM', 'AMAT', 'AMD', 'ANET', 'ANSS', 'APH', 'AVGO', 'BR', 'CDAY', 'CDNS', 'CDW', 'CRM', 'CSCO', 'CTSH', 'CTXS', 'DXC', 'ENPH', 'EPAM', 'FFIV', 'FIS', 'FISV', 'FLT', 'FTNT', 'GLW', 'GPN', 'HPE', 'HPQ', 'IBM', 'INTC', 'INTU', 'IPGP', 'IT', 'JKHY', 'JNPR', 'KEYS', 'KLAC', 'LRCX', 'MA', 'MCHP', 'MPWR', 'MSFT', 'MSI', 'MU', 'NOW', 'NTAP', 'NVDA', 'NXPI', 'ORCL', 'PAYC', 'PAYX', 'PTC', 'PYPL', 'QCOM', 'QRVO', 'SEDG', 'SNPS', 'STX', 'SWKS', 'TDY', 'TEL', 'TER', 'TRMB', 'TXN', 'TYL', 'V', 'VRSN', 'WDC', 'ZBRA'])"
      ]
     },
     "execution_count": 218,
     "metadata": {},
     "output_type": "execute_result"
    }
   ],
   "source": [
    "tech.keys()"
   ]
  },
  {
   "cell_type": "code",
   "execution_count": 220,
   "id": "d0741a41",
   "metadata": {},
   "outputs": [
    {
     "data": {
      "text/plain": [
       "0.9646009316712677"
      ]
     },
     "execution_count": 220,
     "metadata": {},
     "output_type": "execute_result"
    }
   ],
   "source": [
    "tech['AAPL']['with']['residual']"
   ]
  },
  {
   "cell_type": "code",
   "execution_count": 221,
   "id": "804ca351",
   "metadata": {},
   "outputs": [
    {
     "data": {
      "text/plain": [
       "0.9702699648825772"
      ]
     },
     "execution_count": 221,
     "metadata": {},
     "output_type": "execute_result"
    }
   ],
   "source": [
    "tech['AAPL']['without']['residual']"
   ]
  },
  {
   "cell_type": "code",
   "execution_count": 223,
   "id": "ea1ce86c",
   "metadata": {},
   "outputs": [],
   "source": [
    "with_residual = []\n",
    "residual = []\n",
    "for key in tech.keys():\n",
    "    with_residual.append(tech[key]['with']['residual'])\n",
    "    residual.append(tech[key]['without']['residual'])"
   ]
  },
  {
   "cell_type": "code",
   "execution_count": 225,
   "id": "ec162a6e",
   "metadata": {},
   "outputs": [],
   "source": [
    "import seaborn as sns\n",
    "import matplotlib.pyplot as plt"
   ]
  },
  {
   "cell_type": "code",
   "execution_count": 227,
   "id": "fe13a4b3",
   "metadata": {},
   "outputs": [],
   "source": [
    "check = {'name':tech.keys(), 'with_sec': with_residual, 'raw':residual}"
   ]
  },
  {
   "cell_type": "code",
   "execution_count": 228,
   "id": "3c68d76a",
   "metadata": {},
   "outputs": [
    {
     "data": {
      "text/html": [
       "<div>\n",
       "<style scoped>\n",
       "    .dataframe tbody tr th:only-of-type {\n",
       "        vertical-align: middle;\n",
       "    }\n",
       "\n",
       "    .dataframe tbody tr th {\n",
       "        vertical-align: top;\n",
       "    }\n",
       "\n",
       "    .dataframe thead th {\n",
       "        text-align: right;\n",
       "    }\n",
       "</style>\n",
       "<table border=\"1\" class=\"dataframe\">\n",
       "  <thead>\n",
       "    <tr style=\"text-align: right;\">\n",
       "      <th></th>\n",
       "      <th>name</th>\n",
       "      <th>with_sec</th>\n",
       "      <th>raw</th>\n",
       "    </tr>\n",
       "  </thead>\n",
       "  <tbody>\n",
       "    <tr>\n",
       "      <th>0</th>\n",
       "      <td>AAPL</td>\n",
       "      <td>0.96</td>\n",
       "      <td>0.97</td>\n",
       "    </tr>\n",
       "    <tr>\n",
       "      <th>1</th>\n",
       "      <td>ACN</td>\n",
       "      <td>1.29</td>\n",
       "      <td>1.28</td>\n",
       "    </tr>\n",
       "    <tr>\n",
       "      <th>2</th>\n",
       "      <td>ADBE</td>\n",
       "      <td>1.58</td>\n",
       "      <td>1.57</td>\n",
       "    </tr>\n",
       "    <tr>\n",
       "      <th>3</th>\n",
       "      <td>ADI</td>\n",
       "      <td>1.75</td>\n",
       "      <td>1.73</td>\n",
       "    </tr>\n",
       "    <tr>\n",
       "      <th>4</th>\n",
       "      <td>ADP</td>\n",
       "      <td>1.53</td>\n",
       "      <td>1.51</td>\n",
       "    </tr>\n",
       "    <tr>\n",
       "      <th>...</th>\n",
       "      <td>...</td>\n",
       "      <td>...</td>\n",
       "      <td>...</td>\n",
       "    </tr>\n",
       "    <tr>\n",
       "      <th>69</th>\n",
       "      <td>TYL</td>\n",
       "      <td>1.76</td>\n",
       "      <td>1.75</td>\n",
       "    </tr>\n",
       "    <tr>\n",
       "      <th>70</th>\n",
       "      <td>V</td>\n",
       "      <td>1.10</td>\n",
       "      <td>1.24</td>\n",
       "    </tr>\n",
       "    <tr>\n",
       "      <th>71</th>\n",
       "      <td>VRSN</td>\n",
       "      <td>1.63</td>\n",
       "      <td>1.62</td>\n",
       "    </tr>\n",
       "    <tr>\n",
       "      <th>72</th>\n",
       "      <td>WDC</td>\n",
       "      <td>1.43</td>\n",
       "      <td>1.44</td>\n",
       "    </tr>\n",
       "    <tr>\n",
       "      <th>73</th>\n",
       "      <td>ZBRA</td>\n",
       "      <td>2.38</td>\n",
       "      <td>2.10</td>\n",
       "    </tr>\n",
       "  </tbody>\n",
       "</table>\n",
       "<p>74 rows × 3 columns</p>\n",
       "</div>"
      ],
      "text/plain": [
       "    name  with_sec  raw\n",
       "0   AAPL      0.96 0.97\n",
       "1    ACN      1.29 1.28\n",
       "2   ADBE      1.58 1.57\n",
       "3    ADI      1.75 1.73\n",
       "4    ADP      1.53 1.51\n",
       "..   ...       ...  ...\n",
       "69   TYL      1.76 1.75\n",
       "70     V      1.10 1.24\n",
       "71  VRSN      1.63 1.62\n",
       "72   WDC      1.43 1.44\n",
       "73  ZBRA      2.38 2.10\n",
       "\n",
       "[74 rows x 3 columns]"
      ]
     },
     "execution_count": 228,
     "metadata": {},
     "output_type": "execute_result"
    }
   ],
   "source": [
    "df = pd.DataFrame(check)\n",
    "df"
   ]
  },
  {
   "cell_type": "code",
   "execution_count": 299,
   "id": "7252ad8c",
   "metadata": {},
   "outputs": [
    {
     "data": {
      "image/png": "[encoded data removed]",
      "text/plain": [
       "<Figure size 1440x720 with 1 Axes>"
      ]
     },
     "metadata": {
      "needs_background": "light"
     },
     "output_type": "display_data"
    }
   ],
   "source": [
    "plt.figure(figsize=(20,10))\n",
    "\n",
    "plt.plot(df['name'], df['with_sec'], 'o', color='red')\n",
    "plt.plot(df['name'], df['with_sec'], color='red')\n",
    "plt.plot(df['name'], df['raw'], 'x', color='blue')\n",
    "plt.plot(df['name'], df['raw'], color='blue')\n",
    "plt.ylabel('Residual Sum Term')\n",
    "plt.title('Residuals in Sector Daily Model Versus Baseline')\n",
    "plt.xticks(rotation=90);\n"
   ]
  },
  {
   "cell_type": "code",
   "execution_count": 290,
   "id": "ef73e15a",
   "metadata": {},
   "outputs": [
    {
     "data": {
      "image/png": "[encoded data removed]",
      "text/plain": [
       "<Figure size 432x288 with 1 Axes>"
      ]
     },
     "metadata": {
      "needs_background": "light"
     },
     "output_type": "display_data"
    }
   ],
   "source": [
    "for ticker in tech.keys():\n",
    "    plt.xlabel('Residual Term Without Sector')\n",
    "    plt.ylabel('Residual Term With Sector')\n",
    "    plt.title('Residuals in Sector Daily Model Versus Baseline')\n",
    "    try:\n",
    "        with_s = tech[ticker]['with']['residual']\n",
    "        without_s = tech[ticker]['without']['residual']\n",
    "        plt.scatter(without_s,with_s)\n",
    "        plt.annotate(ticker,(without_s,with_s),fontsize=3)\n",
    "    except:\n",
    "        pass\n",
    "plt.xlim(1,2)\n",
    "plt.ylim(1,2)\n",
    "#plt.savefig('Comparison_Fin_Daily_regression.png', dpi=300)\n",
    "plt.show()"
   ]
  }
 ],
 "metadata": {
  "kernelspec": {
   "display_name": "Python 3 (ipykernel)",
   "language": "python",
   "name": "python3"
  },
  "language_info": {
   "codemirror_mode": {
    "name": "ipython",
    "version": 3
   },
   "file_extension": ".py",
   "mimetype": "text/x-python",
   "name": "python",
   "nbconvert_exporter": "python",
   "pygments_lexer": "ipython3",
   "version": "3.8.2"
  }
 },
 "nbformat": 4,
 "nbformat_minor": 5
}
