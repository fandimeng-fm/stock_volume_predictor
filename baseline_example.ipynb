{
 "cells": [
  {
   "cell_type": "markdown",
   "metadata": {},
   "source": [
    "# Baseline Model Sample Prediction\n",
    "\n",
    "The below outlines how to import the modules from the baseline model and generate predictions for a sample stock and date. "
   ]
  },
  {
   "cell_type": "code",
   "execution_count": 1,
   "metadata": {},
   "outputs": [],
   "source": [
    "from baseline.main_model import *"
   ]
  },
  {
   "cell_type": "code",
   "execution_count": 2,
   "metadata": {},
   "outputs": [],
   "source": [
    "intraday_file = 'data/russell/Russell_AGM.csv'\n",
    "daily_file = 'data/russell/russell_daily.csv'\n",
    "ticker = 'AGM'\n",
    "date = '2021-10-20'"
   ]
  },
  {
   "cell_type": "code",
   "execution_count": 3,
   "metadata": {},
   "outputs": [],
   "source": [
    "prediction = main(intraday_file, daily_file, ticker, date)"
   ]
  },
  {
   "cell_type": "code",
   "execution_count": 4,
   "metadata": {},
   "outputs": [
    {
     "data": {
      "text/plain": [
       "{'Daily': 28004.0, 'Open_Auction': 349.0, 'Close_Auction': 4260.0}"
      ]
     },
     "execution_count": 4,
     "metadata": {},
     "output_type": "execute_result"
    }
   ],
   "source": [
    "prediction['daily']"
   ]
  },
  {
   "cell_type": "code",
   "execution_count": 5,
   "metadata": {
    "scrolled": true
   },
   "outputs": [
    {
     "data": {
      "text/plain": [
       "09:31:00      36.0\n",
       "09:32:00      35.0\n",
       "09:33:00      39.0\n",
       "09:34:00      38.0\n",
       "09:35:00      40.0\n",
       "             ...  \n",
       "15:55:00     272.0\n",
       "15:56:00     311.0\n",
       "15:57:00     593.0\n",
       "15:58:00     395.0\n",
       "15:59:00    1633.0\n",
       "Name: est_vol, Length: 389, dtype: float64"
      ]
     },
     "execution_count": 5,
     "metadata": {},
     "output_type": "execute_result"
    }
   ],
   "source": [
    "prediction['intraday']"
   ]
  },
  {
   "cell_type": "code",
   "execution_count": null,
   "metadata": {},
   "outputs": [],
   "source": []
  }
 ],
 "metadata": {
  "kernelspec": {
   "display_name": "Python 3",
   "language": "python",
   "name": "python3"
  },
  "language_info": {
   "codemirror_mode": {
    "name": "ipython",
    "version": 3
   },
   "file_extension": ".py",
   "mimetype": "text/x-python",
   "name": "python",
   "nbconvert_exporter": "python",
   "pygments_lexer": "ipython3",
   "version": "3.7.6"
  }
 },
 "nbformat": 4,
 "nbformat_minor": 4
}
